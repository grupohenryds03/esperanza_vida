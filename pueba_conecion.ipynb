{
 "cells": [
  {
   "cell_type": "code",
   "execution_count": 2,
   "metadata": {},
   "outputs": [],
   "source": [
    "import snowflake.connector\n",
    "from snow import *\n",
    "import pandas as pd"
   ]
  },
  {
   "cell_type": "code",
   "execution_count": 3,
   "metadata": {},
   "outputs": [
    {
     "ename": "AttributeError",
     "evalue": "module 'conexion.snow' has no attribute 'user'",
     "output_type": "error",
     "traceback": [
      "\u001b[0;31m---------------------------------------------------------------------------\u001b[0m",
      "\u001b[0;31mAttributeError\u001b[0m                            Traceback (most recent call last)",
      "Cell \u001b[0;32mIn [3], line 2\u001b[0m\n\u001b[1;32m      1\u001b[0m conn\u001b[39m=\u001b[39msnowflake\u001b[39m.\u001b[39mconnector\u001b[39m.\u001b[39mconnect(\n\u001b[0;32m----> 2\u001b[0m         user\u001b[39m=\u001b[39msnow\u001b[39m.\u001b[39;49muser,\n\u001b[1;32m      3\u001b[0m         password\u001b[39m=\u001b[39msnow\u001b[39m.\u001b[39mpassword,\n\u001b[1;32m      4\u001b[0m         account\u001b[39m=\u001b[39msnow\u001b[39m.\u001b[39maccount,\n\u001b[1;32m      5\u001b[0m         warehouse\u001b[39m=\u001b[39msnow\u001b[39m.\u001b[39mwarehouse,\n\u001b[1;32m      6\u001b[0m         database\u001b[39m=\u001b[39msnow\u001b[39m.\u001b[39mdatabase)\n",
      "\u001b[0;31mAttributeError\u001b[0m: module 'conexion.snow' has no attribute 'user'"
     ]
    }
   ],
   "source": [
    "conn=snowflake.connector.connect(\n",
    "        user=snow_user,\n",
    "        password=snow_password,\n",
    "        account=snow_account,\n",
    "        warehouse=snow_warehouse,\n",
    "        database=snow_database)"
   ]
  },
  {
   "cell_type": "code",
   "execution_count": null,
   "metadata": {},
   "outputs": [],
   "source": [
    "sql_ind=\"SELECT i.ID_INDICADOR , i.CODIGO, i.DESCRIPCION FROM INDICADOR i JOIN (SELECT DISTINCT ID_INDICADOR FROM EV) e ON e.ID_INDICADOR=i.ID_INDICADOR\"\n",
    "df_ind=pd.read_sql(sql_ind,conn) # dataframe indicadores\n"
   ]
  }
 ],
 "metadata": {
  "kernelspec": {
   "display_name": "Python 3.10.8 64-bit",
   "language": "python",
   "name": "python3"
  },
  "language_info": {
   "codemirror_mode": {
    "name": "ipython",
    "version": 3
   },
   "file_extension": ".py",
   "mimetype": "text/x-python",
   "name": "python",
   "nbconvert_exporter": "python",
   "pygments_lexer": "ipython3",
   "version": "3.10.8"
  },
  "orig_nbformat": 4,
  "vscode": {
   "interpreter": {
    "hash": "aee8b7b246df8f9039afb4144a1f6fd8d2ca17a180786b69acc140d282b71a49"
   }
  }
 },
 "nbformat": 4,
 "nbformat_minor": 2
}
