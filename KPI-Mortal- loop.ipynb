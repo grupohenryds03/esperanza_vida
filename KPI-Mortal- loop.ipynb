{
 "cells": [
  {
   "cell_type": "code",
   "execution_count": 1,
   "metadata": {},
   "outputs": [],
   "source": [
    "import numpy as np\n",
    "import pandas as pd\n",
    "import matplotlib.pyplot as plt\n",
    "import seaborn as sns\n",
    "import pycaret\n",
    "from pycaret.time_series import *\n",
    "import wbgapi as wb"
   ]
  },
  {
   "cell_type": "code",
   "execution_count": 2,
   "metadata": {},
   "outputs": [],
   "source": [
    "pais=['USA','CAN','MEX','CRI','PAN','BRA','ARG','CHL','URY','BOL','PER','EGY','LBY','ZAF','NGA','MAR','AUS','CHN','IND','THA','JPN','KOR','ISR','SAU','MYS','IDN','RUS','TUR','ESP','BGR','FRA','ITA','DEU','GBR','NOR','SWE','GRC']\n",
    "pais_lista=[]\n",
    "ev_2020_lista=[]\n",
    "ev_2025_lista=[]\n",
    "ev_2025_mejora_lista=[]"
   ]
  },
  {
   "cell_type": "code",
   "execution_count": 3,
   "metadata": {},
   "outputs": [],
   "source": [
    "for i in pais:    \n",
    "    data = wb.data.DataFrame(['SP.DYN.LE00.IN','SP.DYN.IMRT.IN'], i, columns='time',time= range(1960,2021), numericTimeKeys=True)\n",
    "    pais_lista.append(i)\n",
    "    \n",
    "    data =data.transpose()\n",
    "    data['EV_Total']=data['SP.DYN.LE00.IN']\n",
    "    data['Mortalidad_Infantil']=data['SP.DYN.IMRT.IN']\n",
    "    data.drop(['SP.DYN.LE00.IN','SP.DYN.IMRT.IN'], axis = 1,inplace=True)\n",
    "    data2 = data.copy()\n",
    "    data['date']=data.index\n",
    "    data['date'] = pd.to_datetime(data['date'],format='%Y')\n",
    "    data=data.set_index('date')\n",
    "    ev_2020_lista.append(data['EV_Total'].tail(1).values)\n",
    "    metric = \"mase\"\n",
    "    exclude = [\"auto_arima\", \"bats\", \"tbats\", \"lar_cds_dt\", \"par_cds_dt\"]\n",
    "\n",
    "    s = setup(data,target='EV_Total', fh = 10,\n",
    "                enforce_exogenous = False, numeric_imputation_exogenous=\"linear\", numeric_imputation_target= \"linear\", verbose=False) \n",
    "                \n",
    "    best =  s.compare_models(n_select=1, turbo=True,verbose=False, exclude = [\"omp_cds_dt\"])\n",
    "\n",
    "    final_best1 = finalize_model(best)\n",
    "\n",
    "    df_fut1=predict_model(best, fh = 15)\n",
    "    ev_2025_lista.append(df_fut1['y_pred'].tail(1).values)\n",
    "\n",
    "    i = 1\n",
    "    year2 = (2020 + i)\n",
    "    while i < 5:\n",
    "        #metric = \"mase\"\n",
    "        #exclude = [\"auto_arima\", \"bats\", \"tbats\", \"lar_cds_dt\", \"par_cds_dt\"]\n",
    "        s = setup(data,target='EV_Total', fh = 10,\n",
    "                    enforce_exogenous = False, numeric_imputation_exogenous=\"linear\", numeric_imputation_target= \"linear\", verbose=False) \n",
    "        best =  s.compare_models(n_select=1, turbo=True,verbose=False, exclude = [\"omp_cds_dt\"])#, exclude = [\"rf_cds_dt\"]\n",
    "\n",
    "        final_best = finalize_model(best)\n",
    "\n",
    "        df_fut=predict_model(best, fh = 11)\n",
    "\n",
    "        new_mort=(data.loc[data.index[-1], \"Mortalidad_Infantil\"])*0.9\n",
    "        new_ev = df_fut.loc[df_fut.index[-1], \"y_pred\"]\n",
    "\n",
    "        new_row = {'index':year2, 'EV_Total':new_ev, 'Mortalidad_Infantil':new_mort}\n",
    "        #data2=(data.tail(1).index[0]+pd.Timedelta(days=366))\n",
    "        data2=(data.tail(1).index[0]+pd.offsets.DateOffset(years=1))\n",
    "        data.loc[data2]=new_row\n",
    "\n",
    "        i+=1\n",
    "\n",
    "    s = setup(data,target='EV_Total', fh = 10,\n",
    "                enforce_exogenous = False, numeric_imputation_exogenous=\"linear\", numeric_imputation_target= \"linear\", verbose=False) \n",
    "    best =  s.compare_models(n_select=1, turbo=True,verbose=False, exclude = [\"omp_cds_dt\"])\n",
    "\n",
    "    final_best = finalize_model(best)\n",
    "\n",
    "    df_fut2=predict_model(best, fh = 11)\n",
    "    ev_2025_mejora_lista.append(df_fut2['y_pred'].tail(1).values)\n",
    "    "
   ]
  },
  {
   "cell_type": "code",
   "execution_count": 15,
   "metadata": {},
   "outputs": [],
   "source": [
    "resultados = pd.DataFrame(pais_lista, columns=['Pais'])\n",
    "resultados1 = pd.DataFrame(ev_2020_lista, columns=['EV_2020'])\n",
    "resultados2 = pd.DataFrame(ev_2025_lista, columns=['EV_2025'])\n",
    "resultados3 = pd.DataFrame(ev_2025_mejora_lista, columns=['EV_2025_Mejora'])\n",
    "resultado = pd.concat([resultados,resultados1,resultados2,resultados3],axis=1)\n",
    "resultado.head()"
   ]
  }
 ],
 "metadata": {
  "kernelspec": {
   "display_name": "Python 3.10.4 64-bit",
   "language": "python",
   "name": "python3"
  },
  "language_info": {
   "codemirror_mode": {
    "name": "ipython",
    "version": 3
   },
   "file_extension": ".py",
   "mimetype": "text/x-python",
   "name": "python",
   "nbconvert_exporter": "python",
   "pygments_lexer": "ipython3",
   "version": "3.10.4"
  },
  "orig_nbformat": 4,
  "vscode": {
   "interpreter": {
    "hash": "fb4569285eef3a3450cb62085a5b1e0da4bce0af555edc33dcf29baf3acc1368"
   }
  }
 },
 "nbformat": 4,
 "nbformat_minor": 2
}
