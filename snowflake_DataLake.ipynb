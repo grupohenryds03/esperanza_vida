{
 "cells": [
  {
   "cell_type": "code",
   "execution_count": 1,
   "metadata": {},
   "outputs": [
    {
     "name": "stderr",
     "output_type": "stream",
     "text": [
      "c:\\Users\\Jhovany Lara\\AppData\\Local\\Programs\\Python\\Python310\\lib\\site-packages\\snowflake\\connector\\options.py:96: UserWarning: You have an incompatible version of 'pyarrow' installed (9.0.0), please install a version that adheres to: 'pyarrow<8.1.0,>=8.0.0; extra == \"pandas\"'\n",
      "  warn_incompatible_dep(\n"
     ]
    }
   ],
   "source": [
    "# se importa el conector de snowflake\n",
    "import snowflake.connector \n",
    "# se importa del modulo de swnoflake la herramienta de pandas para ingestar un dataframe a una tabla de snowflake\n",
    "from snowflake.connector.pandas_tools import write_pandas \n",
    "import pandas as pd"
   ]
  },
  {
   "cell_type": "code",
   "execution_count": 2,
   "metadata": {},
   "outputs": [],
   "source": [
    "#se crea conexión\n",
    "conn = snowflake.connector.connect(\n",
    "    user='grupods03',\n",
    "    password='Henry2022#',\n",
    "    account='nr28668.sa-east-1.aws')\n",
    "    #warehouse='PRUEBA',\n",
    "    #role ='ACCOUNTADMIN',\n",
    "    #schema ='PUBLIC')"
   ]
  },
  {
   "cell_type": "code",
   "execution_count": 3,
   "metadata": {},
   "outputs": [],
   "source": [
    "def execute_query(connection, query):\n",
    "    cursor = connection.cursor() # se inicializa la conexión Creates a cursor object. Each statement will be executed in a new cursor object.\n",
    "    cursor.execute(query)\n",
    "    cursor.close()"
   ]
  },
  {
   "cell_type": "code",
   "execution_count": null,
   "metadata": {},
   "outputs": [],
   "source": [
    "query = \"Create database LAKE\" # se inicializa en EV\n",
    "\n",
    "execute_query(conn, query)"
   ]
  },
  {
   "cell_type": "code",
   "execution_count": 5,
   "metadata": {},
   "outputs": [],
   "source": [
    "query = \"Use database LAKE\" # se inicializa en database prueba\n",
    "\n",
    "execute_query(conn, query)"
   ]
  },
  {
   "cell_type": "code",
   "execution_count": null,
   "metadata": {},
   "outputs": [],
   "source": [
    "query = \"Create warehouse DW_EV\" # se inicializa en database prueba\n",
    "\n",
    "execute_query(conn, query)"
   ]
  },
  {
   "cell_type": "code",
   "execution_count": 6,
   "metadata": {},
   "outputs": [],
   "source": [
    "query = \"Use warehouse DW_EV\" # se inicializa en database prueba\n",
    "\n",
    "execute_query(conn, query)"
   ]
  },
  {
   "cell_type": "code",
   "execution_count": null,
   "metadata": {},
   "outputs": [],
   "source": [
    "viewquery =\"\"\"\n",
    "    create or replace TABLE CONTINENTE (\n",
    "\tID_CONTINENTE INTEGER NOT NULL,\n",
    "\tCONTINENTE VARCHAR(20) NOT NULL,\n",
    "\tconstraint PKEY_1 primary key (ID_CONTINENTE)\n",
    "    );\"\"\" # se crea la tabla CONTINENTE\n",
    "\n",
    "execute_query(viewquery)"
   ]
  },
  {
   "cell_type": "code",
   "execution_count": 24,
   "metadata": {},
   "outputs": [],
   "source": [
    "viewquery =\"\"\"\n",
    "    DROP TABLE INCOME;\n",
    "    \"\"\" # se borra la tabla INCOME\n",
    "\n",
    "execute_query(conn, viewquery)"
   ]
  },
  {
   "cell_type": "code",
   "execution_count": 25,
   "metadata": {},
   "outputs": [],
   "source": [
    "viewquery =\"\"\"\n",
    "    create or replace TABLE INCOME (\n",
    "\tID_INCOME VARCHAR(7) NOT NULL,\n",
    "\tINCOME VARCHAR(30),\n",
    "\tconstraint PKEY_1 primary key (ID_INCOME)\n",
    "    );\"\"\" # se crea la tabla INCOME\n",
    "\n",
    "execute_query(conn, viewquery)"
   ]
  },
  {
   "cell_type": "code",
   "execution_count": null,
   "metadata": {},
   "outputs": [],
   "source": [
    "viewquery =\"\"\"\n",
    "    create or replace TABLE INDICADOR (\n",
    "\tID_INDICADOR VARCHAR(20) NOT NULL,\n",
    "\tCODIGO VARCHAR(20) NOT NULL,\n",
    "\tDESCRIPCION VARCHAR(16777216),\n",
    "\tconstraint PKEY_1 primary key (ID_INDICADOR)\n",
    "    );\"\"\" # se crea la tabla INDICADOR\n",
    "\n",
    "execute_query(viewquery)"
   ]
  },
  {
   "cell_type": "code",
   "execution_count": null,
   "metadata": {},
   "outputs": [],
   "source": [
    "viewquery =\"\"\"\n",
    "    create or replace TABLE PAIS (\n",
    "\tID_PAIS VARCHAR(3) NOT NULL,\n",
    "\tNOMBRE VARCHAR(30) NOT NULL,\n",
    "\tconstraint PKEY_1 primary key (ID_PAIS)\n",
    "    );\"\"\" # se crea la tabla PAIS\n",
    "\n",
    "execute_query(viewquery)"
   ]
  },
  {
   "cell_type": "code",
   "execution_count": null,
   "metadata": {},
   "outputs": [],
   "source": [
    "viewquery =\"\"\"\n",
    "    create or replace TABLE EV (\n",
    "\tID_PAIS VARCHAR(3) NOT NULL,\n",
    "\tID_CONTINENTE INTEGER NOT NULL,\n",
    "\tID_INDICADOR VARCHAR(20) NOT NULL,\n",
    "\tID_INCOME VARCHAR(7) NOT NULL,\n",
    "\tANIO INTEGER NOT NULL,\n",
    "\tconstraint FKEY_1 foreign key (ID_PAIS) references PAIS(ID_PAIS),\n",
    "\tconstraint FKEY_2 foreign key (ID_CONTINENTE) references CONTINENTE(ID_CONTINENTE),\n",
    "\tconstraint FKEY_3 foreign key (ID_INDICADOR) references INDICADOR(ID_INDICADOR),\n",
    "\tconstraint FKEY_4 foreign key (ID_INCOME) references INCOME(ID_INCOME)\n",
    "    );\"\"\" # se crea la tabla de hechos EV\n",
    "\n",
    "execute_query(viewquery)"
   ]
  },
  {
   "cell_type": "code",
   "execution_count": null,
   "metadata": {},
   "outputs": [],
   "source": [
    "df = pd.DataFrame([(1,'America'), (2,'Europa'), (3,'Asia'),(4,'Africa'),(5,'Oceania')], columns=['ID_CONTINENTE', 'CONTINENTE']) # se crea dataframe con pandas\n",
    "write_pandas(conn, df, 'CONTINENTE') # se ingesta el dataframe pd a la tabla costumers\n",
    "\n"
   ]
  },
  {
   "cell_type": "code",
   "execution_count": null,
   "metadata": {},
   "outputs": [],
   "source": [
    "Nation = ['United States', 'Canada','Mexico','Costa Rica','Panama','Brazil','Argentina','Chile','Uruguay','Bolivia','Peru','Egypt, Arab Rep.','Libya','South Africa','Nigeria','Morocco','Australia','China','India','Thailand','Japan','Korea, Rep.','Israel','Saudi Arabia','Malaysia','Indonesia','Russian Federation','Turkiye','Spain','Bulgaria','France','Italy','Germany','United Kingdom','Norway','Sweden','Greece']\n",
    "Nation_code= ['USA','CAN','MEX','CRI','PAN','BRA','ARG','CHL','URY','BOL','PER','EGY','LBY','ZAF','NGA','MAR','AUS','CHN','IND','THA','JPN','KOR','ISR','SAU','MYS','IDN','RUS','TUR','ESP','BGR','FRA','ITA','DEU','GBR','NOR','SWE','GRC']\n",
    "df = pd.DataFrame({'ID_PAIS',Nation_code, 'NOMBRE', Nation}) # se crea dataframe con pandas\n",
    "write_pandas(conn, df, 'PAIS') # se ingesta el dataframe pd a la tabla costumers\n",
    "\n"
   ]
  },
  {
   "cell_type": "code",
   "execution_count": 26,
   "metadata": {},
   "outputs": [],
   "source": [
    "df = pd.DataFrame([('H','Alto ingreso'), ('M','Ingreso medio alto'), ('LM','Ingreso medio bajo'),('L','Ingreso bajo')], columns=['ID_INCOME', 'INCOME']) # se crea dataframe con pandas\n",
    "write_pandas(conn, df, 'INCOME') # se ingesta el dataframe pd a la tabla costumers\n",
    "# se cortan las conexiones\n",
    "conn.close()"
   ]
  }
 ],
 "metadata": {
  "kernelspec": {
   "display_name": "Python 3.10.5 64-bit",
   "language": "python",
   "name": "python3"
  },
  "language_info": {
   "codemirror_mode": {
    "name": "ipython",
    "version": 3
   },
   "file_extension": ".py",
   "mimetype": "text/x-python",
   "name": "python",
   "nbconvert_exporter": "python",
   "pygments_lexer": "ipython3",
   "version": "3.10.5"
  },
  "orig_nbformat": 4,
  "vscode": {
   "interpreter": {
    "hash": "831930c436e26f7725c7eb4f61edc3580d69b3d71d42ec6e6c602713c246326c"
   }
  }
 },
 "nbformat": 4,
 "nbformat_minor": 2
}
