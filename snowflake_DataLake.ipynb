{
 "cells": [
  {
   "cell_type": "code",
   "execution_count": 2,
   "metadata": {},
   "outputs": [
    {
     "name": "stderr",
     "output_type": "stream",
     "text": [
      "c:\\Users\\Jhovany Lara\\AppData\\Local\\Programs\\Python\\Python310\\lib\\site-packages\\snowflake\\connector\\options.py:96: UserWarning: You have an incompatible version of 'pyarrow' installed (9.0.0), please install a version that adheres to: 'pyarrow<8.1.0,>=8.0.0; extra == \"pandas\"'\n",
      "  warn_incompatible_dep(\n"
     ]
    }
   ],
   "source": [
    "# se importa el conector de snowflake\n",
    "import snowflake.connector \n",
    "# se importa del modulo de swnoflake la herramienta de pandas para ingestar un dataframe a una tabla de snowflake\n",
    "from snowflake.connector.pandas_tools import write_pandas \n",
    "import pandas as pd\n",
    "import wbgapi as wb"
   ]
  },
  {
   "cell_type": "markdown",
   "metadata": {},
   "source": [
    "### Se crea la conexión con snowflake"
   ]
  },
  {
   "cell_type": "code",
   "execution_count": 91,
   "metadata": {},
   "outputs": [],
   "source": [
    "#se crea conexión\n",
    "conn = snowflake.connector.connect(\n",
    "    user='grupods03',\n",
    "    password='Henry2022#',\n",
    "    account='nr28668.sa-east-1.aws')\n",
    "    #warehouse='PRUEBA',\n",
    "    #role ='ACCOUNTADMIN',\n",
    "    #schema ='PUBLIC')"
   ]
  },
  {
   "cell_type": "code",
   "execution_count": 92,
   "metadata": {},
   "outputs": [],
   "source": [
    "def execute_query(connection, query):\n",
    "    cursor = connection.cursor() # se inicializa la conexión Creates a cursor object. Each statement will be executed in a new cursor object.\n",
    "    cursor.execute(query)\n",
    "    cursor.close()"
   ]
  },
  {
   "cell_type": "markdown",
   "metadata": {},
   "source": [
    "### Se crea la database y el datawarehouse"
   ]
  },
  {
   "cell_type": "code",
   "execution_count": null,
   "metadata": {},
   "outputs": [],
   "source": [
    "query = \"Create database LAKE\" # se crea database\n",
    "\n",
    "execute_query(conn, query)"
   ]
  },
  {
   "cell_type": "code",
   "execution_count": 94,
   "metadata": {},
   "outputs": [],
   "source": [
    "query = \"Use database LAKE\" # se inicializa database\n",
    "\n",
    "execute_query(conn, query)"
   ]
  },
  {
   "cell_type": "code",
   "execution_count": null,
   "metadata": {},
   "outputs": [],
   "source": [
    "query = \"Create warehouse DW_EV\" # se crea un datawarehouse dentro de LAKE\n",
    "\n",
    "execute_query(conn, query)"
   ]
  },
  {
   "cell_type": "code",
   "execution_count": 95,
   "metadata": {},
   "outputs": [],
   "source": [
    "query = \"Use warehouse DW_EV\" # se inicializa datawarehouse\n",
    "\n",
    "execute_query(conn, query)"
   ]
  },
  {
   "cell_type": "markdown",
   "metadata": {},
   "source": [
    "### Creamos las tablas y sus relaciones"
   ]
  },
  {
   "cell_type": "code",
   "execution_count": 105,
   "metadata": {},
   "outputs": [],
   "source": [
    "'''Cuando queremos borrar una tabla\n",
    "viewquery =\"\"\"\n",
    "    DROP TABLE EV;\n",
    "    \"\"\" # se borra la tabla INCOME\n",
    "\n",
    "execute_query(conn, viewquery)\n",
    "'''"
   ]
  },
  {
   "cell_type": "code",
   "execution_count": 98,
   "metadata": {},
   "outputs": [],
   "source": [
    "viewquery =\"\"\"\n",
    "    create or replace TABLE PAIS (\n",
    "\tID_PAIS VARCHAR(3) NOT NULL,\n",
    "\tNOMBRE VARCHAR(30) NOT NULL,\n",
    "\tconstraint PKEY_1 primary key (ID_PAIS)\n",
    "    );\"\"\" # se crea la tabla PAIS\n",
    "\n",
    "execute_query(conn, viewquery)"
   ]
  },
  {
   "cell_type": "code",
   "execution_count": 100,
   "metadata": {},
   "outputs": [],
   "source": [
    "viewquery =\"\"\"\n",
    "    create or replace TABLE CONTINENTE (\n",
    "\tID_CONTINENTE INTEGER NOT NULL,\n",
    "\tCONTINENTE VARCHAR(20) NOT NULL,\n",
    "\tconstraint PKEY_1 primary key (ID_CONTINENTE)\n",
    "    );\"\"\" # se crea la tabla CONTINENTE\n",
    "\n",
    "execute_query(conn, viewquery)"
   ]
  },
  {
   "cell_type": "code",
   "execution_count": 102,
   "metadata": {},
   "outputs": [],
   "source": [
    "viewquery =\"\"\"\n",
    "    create or replace TABLE INDICADOR (\n",
    "\tID_INDICADOR INTEGER NOT NULL,\n",
    "\tCODIGO VARCHAR(20) NOT NULL,\n",
    "\tDESCRIPCION VARCHAR(16777216),\n",
    "\tconstraint PKEY_1 primary key (ID_INDICADOR)\n",
    "    );\"\"\" # se crea la tabla INDICADOR\n",
    "\n",
    "execute_query(conn, viewquery)"
   ]
  },
  {
   "cell_type": "code",
   "execution_count": 112,
   "metadata": {},
   "outputs": [],
   "source": [
    "viewquery =\"\"\"\n",
    "    create or replace TABLE INCOME (\n",
    "\tID_INCOME VARCHAR(2) NOT NULL,\n",
    "\tINCOME VARCHAR(30),\n",
    "\tconstraint PKEY_1 primary key (ID_INCOME)\n",
    "    );\"\"\" # se crea la tabla INCOME\n",
    "\n",
    "execute_query(conn, viewquery)"
   ]
  },
  {
   "cell_type": "code",
   "execution_count": 107,
   "metadata": {},
   "outputs": [],
   "source": [
    "viewquery =\"\"\"\n",
    "    create or replace TABLE EV (\n",
    "\tID_PAIS VARCHAR(3) NOT NULL,\n",
    "\tID_CONTINENTE INTEGER NOT NULL,\n",
    "\tID_INDICADOR INTEGER NOT NULL,\n",
    "\tID_INCOME VARCHAR(2) NOT NULL,\n",
    "\tANIO INTEGER NOT NULL,\n",
    "\tVALOR FLOAT,\n",
    "\tconstraint FKEY_1 foreign key (ID_PAIS) references PAIS(ID_PAIS),\n",
    "\tconstraint FKEY_2 foreign key (ID_CONTINENTE) references CONTINENTE(ID_CONTINENTE),\n",
    "\tconstraint FKEY_3 foreign key (ID_INDICADOR) references INDICADOR(ID_INDICADOR),\n",
    "\tconstraint FKEY_4 foreign key (ID_INCOME) references INCOME(ID_INCOME)\n",
    "    );\"\"\" # se crea la tabla de hechos EV\n",
    "\n",
    "execute_query(conn, viewquery)"
   ]
  },
  {
   "cell_type": "markdown",
   "metadata": {},
   "source": [
    "### Cargamos datos a las tablas creadas"
   ]
  },
  {
   "cell_type": "code",
   "execution_count": 108,
   "metadata": {},
   "outputs": [
    {
     "data": {
      "text/plain": [
       "(True,\n",
       " 1,\n",
       " 5,\n",
       " [('dewhl/file0.txt', 'LOADED', 5, 5, 1, 0, None, None, None, None)])"
      ]
     },
     "execution_count": 108,
     "metadata": {},
     "output_type": "execute_result"
    }
   ],
   "source": [
    "df = pd.DataFrame([(1,'America'), (2,'Europa'), (3,'Asia'),(4,'Africa'),(5,'Oceania')], columns=['ID_CONTINENTE', 'CONTINENTE']) # se crea dataframe con pandas\n",
    "write_pandas(conn, df, 'CONTINENTE') # se ingesta el dataframe pd a la tabla Continente\n",
    "\n"
   ]
  },
  {
   "cell_type": "code",
   "execution_count": 109,
   "metadata": {},
   "outputs": [
    {
     "data": {
      "text/plain": [
       "(True,\n",
       " 1,\n",
       " 37,\n",
       " [('fkbep/file0.txt', 'LOADED', 37, 37, 1, 0, None, None, None, None)])"
      ]
     },
     "execution_count": 109,
     "metadata": {},
     "output_type": "execute_result"
    }
   ],
   "source": [
    "Nation = ['United States', 'Canada','Mexico','Costa Rica','Panama','Brazil','Argentina','Chile','Uruguay','Bolivia','Peru','Egypt, Arab Rep.','Libya','South Africa','Nigeria','Morocco','Australia','China','India','Thailand','Japan','Korea, Rep.','Israel','Saudi Arabia','Malaysia','Indonesia','Russian Federation','Turkiye','Spain','Bulgaria','France','Italy','Germany','United Kingdom','Norway','Sweden','Greece']\n",
    "Nation_code= ['USA','CAN','MEX','CRI','PAN','BRA','ARG','CHL','URY','BOL','PER','EGY','LBY','ZAF','NGA','MAR','AUS','CHN','IND','THA','JPN','KOR','ISR','SAU','MYS','IDN','RUS','TUR','ESP','BGR','FRA','ITA','DEU','GBR','NOR','SWE','GRC']\n",
    "df = pd.DataFrame({'ID_PAIS':Nation_code,'NOMBRE': Nation}) # se crea dataframe con pandas\n",
    "write_pandas(conn, df, 'PAIS') # se ingesta el dataframe pd a la tabla pais\n",
    "\n"
   ]
  },
  {
   "cell_type": "code",
   "execution_count": 113,
   "metadata": {},
   "outputs": [
    {
     "data": {
      "text/plain": [
       "(True,\n",
       " 1,\n",
       " 3,\n",
       " [('diked/file0.txt', 'LOADED', 3, 3, 1, 0, None, None, None, None)])"
      ]
     },
     "execution_count": 113,
     "metadata": {},
     "output_type": "execute_result"
    }
   ],
   "source": [
    "df = pd.DataFrame([('H','Alto ingreso'), ('M','Ingreso medio alto'), ('LM','Ingreso medio bajo')], columns=['ID_INCOME', 'INCOME']) # se crea dataframe con pandas\n",
    "write_pandas(conn, df, 'INCOME') # se ingesta el dataframe pd a la tabla continente\n"
   ]
  },
  {
   "cell_type": "code",
   "execution_count": 120,
   "metadata": {},
   "outputs": [
    {
     "data": {
      "text/plain": [
       "(True,\n",
       " 1,\n",
       " 38,\n",
       " [('yquxi/file0.txt', 'LOADED', 38, 38, 1, 0, None, None, None, None)])"
      ]
     },
     "execution_count": 120,
     "metadata": {},
     "output_type": "execute_result"
    }
   ],
   "source": [
    "#Se ingesta el dataframe pd a la tabla Indicador\n",
    "Indicador = ['Average precipitation in depth (mm per year)',\n",
    "'emisiones de CO2 (kt)',\n",
    "'crecimiento de la poblacion (% anual)',\n",
    "'Educational attainment, at least completed primary, population 25+ years, female (%) (cumulative)',\n",
    "'School enrollment, tertiary (% gross)',\n",
    "'Tasa de alfabetizacion, total adultos (% de personas)',\n",
    "'Hepatitis B (HepB3) immunization coverage among 1-year-olds (%)',\n",
    "'Immunization, DPT (% of children ages 12-23 months)',\n",
    "'Immunization, measles (% of children ages 12-23 months)',\n",
    "'Incidence of HIV, all (per 1,000 uninfected population)',\n",
    "'Mortality rate, under-5 (per 1,000 live births)',\n",
    "'Number of deaths ages 5-9 years',\n",
    "'Number of infant deaths (per 1,000 live births)',\n",
    "'Polio (Pol3) immunization covergae among 1-year-olds (%)',\n",
    "'prevalencia del consumo de tabaco, hombres',\n",
    "'prevalencia del consumo de tabaco, mujeres',\n",
    "'tasa de mortalidad materna (cada 100.000 nacidos vivos)',\n",
    "'tasa de mortalidad menores de 5 años (por 1000nacidos vivos)',\n",
    "'tasa de mortalidad, adultos hombres (por cada 1000 adultos)',\n",
    "'tasa de mortalidad, adultos mujeres (por cada 1000 adultos)',\n",
    "'Total alcohol consumption per capita (liters of pure alcohol, projected estimates, 15+ years of age)',\n",
    "'Access to clean fuels and technologies for cooking, rural (% of rural population)',\n",
    "'Current education expenditure, primary (% of total expenditure in primary public institutions)',\n",
    "'Current health expenditure (% of GDP)',\n",
    "'desempleo total (% de la poblacion laboral)',\n",
    "'esperanza de vida al nacer, hombres (años)',\n",
    "'esperanza de vida al nacer, muejres (años)',\n",
    "'esperanza de vida al nacer, Total (años)',\n",
    "'gasto publico (% del pib)',\n",
    "'gasto publico en educación, total (% del pbi)',\n",
    "'GDP per capita (constant 2015 US$)',\n",
    "'poblacion que vive en barrios marginales (% de la poblacion urbana)',\n",
    "'Población Rural (% de la poblacion total)',\n",
    "'poblacion urbana (%poblacion total)',\n",
    "'Research and development expenditure (% of GDP)',\n",
    "'Researchers in R&D (per million people)',\n",
    "'tasa de recuento de la pobreza, multidimensional (%de la poblacion total)',\n",
    "'Trade in services (% of GDP)'\n",
    "]\n",
    "Indicador_code = ['AG.LND.PRCP.MM',\n",
    "'EN.ATM.CO2E.KT',\n",
    "'SP.POP.GROW',\n",
    "'SE.PRM.CUAT.FE.ZS',\n",
    "'SE.TER.ENRR',\n",
    "'SE.ADT.LITR.ZS',\n",
    "'CSV from WHO',\n",
    "'SH.IMM.IDPT',\n",
    "'SH.IMM.MEAS',\n",
    "'SH.HIV.INCD.TL.P3',\n",
    "'SH.DYN.MORT',\n",
    "'SH.DTH.0509',\n",
    "'SH.DTH.IMRT.IN',\n",
    "'CSV from WHO',\n",
    "'SH.PRV.SMOK.MA',\n",
    "'SH.PRV.SMOK.FE',\n",
    "'SH.STA.MMRT',\n",
    "'SH.DYN.MORT',\n",
    "'SP.DYN.AMRT.MA',\n",
    "'SP.DYN.AMRT.FE',\n",
    "'SH.ALC.PCAP.LI',\n",
    "'EG.CFT.ACCS.RU.ZS',\n",
    "'SE.XPD.CPRM.ZS',\n",
    "'SH.XPD.CHEX.GD.ZS',\n",
    "'SL.UEM.TOTL.NE.ZS',\n",
    "'SP.DYN.LE00.MA.IN',\n",
    "'SP.DYN.LE00.FE.IN',\n",
    "'SP.DYN.LE00.IN',\n",
    "'GC.XPN.TOTL.GD.ZS',\n",
    "'SE.XPD.TOTL.GD.ZS',\n",
    "'NY.GDP.PCAP.KD',\n",
    "'EN.POP.SLUM.UR.ZS',\n",
    "'SP.RUR.TOTL.ZS',\n",
    "'SP.URB.TOTL.IN.ZS',\n",
    "'GB.XPD.RSDV.GD.ZS',\n",
    "'SP.POP.SCIE.RD.P6',\n",
    "'SI.POV.MDIM',\n",
    "'BG.GSR.NFSV.GD.ZS'\n",
    "]\n",
    "numero_indicador=range(1,39)\n",
    "df=pd.DataFrame({'ID_INDICADOR':numero_indicador,'CODIGO':Indicador_code,'DESCRIPCION':Indicador})\n",
    "write_pandas(conn, df, 'INDICADOR') # se ingesta el dataframe pd a la tabla indicador"
   ]
  },
  {
   "cell_type": "markdown",
   "metadata": {},
   "source": [
    "Ingestamos datos a la tabla de hechos"
   ]
  },
  {
   "cell_type": "code",
   "execution_count": 121,
   "metadata": {},
   "outputs": [],
   "source": [
    "\n",
    "Indicador_code = ['AG.LND.PRCP.MM',\n",
    "'EN.ATM.CO2E.KT',\n",
    "'SP.POP.GROW',\n",
    "'SE.PRM.CUAT.FE.ZS',\n",
    "'SE.TER.ENRR',\n",
    "'SE.ADT.LITR.ZS',\n",
    "'CSV from WHO',\n",
    "'SH.IMM.IDPT',\n",
    "'SH.IMM.MEAS',\n",
    "'SH.HIV.INCD.TL.P3',\n",
    "'SH.DYN.MORT',\n",
    "'SH.DTH.0509',\n",
    "'SH.DTH.IMRT.IN',\n",
    "'CSV from WHO',\n",
    "'SH.PRV.SMOK.MA',\n",
    "'SH.PRV.SMOK.FE',\n",
    "'SH.STA.MMRT',\n",
    "'SH.DYN.MORT',\n",
    "'SP.DYN.AMRT.MA',\n",
    "'SP.DYN.AMRT.FE',\n",
    "'SH.ALC.PCAP.LI',\n",
    "'EG.CFT.ACCS.RU.ZS',\n",
    "'SE.XPD.CPRM.ZS',\n",
    "'SH.XPD.CHEX.GD.ZS',\n",
    "'SL.UEM.TOTL.NE.ZS',\n",
    "'SP.DYN.LE00.MA.IN',\n",
    "'SP.DYN.LE00.FE.IN',\n",
    "'SP.DYN.LE00.IN',\n",
    "'GC.XPN.TOTL.GD.ZS',\n",
    "'SE.XPD.TOTL.GD.ZS',\n",
    "'NY.GDP.PCAP.KD',\n",
    "'EN.POP.SLUM.UR.ZS',\n",
    "'SP.RUR.TOTL.ZS',\n",
    "'SP.URB.TOTL.IN.ZS',\n",
    "'GB.XPD.RSDV.GD.ZS',\n",
    "'SP.POP.SCIE.RD.P6',\n",
    "'SI.POV.MDIM',\n",
    "'BG.GSR.NFSV.GD.ZS'\n",
    "]\n",
    "df2=wb.data.DataFrame(Indicador_code, \n",
    "                  Nation_code, \n",
    "                  mrv= 30,\n",
    "                  columns='series',\n",
    "                  numericTimeKeys=True\n",
    "                  )"
   ]
  },
  {
   "cell_type": "code",
   "execution_count": 122,
   "metadata": {},
   "outputs": [],
   "source": [
    "hechos=df2.reset_index()\n",
    "hechos=hechos.melt(id_vars=['economy','time'], var_name=\"ID_INDICADOR\", value_name=\"VALOR\")\n",
    "hechos=hechos.rename(columns={'economy':'ID_PAIS','time':'ANIO'})\n"
   ]
  },
  {
   "cell_type": "markdown",
   "metadata": {},
   "source": [
    "Creamos la columna Id_continente a partir de los países"
   ]
  },
  {
   "cell_type": "code",
   "execution_count": 123,
   "metadata": {},
   "outputs": [],
   "source": [
    "lista_america=['ARG','CAN','MEX','USA','PAN','BRA','ARG','CHL','URY','BOL','PER','CRI']\n",
    "lista_africa=['EGY','LBY','ZAF','NGA','MAR']\n",
    "lista_asia=['CHN','IND','THA','JPN','KOR','ISR','SAU','MYS','IDN','RUS','TUR']\n",
    "lista_europa=['ESP','BGR','FRA','ITA','DEU','GBR','NOR','SWE','GRC']\n",
    "lista_oceania=['AUS']\n",
    "\n",
    "def categoria_pais(row):\n",
    "    if row['ID_PAIS'] in lista_america:\n",
    "        return 1\n",
    "    if row['ID_PAIS'] in lista_europa:\n",
    "        return 2\n",
    "    if row['ID_PAIS'] in lista_asia:\n",
    "        return 3\n",
    "    if row['ID_PAIS'] in lista_africa:\n",
    "        return 4\n",
    "    if row['ID_PAIS'] in lista_oceania:\n",
    "        return 5\n",
    "\n",
    "\n",
    "hechos['ID_CONTINENTE'] = hechos.apply(lambda row: categoria_pais(row), axis=1)"
   ]
  },
  {
   "cell_type": "code",
   "execution_count": 124,
   "metadata": {},
   "outputs": [
    {
     "data": {
      "text/html": [
       "<div>\n",
       "<style scoped>\n",
       "    .dataframe tbody tr th:only-of-type {\n",
       "        vertical-align: middle;\n",
       "    }\n",
       "\n",
       "    .dataframe tbody tr th {\n",
       "        vertical-align: top;\n",
       "    }\n",
       "\n",
       "    .dataframe thead th {\n",
       "        text-align: right;\n",
       "    }\n",
       "</style>\n",
       "<table border=\"1\" class=\"dataframe\">\n",
       "  <thead>\n",
       "    <tr style=\"text-align: right;\">\n",
       "      <th></th>\n",
       "      <th>ID_PAIS</th>\n",
       "      <th>ANIO</th>\n",
       "      <th>ID_INDICADOR</th>\n",
       "      <th>VALOR</th>\n",
       "      <th>ID_CONTINENTE</th>\n",
       "    </tr>\n",
       "  </thead>\n",
       "  <tbody>\n",
       "    <tr>\n",
       "      <th>0</th>\n",
       "      <td>ARG</td>\n",
       "      <td>1992</td>\n",
       "      <td>AG.LND.PRCP.MM</td>\n",
       "      <td>591.0</td>\n",
       "      <td>1</td>\n",
       "    </tr>\n",
       "    <tr>\n",
       "      <th>1</th>\n",
       "      <td>ARG</td>\n",
       "      <td>1993</td>\n",
       "      <td>AG.LND.PRCP.MM</td>\n",
       "      <td>NaN</td>\n",
       "      <td>1</td>\n",
       "    </tr>\n",
       "    <tr>\n",
       "      <th>2</th>\n",
       "      <td>ARG</td>\n",
       "      <td>1994</td>\n",
       "      <td>AG.LND.PRCP.MM</td>\n",
       "      <td>NaN</td>\n",
       "      <td>1</td>\n",
       "    </tr>\n",
       "    <tr>\n",
       "      <th>3</th>\n",
       "      <td>ARG</td>\n",
       "      <td>1995</td>\n",
       "      <td>AG.LND.PRCP.MM</td>\n",
       "      <td>NaN</td>\n",
       "      <td>1</td>\n",
       "    </tr>\n",
       "    <tr>\n",
       "      <th>4</th>\n",
       "      <td>ARG</td>\n",
       "      <td>1996</td>\n",
       "      <td>AG.LND.PRCP.MM</td>\n",
       "      <td>NaN</td>\n",
       "      <td>1</td>\n",
       "    </tr>\n",
       "  </tbody>\n",
       "</table>\n",
       "</div>"
      ],
      "text/plain": [
       "  ID_PAIS  ANIO    ID_INDICADOR  VALOR  ID_CONTINENTE\n",
       "0     ARG  1992  AG.LND.PRCP.MM  591.0              1\n",
       "1     ARG  1993  AG.LND.PRCP.MM    NaN              1\n",
       "2     ARG  1994  AG.LND.PRCP.MM    NaN              1\n",
       "3     ARG  1995  AG.LND.PRCP.MM    NaN              1\n",
       "4     ARG  1996  AG.LND.PRCP.MM    NaN              1"
      ]
     },
     "execution_count": 124,
     "metadata": {},
     "output_type": "execute_result"
    }
   ],
   "source": [
    "hechos.head()"
   ]
  },
  {
   "cell_type": "markdown",
   "metadata": {},
   "source": [
    "Creamos la columna ID_INGRESO a partir de una lista y del nombre del pais"
   ]
  },
  {
   "cell_type": "code",
   "execution_count": 125,
   "metadata": {},
   "outputs": [],
   "source": [
    "lista_alto=['CAN','USA','PAN','CHL','URY','AUS','JPN','KOR','ISR','SAU','ESP','FRA','ITA','DEU','GBR','NOR','SWE','GRC']\n",
    "lista_medioalto=['ARG','MEX','BRA','ARG','CRI','PER','BGR','TUR','LBY','ZAF','RUS']\n",
    "lista_mediobajo=['CHN','THA','MYS','BOL','EGY','NGA','MAR','IND','IDN']\n",
    "\n",
    "\n",
    "def ingreso_pais(row):\n",
    "    if row['ID_PAIS'] in lista_alto:\n",
    "        return 'H'\n",
    "    if row['ID_PAIS'] in lista_medioalto:\n",
    "        return 'M'\n",
    "    if row['ID_PAIS'] in lista_mediobajo:\n",
    "        return 'LM'\n",
    "    \n",
    "hechos['ID_INCOME'] = hechos.apply(lambda row: ingreso_pais(row), axis=1)"
   ]
  },
  {
   "cell_type": "markdown",
   "metadata": {},
   "source": [
    "Codificamos la columna ID_INDICADOR"
   ]
  },
  {
   "cell_type": "code",
   "execution_count": 126,
   "metadata": {},
   "outputs": [],
   "source": [
    "Indicador_code = ['AG.LND.PRCP.MM',\n",
    "'EN.ATM.CO2E.KT',\n",
    "'SP.POP.GROW',\n",
    "'SE.PRM.CUAT.FE.ZS',\n",
    "'SE.TER.ENRR',\n",
    "'SE.ADT.LITR.ZS',\n",
    "'CSV from WHO',\n",
    "'SH.IMM.IDPT',\n",
    "'SH.IMM.MEAS',\n",
    "'SH.HIV.INCD.TL.P3',\n",
    "'SH.DYN.MORT',\n",
    "'SH.DTH.0509',\n",
    "'SH.DTH.IMRT.IN',\n",
    "'CSV from WHO',\n",
    "'SH.PRV.SMOK.MA',\n",
    "'SH.PRV.SMOK.FE',\n",
    "'SH.STA.MMRT',\n",
    "'SH.DYN.MORT',\n",
    "'SP.DYN.AMRT.MA',\n",
    "'SP.DYN.AMRT.FE',\n",
    "'SH.ALC.PCAP.LI',\n",
    "'EG.CFT.ACCS.RU.ZS',\n",
    "'SE.XPD.CPRM.ZS',\n",
    "'SH.XPD.CHEX.GD.ZS',\n",
    "'SL.UEM.TOTL.NE.ZS',\n",
    "'SP.DYN.LE00.MA.IN',\n",
    "'SP.DYN.LE00.FE.IN',\n",
    "'SP.DYN.LE00.IN',\n",
    "'GC.XPN.TOTL.GD.ZS',\n",
    "'SE.XPD.TOTL.GD.ZS',\n",
    "'NY.GDP.PCAP.KD',\n",
    "'EN.POP.SLUM.UR.ZS',\n",
    "'SP.RUR.TOTL.ZS',\n",
    "'SP.URB.TOTL.IN.ZS',\n",
    "'GB.XPD.RSDV.GD.ZS',\n",
    "'SP.POP.SCIE.RD.P6',\n",
    "'SI.POV.MDIM',\n",
    "'BG.GSR.NFSV.GD.ZS'\n",
    "]\n",
    "def ingreso_pais(row):\n",
    "    for i in range(38):\n",
    "        if row['ID_INDICADOR'] == Indicador_code[i]:\n",
    "            return i+1\n",
    "    \n",
    "    \n",
    "hechos['ID_INDICADOR'] = hechos.apply(lambda row: ingreso_pais(row), axis=1)"
   ]
  },
  {
   "cell_type": "code",
   "execution_count": 127,
   "metadata": {},
   "outputs": [
    {
     "data": {
      "text/html": [
       "<div>\n",
       "<style scoped>\n",
       "    .dataframe tbody tr th:only-of-type {\n",
       "        vertical-align: middle;\n",
       "    }\n",
       "\n",
       "    .dataframe tbody tr th {\n",
       "        vertical-align: top;\n",
       "    }\n",
       "\n",
       "    .dataframe thead th {\n",
       "        text-align: right;\n",
       "    }\n",
       "</style>\n",
       "<table border=\"1\" class=\"dataframe\">\n",
       "  <thead>\n",
       "    <tr style=\"text-align: right;\">\n",
       "      <th></th>\n",
       "      <th>ID_PAIS</th>\n",
       "      <th>ANIO</th>\n",
       "      <th>ID_INDICADOR</th>\n",
       "      <th>VALOR</th>\n",
       "      <th>ID_CONTINENTE</th>\n",
       "      <th>ID_INCOME</th>\n",
       "    </tr>\n",
       "  </thead>\n",
       "  <tbody>\n",
       "    <tr>\n",
       "      <th>0</th>\n",
       "      <td>ARG</td>\n",
       "      <td>1992</td>\n",
       "      <td>1</td>\n",
       "      <td>591.0</td>\n",
       "      <td>1</td>\n",
       "      <td>M</td>\n",
       "    </tr>\n",
       "    <tr>\n",
       "      <th>1</th>\n",
       "      <td>ARG</td>\n",
       "      <td>1993</td>\n",
       "      <td>1</td>\n",
       "      <td>NaN</td>\n",
       "      <td>1</td>\n",
       "      <td>M</td>\n",
       "    </tr>\n",
       "    <tr>\n",
       "      <th>2</th>\n",
       "      <td>ARG</td>\n",
       "      <td>1994</td>\n",
       "      <td>1</td>\n",
       "      <td>NaN</td>\n",
       "      <td>1</td>\n",
       "      <td>M</td>\n",
       "    </tr>\n",
       "    <tr>\n",
       "      <th>3</th>\n",
       "      <td>ARG</td>\n",
       "      <td>1995</td>\n",
       "      <td>1</td>\n",
       "      <td>NaN</td>\n",
       "      <td>1</td>\n",
       "      <td>M</td>\n",
       "    </tr>\n",
       "    <tr>\n",
       "      <th>4</th>\n",
       "      <td>ARG</td>\n",
       "      <td>1996</td>\n",
       "      <td>1</td>\n",
       "      <td>NaN</td>\n",
       "      <td>1</td>\n",
       "      <td>M</td>\n",
       "    </tr>\n",
       "  </tbody>\n",
       "</table>\n",
       "</div>"
      ],
      "text/plain": [
       "  ID_PAIS  ANIO  ID_INDICADOR  VALOR  ID_CONTINENTE ID_INCOME\n",
       "0     ARG  1992             1  591.0              1         M\n",
       "1     ARG  1993             1    NaN              1         M\n",
       "2     ARG  1994             1    NaN              1         M\n",
       "3     ARG  1995             1    NaN              1         M\n",
       "4     ARG  1996             1    NaN              1         M"
      ]
     },
     "execution_count": 127,
     "metadata": {},
     "output_type": "execute_result"
    }
   ],
   "source": [
    "hechos.head()"
   ]
  },
  {
   "cell_type": "code",
   "execution_count": 129,
   "metadata": {},
   "outputs": [
    {
     "data": {
      "text/plain": [
       "(True,\n",
       " 1,\n",
       " 37740,\n",
       " [('hxhnk/file0.txt', 'LOADED', 37740, 37740, 1, 0, None, None, None, None)])"
      ]
     },
     "execution_count": 129,
     "metadata": {},
     "output_type": "execute_result"
    }
   ],
   "source": [
    "write_pandas(conn, hechos, 'EV') # se ingesta el dataframe pd a la tabla EV"
   ]
  },
  {
   "cell_type": "code",
   "execution_count": null,
   "metadata": {},
   "outputs": [],
   "source": [
    "# se cortan las conexiones\n",
    "conn.close()"
   ]
  }
 ],
 "metadata": {
  "kernelspec": {
   "display_name": "Python 3.10.8 64-bit",
   "language": "python",
   "name": "python3"
  },
  "language_info": {
   "codemirror_mode": {
    "name": "ipython",
    "version": 3
   },
   "file_extension": ".py",
   "mimetype": "text/x-python",
   "name": "python",
   "nbconvert_exporter": "python",
   "pygments_lexer": "ipython3",
   "version": "3.10.8"
  },
  "orig_nbformat": 4,
  "vscode": {
   "interpreter": {
    "hash": "aee8b7b246df8f9039afb4144a1f6fd8d2ca17a180786b69acc140d282b71a49"
   }
  }
 },
 "nbformat": 4,
 "nbformat_minor": 2
}
