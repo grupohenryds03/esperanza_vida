{
 "cells": [
  {
   "cell_type": "code",
   "execution_count": 18,
   "metadata": {},
   "outputs": [],
   "source": [
    "# se importa el conector de snowflake\n",
    "import snowflake.connector \n",
    "# se importa del modulo de swnoflake la herramienta de pandas para ingestar un dataframe a una tabla de snowflake\n",
    "from snowflake.connector.pandas_tools import write_pandas \n",
    "import pandas as pd\n",
    "import wbgapi as wb\n",
    "from sklearn import preprocessing\n",
    "import streamlit as st\n",
    "import snowflake.connector\n",
    "import pickle"
   ]
  },
  {
   "cell_type": "markdown",
   "metadata": {},
   "source": [
    "### Se crea la conexión con snowflake"
   ]
  },
  {
   "cell_type": "code",
   "execution_count": 13,
   "metadata": {},
   "outputs": [
    {
     "name": "stderr",
     "output_type": "stream",
     "text": [
      "2022-10-25 11:21:50.350 INFO    snowflake.connector.connection: Snowflake Connector for Python Version: 2.8.0, Python Version: 3.10.5, Platform: Windows-10-10.0.19044-SP0\n",
      "2022-10-25 11:21:50.352 INFO    snowflake.connector.connection: This connection is in OCSP Fail Open Mode. TLS Certificates would be checked for validity and revocation status. Any other Certificate Revocation related exceptions or OCSP Responder failures would be disregarded in favor of connectivity.\n"
     ]
    }
   ],
   "source": [
    "#se crea conexión\n",
    "conn = snowflake.connector.connect(\n",
    "    user='grupods03',\n",
    "    password='Henry2022#',\n",
    "    account='nr28668.sa-east-1.aws')\n",
    "    #warehouse='PRUEBA',\n",
    "    #role ='ACCOUNTADMIN',\n",
    "    #schema ='PUBLIC')"
   ]
  },
  {
   "cell_type": "code",
   "execution_count": 14,
   "metadata": {},
   "outputs": [],
   "source": [
    "def execute_query(connection, query):\n",
    "    cursor = connection.cursor() # se inicializa la conexión Creates a cursor object. Each statement will be executed in a new cursor object.\n",
    "    cursor.execute(query)\n",
    "    cursor.close()"
   ]
  },
  {
   "cell_type": "markdown",
   "metadata": {},
   "source": [
    "### Se crea la database y el datawarehouse"
   ]
  },
  {
   "cell_type": "code",
   "execution_count": null,
   "metadata": {},
   "outputs": [],
   "source": [
    "query = \"Create database LAKE\" # se crea database\n",
    "\n",
    "execute_query(conn, query)"
   ]
  },
  {
   "cell_type": "code",
   "execution_count": 15,
   "metadata": {},
   "outputs": [
    {
     "name": "stderr",
     "output_type": "stream",
     "text": [
      "2022-10-25 11:22:17.589 INFO    snowflake.connector.cursor: query: [Use database LAKE]\n",
      "2022-10-25 11:22:17.903 INFO    snowflake.connector.cursor: query execution done\n",
      "2022-10-25 11:22:17.909 INFO    snowflake.connector.cursor: Number of results in first chunk: 1\n"
     ]
    }
   ],
   "source": [
    "query = \"Use database LAKE\" # se inicializa database\n",
    "\n",
    "execute_query(conn, query)"
   ]
  },
  {
   "cell_type": "code",
   "execution_count": null,
   "metadata": {},
   "outputs": [],
   "source": [
    "query = \"Create warehouse DW_EV\" # se crea un datawarehouse dentro de LAKE\n",
    "\n",
    "execute_query(conn, query)"
   ]
  },
  {
   "cell_type": "code",
   "execution_count": 16,
   "metadata": {},
   "outputs": [
    {
     "name": "stderr",
     "output_type": "stream",
     "text": [
      "2022-10-25 11:22:20.137 INFO    snowflake.connector.cursor: query: [Use warehouse DW_EV]\n",
      "2022-10-25 11:22:20.418 INFO    snowflake.connector.cursor: query execution done\n",
      "2022-10-25 11:22:20.419 INFO    snowflake.connector.cursor: Number of results in first chunk: 1\n"
     ]
    }
   ],
   "source": [
    "query = \"Use warehouse DW_EV\" # se inicializa datawarehouse\n",
    "\n",
    "execute_query(conn, query)"
   ]
  },
  {
   "cell_type": "markdown",
   "metadata": {},
   "source": [
    "### Creamos las tablas y sus relaciones"
   ]
  },
  {
   "cell_type": "code",
   "execution_count": 194,
   "metadata": {},
   "outputs": [],
   "source": [
    "'''Cuando queremos borrar una tabla\n",
    "viewquery =\"\"\"\n",
    "    DROP TABLE EV;\n",
    "    \"\"\" # se borra la tabla INCOME\n",
    "\n",
    "execute_query(conn, viewquery)\n",
    "'''"
   ]
  },
  {
   "cell_type": "code",
   "execution_count": 302,
   "metadata": {},
   "outputs": [
    {
     "name": "stderr",
     "output_type": "stream",
     "text": [
      "2022-10-25 00:47:36.333 query: [create or replace TABLE PAIS ( CODIGO_PAIS VARCHAR(3) NOT NULL, ID_PAIS INT NOT ...]\n",
      "2022-10-25 00:47:36.806 query execution done\n",
      "2022-10-25 00:47:36.808 Number of results in first chunk: 1\n"
     ]
    }
   ],
   "source": [
    "viewquery =\"\"\"\n",
    "    create or replace TABLE PAIS (\n",
    "\tCODIGO_PAIS VARCHAR(3) NOT NULL,\n",
    "\tID_PAIS INT NOT NULL,\n",
    "\tNOMBRE VARCHAR(30) NOT NULL,\n",
    "\tconstraint PKEY_1 primary key (ID_PAIS)\n",
    "    );\"\"\" # se crea la tabla PAIS\n",
    "\n",
    "execute_query(conn, viewquery)"
   ]
  },
  {
   "cell_type": "code",
   "execution_count": 303,
   "metadata": {},
   "outputs": [
    {
     "name": "stderr",
     "output_type": "stream",
     "text": [
      "2022-10-25 00:47:39.743 query: [create or replace TABLE CONTINENTE ( ID_CONTINENTE INT NOT NULL, CONTINENTE VARC...]\n",
      "2022-10-25 00:47:40.253 query execution done\n",
      "2022-10-25 00:47:40.255 Number of results in first chunk: 1\n"
     ]
    }
   ],
   "source": [
    "viewquery =\"\"\"\n",
    "    create or replace TABLE CONTINENTE (\n",
    "\tID_CONTINENTE INT NOT NULL,\n",
    "\tCONTINENTE VARCHAR(20) NOT NULL,\n",
    "\tconstraint PKEY_1 primary key (ID_CONTINENTE)\n",
    "    );\"\"\" # se crea la tabla CONTINENTE\n",
    "\n",
    "execute_query(conn, viewquery)"
   ]
  },
  {
   "cell_type": "code",
   "execution_count": 304,
   "metadata": {},
   "outputs": [
    {
     "name": "stderr",
     "output_type": "stream",
     "text": [
      "2022-10-25 00:47:43.177 query: [create or replace TABLE INDICADOR ( ID_INDICADOR INT NOT NULL, CODIGO VARCHAR(20...]\n",
      "2022-10-25 00:47:43.637 query execution done\n",
      "2022-10-25 00:47:43.640 Number of results in first chunk: 1\n"
     ]
    }
   ],
   "source": [
    "viewquery =\"\"\"\n",
    "    create or replace TABLE INDICADOR (\n",
    "\tID_INDICADOR INT NOT NULL,\n",
    "\tCODIGO VARCHAR(20) NOT NULL,\n",
    "\tDESCRIPCION VARCHAR(16777216),\n",
    "\tconstraint PKEY_1 primary key (ID_INDICADOR)\n",
    "    );\"\"\" # se crea la tabla INDICADOR\n",
    "\n",
    "execute_query(conn, viewquery)"
   ]
  },
  {
   "cell_type": "code",
   "execution_count": 305,
   "metadata": {},
   "outputs": [
    {
     "name": "stderr",
     "output_type": "stream",
     "text": [
      "2022-10-25 00:47:48.634 query: [create or replace TABLE INCOME ( CODIGO_INCOME VARCHAR(2) NOT NULL, ID_INCOME IN...]\n",
      "2022-10-25 00:47:49.111 query execution done\n",
      "2022-10-25 00:47:49.113 Number of results in first chunk: 1\n"
     ]
    }
   ],
   "source": [
    "viewquery =\"\"\"\n",
    "    create or replace TABLE INCOME (\n",
    "\tCODIGO_INCOME VARCHAR(2) NOT NULL,\n",
    "\tID_INCOME INT NOT NULL,\n",
    "\tINCOME VARCHAR(30),\n",
    "\tconstraint PKEY_1 primary key (ID_INCOME)\n",
    "    );\"\"\" # se crea la tabla INCOME\n",
    "\n",
    "execute_query(conn, viewquery)"
   ]
  },
  {
   "cell_type": "code",
   "execution_count": 306,
   "metadata": {},
   "outputs": [
    {
     "name": "stderr",
     "output_type": "stream",
     "text": [
      "2022-10-25 00:47:53.138 query: [create or replace TABLE EV ( ID_PAIS INT NOT NULL, ID_CONTINENTE INT NOT NULL, I...]\n",
      "2022-10-25 00:47:53.759 query execution done\n",
      "2022-10-25 00:47:53.761 Number of results in first chunk: 1\n"
     ]
    }
   ],
   "source": [
    "viewquery =\"\"\"\n",
    "    create or replace TABLE EV (\n",
    "\tID_PAIS INT NOT NULL,\n",
    "\tID_CONTINENTE INT NOT NULL,\n",
    "\tID_INDICADOR INT  NOT NULL,\n",
    "\tID_INCOME INT NOT NULL,\n",
    "\tANIO INTEGER NOT NULL,\n",
    "\tVALOR FLOAT,\n",
    "\tconstraint FKEY_1 foreign key (ID_PAIS) references PAIS(ID_PAIS),\n",
    "\tconstraint FKEY_2 foreign key (ID_CONTINENTE) references CONTINENTE(ID_CONTINENTE),\n",
    "\tconstraint FKEY_3 foreign key (ID_INDICADOR) references INDICADOR(ID_INDICADOR),\n",
    "\tconstraint FKEY_4 foreign key (ID_INCOME) references INCOME(ID_INCOME)\n",
    "    );\"\"\" # se crea la tabla de hechos EV\n",
    "\n",
    "execute_query(conn, viewquery)"
   ]
  },
  {
   "cell_type": "markdown",
   "metadata": {},
   "source": [
    "### Cargamos datos a las tablas dimensionales"
   ]
  },
  {
   "cell_type": "markdown",
   "metadata": {},
   "source": [
    "Cargamos datos en la tabla continente"
   ]
  },
  {
   "cell_type": "code",
   "execution_count": 307,
   "metadata": {},
   "outputs": [
    {
     "name": "stderr",
     "output_type": "stream",
     "text": [
      "2022-10-25 00:47:58.406 query: [create temporary stage /* Python:snowflake.connector.pandas_tools.write_pandas()...]\n",
      "2022-10-25 00:47:58.790 query execution done\n",
      "2022-10-25 00:47:58.792 Number of results in first chunk: 1\n",
      "2022-10-25 00:47:58.802 query: [PUT /* Python:snowflake.connector.pandas_tools.write_pandas() */ 'file://C:\\\\Use...]\n",
      "2022-10-25 00:47:59.182 query execution done\n",
      "2022-10-25 00:48:01.769 query: [COPY INTO \"CONTINENTE\" /* Python:snowflake.connector.pandas_tools.write_pandas()...]\n",
      "2022-10-25 00:48:03.276 query execution done\n",
      "2022-10-25 00:48:03.278 Number of results in first chunk: 1\n"
     ]
    },
    {
     "data": {
      "text/plain": [
       "(True,\n",
       " 1,\n",
       " 5,\n",
       " [('fqgrm/file0.txt', 'LOADED', 5, 5, 1, 0, None, None, None, None)])"
      ]
     },
     "execution_count": 307,
     "metadata": {},
     "output_type": "execute_result"
    }
   ],
   "source": [
    "Continentes=['America','Europa','Asia','Africa','Oceania']\n",
    "df=pd.DataFrame({\"CONTINENTE\":Continentes})\n",
    "\n",
    "#Se codifica ID_PAIS a partir de CODIGO_PAIS\n",
    "le_conti = LabelEncoder()\n",
    "le_conti.fit(df['CONTINENTE'])\n",
    "df['ID_CONTINENTE'] = le_conti.transform(df['CONTINENTE'])\n",
    "\n",
    "#Se guarda la codificación\n",
    "filehandler = open(\"le_conti.obj\",\"wb\")\n",
    "pickle.dump(le_conti,filehandler)\n",
    "filehandler.close()\n",
    " \n",
    "write_pandas(conn, df, 'CONTINENTE') # se ingesta el dataframe pd a la tabla Continente\n"
   ]
  },
  {
   "cell_type": "code",
   "execution_count": null,
   "metadata": {},
   "outputs": [],
   "source": [
    "#Esto es un ejemplo de como reutilizar el labelencoder\n",
    "Continentesx2=['America','America','Europa','Europa','Asia','Asia','Africa','Africa','Oceania','Oceania']\n",
    "dfx2=pd.DataFrame({\"CONTINENTE\":Continentesx2})\n",
    "\n",
    "file = open(\"le_conti.obj\",'rb')\n",
    "le_loaded = pickle.load(file)\n",
    "file.close()\n",
    " \n",
    "dfx2['ID_Continentes'] = le_loaded.transform(dfx2['CONTINENTE'])\n",
    "\n",
    "dfx2\n"
   ]
  },
  {
   "cell_type": "markdown",
   "metadata": {},
   "source": [
    "Cargamos datos en la tabla PAIS"
   ]
  },
  {
   "cell_type": "code",
   "execution_count": 308,
   "metadata": {},
   "outputs": [
    {
     "name": "stderr",
     "output_type": "stream",
     "text": [
      "2022-10-25 00:48:09.811 query: [create temporary stage /* Python:snowflake.connector.pandas_tools.write_pandas()...]\n",
      "2022-10-25 00:48:10.185 query execution done\n",
      "2022-10-25 00:48:10.186 Number of results in first chunk: 1\n",
      "2022-10-25 00:48:10.200 query: [PUT /* Python:snowflake.connector.pandas_tools.write_pandas() */ 'file://C:\\\\Use...]\n",
      "2022-10-25 00:48:10.583 query execution done\n",
      "2022-10-25 00:48:13.024 query: [COPY INTO \"PAIS\" /* Python:snowflake.connector.pandas_tools.write_pandas() */ (\"...]\n",
      "2022-10-25 00:48:14.603 query execution done\n",
      "2022-10-25 00:48:14.605 Number of results in first chunk: 1\n"
     ]
    },
    {
     "data": {
      "text/plain": [
       "(True,\n",
       " 1,\n",
       " 37,\n",
       " [('fnfyo/file0.txt', 'LOADED', 37, 37, 1, 0, None, None, None, None)])"
      ]
     },
     "execution_count": 308,
     "metadata": {},
     "output_type": "execute_result"
    }
   ],
   "source": [
    "Nation = ['United States', 'Canada','Mexico','Costa Rica','Panama','Brazil','Argentina','Chile','Uruguay','Bolivia','Peru','Egypt, Arab Rep.','Libya','South Africa','Nigeria','Morocco','Australia','China','India','Thailand','Japan','Korea, Rep.','Israel','Saudi Arabia','Malaysia','Indonesia','Russian Federation','Turkiye','Spain','Bulgaria','France','Italy','Germany','United Kingdom','Norway','Sweden','Greece']\n",
    "Nation_code= ['USA','CAN','MEX','CRI','PAN','BRA','ARG','CHL','URY','BOL','PER','EGY','LBY','ZAF','NGA','MAR','AUS','CHN','IND','THA','JPN','KOR','ISR','SAU','MYS','IDN','RUS','TUR','ESP','BGR','FRA','ITA','DEU','GBR','NOR','SWE','GRC']\n",
    "df=pd.DataFrame({'CODIGO_PAIS':Nation_code,'NOMBRE': Nation}) #Creamos el dataframe para PAIS\n",
    "\n",
    "#Se codifica ID_PAIS a partir de CODIGO_PAIS\n",
    "le_nation = LabelEncoder()\n",
    "le_nation.fit(df['CODIGO_PAIS'])\n",
    "df['ID_PAIS'] = le_nation.transform(df['CODIGO_PAIS'])\n",
    "\n",
    "#Se guarda la codificación\n",
    "filehandler = open(\"le_nation.obj\",\"wb\")\n",
    "pickle.dump(le_nation,filehandler)\n",
    "filehandler.close()\n",
    "\n",
    "write_pandas(conn, df, 'PAIS') # se ingesta el dataframe pd a la tabla pais\n",
    "\n"
   ]
  },
  {
   "cell_type": "markdown",
   "metadata": {},
   "source": [
    "Cargamos datos en la tabla INCOME"
   ]
  },
  {
   "cell_type": "code",
   "execution_count": 309,
   "metadata": {},
   "outputs": [
    {
     "name": "stderr",
     "output_type": "stream",
     "text": [
      "2022-10-25 00:48:20.790 query: [create temporary stage /* Python:snowflake.connector.pandas_tools.write_pandas()...]\n",
      "2022-10-25 00:48:21.184 query execution done\n",
      "2022-10-25 00:48:21.186 Number of results in first chunk: 1\n",
      "2022-10-25 00:48:21.195 query: [PUT /* Python:snowflake.connector.pandas_tools.write_pandas() */ 'file://C:\\\\Use...]\n",
      "2022-10-25 00:48:21.585 query execution done\n",
      "2022-10-25 00:48:24.406 query: [COPY INTO \"INCOME\" /* Python:snowflake.connector.pandas_tools.write_pandas() */ ...]\n",
      "2022-10-25 00:48:25.953 query execution done\n",
      "2022-10-25 00:48:25.955 Number of results in first chunk: 1\n"
     ]
    },
    {
     "data": {
      "text/plain": [
       "(True,\n",
       " 1,\n",
       " 3,\n",
       " [('ftdyg/file0.txt', 'LOADED', 3, 3, 1, 0, None, None, None, None)])"
      ]
     },
     "execution_count": 309,
     "metadata": {},
     "output_type": "execute_result"
    }
   ],
   "source": [
    "Income=['Alto ingreso','Ingreso medio alto','Ingreso medio bajo']\n",
    "CODIGO_INC=['H','M','LM']\n",
    "df = pd.DataFrame({'INCOME':Income, 'CODIGO_INCOME':CODIGO_INC}) #Se crea el dataframe para INCOME\n",
    "\n",
    "#Se codifica ID_INCOME a partir de Codigo_income\n",
    "le_income = LabelEncoder()\n",
    "le_income.fit(df['CODIGO_INCOME'])\n",
    "df['ID_INCOME'] = le_income.transform(df['CODIGO_INCOME'])\n",
    "\n",
    "#Se guarda la codificación\n",
    "filehandler = open(\"le_income.obj\",\"wb\")\n",
    "pickle.dump(le_income,filehandler)\n",
    "filehandler.close()\n",
    "\n",
    "write_pandas(conn, df, 'INCOME') # se ingesta el dataframe pd a la tabla INCOME\n"
   ]
  },
  {
   "cell_type": "markdown",
   "metadata": {},
   "source": [
    "Cargamos datos en la tabla INDICADOR"
   ]
  },
  {
   "cell_type": "code",
   "execution_count": 310,
   "metadata": {},
   "outputs": [
    {
     "name": "stderr",
     "output_type": "stream",
     "text": [
      "2022-10-25 00:48:31.598 query: [create temporary stage /* Python:snowflake.connector.pandas_tools.write_pandas()...]\n",
      "2022-10-25 00:48:31.959 query execution done\n",
      "2022-10-25 00:48:31.961 Number of results in first chunk: 1\n",
      "2022-10-25 00:48:31.975 query: [PUT /* Python:snowflake.connector.pandas_tools.write_pandas() */ 'file://C:\\\\Use...]\n",
      "2022-10-25 00:48:32.392 query execution done\n",
      "2022-10-25 00:48:34.900 query: [COPY INTO \"INDICADOR\" /* Python:snowflake.connector.pandas_tools.write_pandas() ...]\n",
      "2022-10-25 00:48:36.496 query execution done\n",
      "2022-10-25 00:48:36.497 Number of results in first chunk: 1\n"
     ]
    },
    {
     "data": {
      "text/plain": [
       "(True,\n",
       " 1,\n",
       " 38,\n",
       " [('tnaml/file0.txt', 'LOADED', 38, 38, 1, 0, None, None, None, None)])"
      ]
     },
     "execution_count": 310,
     "metadata": {},
     "output_type": "execute_result"
    }
   ],
   "source": [
    "Indicador = ['Average precipitation in depth (mm per year)',\n",
    "'emisiones de CO2 (kt)',\n",
    "'crecimiento de la poblacion (% anual)',\n",
    "'Educational attainment, at least completed primary, population 25+ years, female (%) (cumulative)',\n",
    "'School enrollment, tertiary (% gross)',\n",
    "'Tasa de alfabetizacion, total adultos (% de personas)',\n",
    "'Hepatitis B (HepB3) immunization coverage among 1-year-olds (%)',\n",
    "'Immunization, DPT (% of children ages 12-23 months)',\n",
    "'Immunization, measles (% of children ages 12-23 months)',\n",
    "'Incidence of HIV, all (per 1,000 uninfected population)',\n",
    "'Mortality rate, under-5 (per 1,000 live births)',\n",
    "'Number of deaths ages 5-9 years',\n",
    "'Number of infant deaths (per 1,000 live births)',\n",
    "'Polio (Pol3) immunization covergae among 1-year-olds (%)',\n",
    "'prevalencia del consumo de tabaco, hombres',\n",
    "'prevalencia del consumo de tabaco, mujeres',\n",
    "'tasa de mortalidad materna (cada 100.000 nacidos vivos)',\n",
    "'tasa de mortalidad menores de 5 años (por 1000nacidos vivos)',\n",
    "'tasa de mortalidad, adultos hombres (por cada 1000 adultos)',\n",
    "'tasa de mortalidad, adultos mujeres (por cada 1000 adultos)',\n",
    "'Total alcohol consumption per capita (liters of pure alcohol, projected estimates, 15+ years of age)',\n",
    "'Access to clean fuels and technologies for cooking, rural (% of rural population)',\n",
    "'Current education expenditure, primary (% of total expenditure in primary public institutions)',\n",
    "'Current health expenditure (% of GDP)',\n",
    "'desempleo total (% de la poblacion laboral)',\n",
    "'esperanza de vida al nacer, hombres (años)',\n",
    "'esperanza de vida al nacer, muejres (años)',\n",
    "'esperanza de vida al nacer, Total (años)',\n",
    "'gasto publico (% del pib)',\n",
    "'gasto publico en educación, total (% del pbi)',\n",
    "'GDP per capita (constant 2015 US$)',\n",
    "'poblacion que vive en barrios marginales (% de la poblacion urbana)',\n",
    "'Población Rural (% de la poblacion total)',\n",
    "'poblacion urbana (%poblacion total)',\n",
    "'Research and development expenditure (% of GDP)',\n",
    "'Researchers in R&D (per million people)',\n",
    "'tasa de recuento de la pobreza, multidimensional (%de la poblacion total)',\n",
    "'Trade in services (% of GDP)'\n",
    "]\n",
    "Code_Indicador = ['AG.LND.PRCP.MM',\n",
    "'EN.ATM.CO2E.KT',\n",
    "'SP.POP.GROW',\n",
    "'SE.PRM.CUAT.FE.ZS',\n",
    "'SE.TER.ENRR',\n",
    "'SE.ADT.LITR.ZS',\n",
    "'CSV1 from WHO',\n",
    "'SH.IMM.IDPT',\n",
    "'SH.IMM.MEAS',\n",
    "'SH.HIV.INCD.TL.P3',\n",
    "'SH.DYN.MORT',\n",
    "'SH.DTH.0509',\n",
    "'SH.DTH.IMRT.IN',\n",
    "'CSV2 from WHO',\n",
    "'SH.PRV.SMOK.MA',\n",
    "'SH.PRV.SMOK.FE',\n",
    "'SH.STA.MMRT',\n",
    "'SH.DYN.MORT',\n",
    "'SP.DYN.AMRT.MA',\n",
    "'SP.DYN.AMRT.FE',\n",
    "'SH.ALC.PCAP.LI',\n",
    "'EG.CFT.ACCS.RU.ZS',\n",
    "'SE.XPD.CPRM.ZS',\n",
    "'SH.XPD.CHEX.GD.ZS',\n",
    "'SL.UEM.TOTL.NE.ZS',\n",
    "'SP.DYN.LE00.MA.IN',\n",
    "'SP.DYN.LE00.FE.IN',\n",
    "'SP.DYN.LE00.IN',\n",
    "'GC.XPN.TOTL.GD.ZS',\n",
    "'SE.XPD.TOTL.GD.ZS',\n",
    "'NY.GDP.PCAP.KD',\n",
    "'EN.POP.SLUM.UR.ZS',\n",
    "'SP.RUR.TOTL.ZS',\n",
    "'SP.URB.TOTL.IN.ZS',\n",
    "'GB.XPD.RSDV.GD.ZS',\n",
    "'SP.POP.SCIE.RD.P6',\n",
    "'SI.POV.MDIM',\n",
    "'BG.GSR.NFSV.GD.ZS'\n",
    "]\n",
    "#Se crea el df para la tabla INDICADOR\n",
    "df=pd.DataFrame({'CODIGO':Code_Indicador,'DESCRIPCION':Indicador}) \n",
    "\n",
    "#Se codifica ID_INDICADOR a partir de CODIGO\n",
    "le_indicador = LabelEncoder()\n",
    "le_indicador.fit(df['CODIGO'])\n",
    "df['ID_INDICADOR'] = le_indicador.transform(df['CODIGO'])\n",
    "\n",
    "#Se guarda la codificación\n",
    "filehandler = open(\"le_indicador.obj\",\"wb\")\n",
    "pickle.dump(le_indicador,filehandler)\n",
    "filehandler.close()\n",
    "\n",
    "write_pandas(conn, df, 'INDICADOR') # se ingesta el dataframe pd a la tabla indicador"
   ]
  },
  {
   "cell_type": "markdown",
   "metadata": {},
   "source": [
    "### Cargamos datos a la tabla de hechos"
   ]
  },
  {
   "cell_type": "markdown",
   "metadata": {},
   "source": [
    "Ingestamos datos a la tabla de hechos sin los KPIs"
   ]
  },
  {
   "cell_type": "code",
   "execution_count": 29,
   "metadata": {},
   "outputs": [],
   "source": [
    "Indicador_code_INCOMPLETE = ['AG.LND.PRCP.MM',\n",
    "'EN.ATM.CO2E.KT',\n",
    "'SP.POP.GROW',\n",
    "'SE.PRM.CUAT.FE.ZS',\n",
    "'SE.TER.ENRR',\n",
    "'SE.ADT.LITR.ZS',\n",
    "'CSV1 from WHO',\n",
    "'SH.IMM.IDPT',\n",
    "'SH.IMM.MEAS',\n",
    "'SH.HIV.INCD.TL.P3',\n",
    "'SH.DTH.0509',\n",
    "'SH.DTH.IMRT.IN',\n",
    "'CSV24 from WHO',\n",
    "'SH.PRV.SMOK.MA',\n",
    "'SH.PRV.SMOK.FE',\n",
    "'SH.DYN.MORT',\n",
    "'SP.DYN.AMRT.MA',\n",
    "'SP.DYN.AMRT.FE',\n",
    "'SH.ALC.PCAP.LI',\n",
    "'EG.CFT.ACCS.RU.ZS',\n",
    "'SE.XPD.CPRM.ZS',\n",
    "'SH.XPD.CHEX.GD.ZS',\n",
    "'SL.UEM.TOTL.NE.ZS',\n",
    "'SP.DYN.LE00.MA.IN',\n",
    "'SP.DYN.LE00.FE.IN',\n",
    "'SE.XPD.TOTL.GD.ZS',\n",
    "'EN.POP.SLUM.UR.ZS',\n",
    "'SP.URB.TOTL.IN.ZS',\n",
    "'GB.XPD.RSDV.GD.ZS',\n",
    "'SP.POP.SCIE.RD.P6',\n",
    "'SI.POV.MDIM',\n",
    "'BG.GSR.NFSV.GD.ZS'\n",
    "]\n",
    "df2=wb.data.DataFrame(Indicador_code_INCOMPLETE, \n",
    "                  Nation_code, \n",
    "                  mrv= 30,\n",
    "                  columns='series',\n",
    "                  numericTimeKeys=True\n",
    "                  )\n",
    "df2=df2.reset_index()\n",
    "df2=df2.melt(id_vars=['economy','time'], var_name=\"ID_INDICADOR\", value_name=\"VALOR\")"
   ]
  },
  {
   "cell_type": "markdown",
   "metadata": {},
   "source": [
    "Ingesta a tabla de hechos los indicadores de KPIs diferenciando desde el año que existen datos"
   ]
  },
  {
   "cell_type": "code",
   "execution_count": 5,
   "metadata": {},
   "outputs": [],
   "source": [
    "Nation = ['United States', 'Canada','Mexico','Costa Rica','Panama','Brazil','Argentina','Chile','Uruguay','Bolivia','Peru','Egypt, Arab Rep.','Libya','South Africa','Nigeria','Morocco','Australia','China','India','Thailand','Japan','Korea, Rep.','Israel','Saudi Arabia','Malaysia','Indonesia','Russian Federation','Turkiye','Spain','Bulgaria','France','Italy','Germany','United Kingdom','Norway','Sweden','Greece']\n",
    "Nation_code= ['USA','CAN','MEX','CRI','PAN','BRA','ARG','CHL','URY','BOL','PER','EGY','LBY','ZAF','NGA','MAR','AUS','CHN','IND','THA','JPN','KOR','ISR','SAU','MYS','IDN','RUS','TUR','ESP','BGR','FRA','ITA','DEU','GBR','NOR','SWE','GRC']\n"
   ]
  },
  {
   "cell_type": "code",
   "execution_count": 33,
   "metadata": {},
   "outputs": [],
   "source": [
    "#Población rural desde 1960\n",
    "PR62=wb.data.DataFrame('SP.RUR.TOTL.ZS', \n",
    "                  Nation_code, \n",
    "                  mrv= 62,\n",
    "                  columns='series',\n",
    "                  numericTimeKeys=True\n",
    "                  )\n",
    "PR62=PR62.reset_index()"
   ]
  },
  {
   "cell_type": "code",
   "execution_count": 34,
   "metadata": {},
   "outputs": [],
   "source": [
    "#Esperanza de vida desde 1960\n",
    "EV61=wb.data.DataFrame('SP.DYN.LE00.IN', \n",
    "                  Nation_code, \n",
    "                  mrv= 61,\n",
    "                  columns='series',\n",
    "                  numericTimeKeys=True\n",
    "                  )\n",
    "EV61=EV61.reset_index()\n",
    "leftmerge=pd.merge(PR62,EV61, how=\"left\", on=['economy', 'time'] )\n"
   ]
  },
  {
   "cell_type": "code",
   "execution_count": 35,
   "metadata": {},
   "outputs": [],
   "source": [
    "#Ingreso per capita desde 1960\n",
    "IPC62=wb.data.DataFrame('NY.GDP.PCAP.KD', \n",
    "                  Nation_code, \n",
    "                  mrv= 62,\n",
    "                  columns='series',\n",
    "                  numericTimeKeys=True\n",
    "                  )\n",
    "IPC62=IPC62.reset_index()\n",
    "leftmerge=pd.merge(EV61,IPC62, how=\"left\", on=['economy', 'time'] )"
   ]
  },
  {
   "cell_type": "code",
   "execution_count": 36,
   "metadata": {},
   "outputs": [],
   "source": [
    "#Mortalidad materna desde 2000\n",
    "MM18=wb.data.DataFrame('SH.STA.MMRT', \n",
    "                  Nation_code, \n",
    "                  mrv= 18,\n",
    "                  columns='series',\n",
    "                  numericTimeKeys=True\n",
    "                  )\n",
    "MM18=MM18.reset_index()\n",
    "leftmerge=pd.merge(leftmerge,MM18, how=\"left\", on=['economy', 'time'] )"
   ]
  },
  {
   "cell_type": "code",
   "execution_count": 44,
   "metadata": {},
   "outputs": [],
   "source": [
    "#Inversion publica desde 1990\n",
    "GS31=wb.data.DataFrame('GC.XPN.TOTL.GD.ZS', \n",
    "                  Nation_code, \n",
    "                  mrv= 31,\n",
    "                  columns='series',\n",
    "                  numericTimeKeys=True\n",
    "                  )\n",
    "GS31=GS31.reset_index()\n",
    "leftmerge=pd.merge(leftmerge,GS31, how=\"left\", on=['economy', 'time'] )"
   ]
  },
  {
   "cell_type": "code",
   "execution_count": 38,
   "metadata": {},
   "outputs": [],
   "source": [
    "#GMortalidad infantil desde 1969\n",
    "MC52=wb.data.DataFrame('SH.DYN.MORT', \n",
    "                  Nation_code, \n",
    "                  mrv= 52,\n",
    "                  columns='series',\n",
    "                  numericTimeKeys=True\n",
    "                  )\n",
    "MC52=MC52.reset_index()\n",
    "leftmerge=pd.merge(leftmerge,MC52, how=\"left\", on=['economy', 'time'] )"
   ]
  },
  {
   "cell_type": "code",
   "execution_count": 39,
   "metadata": {},
   "outputs": [],
   "source": [
    "#Hacemos el melt de los datos para poder concatenar luego a la tabla de hechos\n",
    "leftmerge=leftmerge.melt(id_vars=['economy','time'], var_name=\"ID_INDICADOR\", value_name=\"VALOR\")"
   ]
  },
  {
   "cell_type": "code",
   "execution_count": 40,
   "metadata": {},
   "outputs": [
    {
     "data": {
      "text/html": [
       "<div>\n",
       "<style scoped>\n",
       "    .dataframe tbody tr th:only-of-type {\n",
       "        vertical-align: middle;\n",
       "    }\n",
       "\n",
       "    .dataframe tbody tr th {\n",
       "        vertical-align: top;\n",
       "    }\n",
       "\n",
       "    .dataframe thead th {\n",
       "        text-align: right;\n",
       "    }\n",
       "</style>\n",
       "<table border=\"1\" class=\"dataframe\">\n",
       "  <thead>\n",
       "    <tr style=\"text-align: right;\">\n",
       "      <th></th>\n",
       "      <th>economy</th>\n",
       "      <th>time</th>\n",
       "      <th>ID_INDICADOR</th>\n",
       "      <th>VALOR</th>\n",
       "    </tr>\n",
       "  </thead>\n",
       "  <tbody>\n",
       "    <tr>\n",
       "      <th>0</th>\n",
       "      <td>ARG</td>\n",
       "      <td>1960</td>\n",
       "      <td>SP.DYN.LE00.IN</td>\n",
       "      <td>65.055</td>\n",
       "    </tr>\n",
       "    <tr>\n",
       "      <th>1</th>\n",
       "      <td>ARG</td>\n",
       "      <td>1961</td>\n",
       "      <td>SP.DYN.LE00.IN</td>\n",
       "      <td>65.176</td>\n",
       "    </tr>\n",
       "    <tr>\n",
       "      <th>2</th>\n",
       "      <td>ARG</td>\n",
       "      <td>1962</td>\n",
       "      <td>SP.DYN.LE00.IN</td>\n",
       "      <td>65.269</td>\n",
       "    </tr>\n",
       "    <tr>\n",
       "      <th>3</th>\n",
       "      <td>ARG</td>\n",
       "      <td>1963</td>\n",
       "      <td>SP.DYN.LE00.IN</td>\n",
       "      <td>65.348</td>\n",
       "    </tr>\n",
       "    <tr>\n",
       "      <th>4</th>\n",
       "      <td>ARG</td>\n",
       "      <td>1964</td>\n",
       "      <td>SP.DYN.LE00.IN</td>\n",
       "      <td>65.426</td>\n",
       "    </tr>\n",
       "    <tr>\n",
       "      <th>...</th>\n",
       "      <td>...</td>\n",
       "      <td>...</td>\n",
       "      <td>...</td>\n",
       "      <td>...</td>\n",
       "    </tr>\n",
       "    <tr>\n",
       "      <th>11280</th>\n",
       "      <td>ZAF</td>\n",
       "      <td>2016</td>\n",
       "      <td>SH.DYN.MORT</td>\n",
       "      <td>35.200</td>\n",
       "    </tr>\n",
       "    <tr>\n",
       "      <th>11281</th>\n",
       "      <td>ZAF</td>\n",
       "      <td>2017</td>\n",
       "      <td>SH.DYN.MORT</td>\n",
       "      <td>34.600</td>\n",
       "    </tr>\n",
       "    <tr>\n",
       "      <th>11282</th>\n",
       "      <td>ZAF</td>\n",
       "      <td>2018</td>\n",
       "      <td>SH.DYN.MORT</td>\n",
       "      <td>33.900</td>\n",
       "    </tr>\n",
       "    <tr>\n",
       "      <th>11283</th>\n",
       "      <td>ZAF</td>\n",
       "      <td>2019</td>\n",
       "      <td>SH.DYN.MORT</td>\n",
       "      <td>33.000</td>\n",
       "    </tr>\n",
       "    <tr>\n",
       "      <th>11284</th>\n",
       "      <td>ZAF</td>\n",
       "      <td>2020</td>\n",
       "      <td>SH.DYN.MORT</td>\n",
       "      <td>32.200</td>\n",
       "    </tr>\n",
       "  </tbody>\n",
       "</table>\n",
       "<p>11285 rows × 4 columns</p>\n",
       "</div>"
      ],
      "text/plain": [
       "      economy  time    ID_INDICADOR   VALOR\n",
       "0         ARG  1960  SP.DYN.LE00.IN  65.055\n",
       "1         ARG  1961  SP.DYN.LE00.IN  65.176\n",
       "2         ARG  1962  SP.DYN.LE00.IN  65.269\n",
       "3         ARG  1963  SP.DYN.LE00.IN  65.348\n",
       "4         ARG  1964  SP.DYN.LE00.IN  65.426\n",
       "...       ...   ...             ...     ...\n",
       "11280     ZAF  2016     SH.DYN.MORT  35.200\n",
       "11281     ZAF  2017     SH.DYN.MORT  34.600\n",
       "11282     ZAF  2018     SH.DYN.MORT  33.900\n",
       "11283     ZAF  2019     SH.DYN.MORT  33.000\n",
       "11284     ZAF  2020     SH.DYN.MORT  32.200\n",
       "\n",
       "[11285 rows x 4 columns]"
      ]
     },
     "execution_count": 40,
     "metadata": {},
     "output_type": "execute_result"
    }
   ],
   "source": [
    "leftmerge"
   ]
  },
  {
   "cell_type": "code",
   "execution_count": 318,
   "metadata": {},
   "outputs": [],
   "source": [
    "#Agregamos los indicadores de KPI's a la tabla de hechos\n",
    "hechos=pd.concat([df2,leftmerge])\n",
    "#Renombramos las columnas economy y time\n",
    "hechos=hechos.rename(columns={'economy':'CODIGO_PAIS','time':'ANIO'})"
   ]
  },
  {
   "cell_type": "code",
   "execution_count": 319,
   "metadata": {},
   "outputs": [],
   "source": [
    "#Cargamos codificación guardada anteriormente para indicador\n",
    "file = open(\"le_indicador.obj\",'rb')\n",
    "le_loaded = pickle.load(file)\n",
    "file.close()\n",
    "#transformamos ID_INDICADOR\n",
    "hechos['ID_INDICADOR'] = le_loaded.transform(hechos['ID_INDICADOR'])"
   ]
  },
  {
   "cell_type": "markdown",
   "metadata": {},
   "source": [
    "Creamos la columna Id_continente a partir de los países"
   ]
  },
  {
   "cell_type": "code",
   "execution_count": 320,
   "metadata": {},
   "outputs": [],
   "source": [
    "lista_america=['ARG','CAN','MEX','USA','PAN','BRA','ARG','CHL','URY','BOL','PER','CRI']\n",
    "lista_africa=['EGY','LBY','ZAF','NGA','MAR']\n",
    "lista_asia=['CHN','IND','THA','JPN','KOR','ISR','SAU','MYS','IDN','RUS','TUR']\n",
    "lista_europa=['ESP','BGR','FRA','ITA','DEU','GBR','NOR','SWE','GRC']\n",
    "lista_oceania=['AUS']\n",
    "\n",
    "def categoria_pais(row):\n",
    "    if row['CODIGO_PAIS'] in lista_america:\n",
    "        return \"America\"\n",
    "    if row['CODIGO_PAIS'] in lista_europa:\n",
    "        return \"Europa\"\n",
    "    if row['CODIGO_PAIS'] in lista_asia:\n",
    "        return \"Asia\"\n",
    "    if row['CODIGO_PAIS'] in lista_africa:\n",
    "        return \"Africa\"\n",
    "    if row['CODIGO_PAIS'] in lista_oceania:\n",
    "        return \"Oceania\"\n",
    "\n",
    "hechos['CONTINENTE'] = hechos.apply(lambda row: categoria_pais(row), axis=1)\n",
    "\n",
    "#Abrimos encoder guardado\n",
    "file = open(\"le_conti.obj\",'rb')\n",
    "le_loaded = pickle.load(file)\n",
    "file.close()\n",
    "\n",
    "#Codificamos columna CONTINENTE como ID_CONTINENTE\n",
    "hechos['ID_CONTINENTE'] = le_loaded.transform(hechos['CONTINENTE'])\n",
    "\n",
    "#label_encoder = preprocessing.LabelEncoder()\n",
    "#numero_indicador = label_encoder.fit_transform(hechos['CONTINENTE'])\n",
    "#hechos['ID_CONTINENTE'] = hechos.apply(lambda row: numero_indicador(row), axis=1)\n",
    "#hechos['ID_CONTINENTE'] = hechos.apply(lambda row: categoria_pais(row), axis=1)"
   ]
  },
  {
   "cell_type": "markdown",
   "metadata": {},
   "source": [
    "Creamos la columna ID_INGRESO a partir de una lista y del nombre del pais"
   ]
  },
  {
   "cell_type": "code",
   "execution_count": 321,
   "metadata": {},
   "outputs": [],
   "source": [
    "lista_alto=['CAN','USA','PAN','CHL','URY','AUS','JPN','KOR','ISR','SAU','ESP','FRA','ITA','DEU','GBR','NOR','SWE','GRC']\n",
    "lista_medioalto=['ARG','MEX','BRA','ARG','CRI','PER','BGR','TUR','LBY','ZAF','RUS']\n",
    "lista_mediobajo=['CHN','THA','MYS','BOL','EGY','NGA','MAR','IND','IDN']\n",
    "\n",
    "\n",
    "def ingreso_pais(row):\n",
    "    if row['CODIGO_PAIS'] in lista_alto:\n",
    "        return 'H'\n",
    "    if row['CODIGO_PAIS'] in lista_medioalto:\n",
    "        return 'M'\n",
    "    if row['CODIGO_PAIS'] in lista_mediobajo:\n",
    "        return 'LM'\n",
    "    \n",
    "hechos['CODIGO_INCOME'] = hechos.apply(lambda row: ingreso_pais(row), axis=1)\n",
    "\n",
    "#Abrimos encoder guardado\n",
    "file = open(\"le_income.obj\",'rb')\n",
    "le_loaded = pickle.load(file)\n",
    "file.close()\n",
    "\n",
    "#Codificamos columna CONTINENTE como ID_CONTINENTE\n",
    "hechos['ID_INCOME'] = le_loaded.transform(hechos['CODIGO_INCOME'])\n",
    "\n"
   ]
  },
  {
   "cell_type": "markdown",
   "metadata": {},
   "source": [
    "Codificamos la columna ID_PAIS"
   ]
  },
  {
   "cell_type": "code",
   "execution_count": 322,
   "metadata": {},
   "outputs": [],
   "source": [
    "#Abrimos encoder guardado\n",
    "file = open(\"le_nation.obj\",'rb')\n",
    "le_loaded = pickle.load(file)\n",
    "file.close()\n",
    "\n",
    "#Codificamos columna CODIGO_PAIS como ID_PAIS\n",
    "hechos['ID_PAIS'] = le_loaded.transform(hechos['CODIGO_PAIS'])"
   ]
  },
  {
   "cell_type": "code",
   "execution_count": 323,
   "metadata": {},
   "outputs": [],
   "source": [
    "hechos=hechos.drop(columns=['CODIGO_PAIS','CONTINENTE', 'CODIGO_INCOME'])"
   ]
  },
  {
   "cell_type": "code",
   "execution_count": 324,
   "metadata": {},
   "outputs": [
    {
     "data": {
      "text/html": [
       "<div>\n",
       "<style scoped>\n",
       "    .dataframe tbody tr th:only-of-type {\n",
       "        vertical-align: middle;\n",
       "    }\n",
       "\n",
       "    .dataframe tbody tr th {\n",
       "        vertical-align: top;\n",
       "    }\n",
       "\n",
       "    .dataframe thead th {\n",
       "        text-align: right;\n",
       "    }\n",
       "</style>\n",
       "<table border=\"1\" class=\"dataframe\">\n",
       "  <thead>\n",
       "    <tr style=\"text-align: right;\">\n",
       "      <th></th>\n",
       "      <th>ANIO</th>\n",
       "      <th>ID_INDICADOR</th>\n",
       "      <th>VALOR</th>\n",
       "      <th>ID_CONTINENTE</th>\n",
       "      <th>ID_INCOME</th>\n",
       "      <th>ID_PAIS</th>\n",
       "    </tr>\n",
       "  </thead>\n",
       "  <tbody>\n",
       "    <tr>\n",
       "      <th>0</th>\n",
       "      <td>1992</td>\n",
       "      <td>0</td>\n",
       "      <td>591.0</td>\n",
       "      <td>1</td>\n",
       "      <td>2</td>\n",
       "      <td>0</td>\n",
       "    </tr>\n",
       "    <tr>\n",
       "      <th>1</th>\n",
       "      <td>1993</td>\n",
       "      <td>0</td>\n",
       "      <td>NaN</td>\n",
       "      <td>1</td>\n",
       "      <td>2</td>\n",
       "      <td>0</td>\n",
       "    </tr>\n",
       "    <tr>\n",
       "      <th>2</th>\n",
       "      <td>1994</td>\n",
       "      <td>0</td>\n",
       "      <td>NaN</td>\n",
       "      <td>1</td>\n",
       "      <td>2</td>\n",
       "      <td>0</td>\n",
       "    </tr>\n",
       "    <tr>\n",
       "      <th>3</th>\n",
       "      <td>1995</td>\n",
       "      <td>0</td>\n",
       "      <td>NaN</td>\n",
       "      <td>1</td>\n",
       "      <td>2</td>\n",
       "      <td>0</td>\n",
       "    </tr>\n",
       "    <tr>\n",
       "      <th>4</th>\n",
       "      <td>1996</td>\n",
       "      <td>0</td>\n",
       "      <td>NaN</td>\n",
       "      <td>1</td>\n",
       "      <td>2</td>\n",
       "      <td>0</td>\n",
       "    </tr>\n",
       "    <tr>\n",
       "      <th>...</th>\n",
       "      <td>...</td>\n",
       "      <td>...</td>\n",
       "      <td>...</td>\n",
       "      <td>...</td>\n",
       "      <td>...</td>\n",
       "      <td>...</td>\n",
       "    </tr>\n",
       "    <tr>\n",
       "      <th>11280</th>\n",
       "      <td>2016</td>\n",
       "      <td>18</td>\n",
       "      <td>35.2</td>\n",
       "      <td>0</td>\n",
       "      <td>2</td>\n",
       "      <td>36</td>\n",
       "    </tr>\n",
       "    <tr>\n",
       "      <th>11281</th>\n",
       "      <td>2017</td>\n",
       "      <td>18</td>\n",
       "      <td>34.6</td>\n",
       "      <td>0</td>\n",
       "      <td>2</td>\n",
       "      <td>36</td>\n",
       "    </tr>\n",
       "    <tr>\n",
       "      <th>11282</th>\n",
       "      <td>2018</td>\n",
       "      <td>18</td>\n",
       "      <td>33.9</td>\n",
       "      <td>0</td>\n",
       "      <td>2</td>\n",
       "      <td>36</td>\n",
       "    </tr>\n",
       "    <tr>\n",
       "      <th>11283</th>\n",
       "      <td>2019</td>\n",
       "      <td>18</td>\n",
       "      <td>33.0</td>\n",
       "      <td>0</td>\n",
       "      <td>2</td>\n",
       "      <td>36</td>\n",
       "    </tr>\n",
       "    <tr>\n",
       "      <th>11284</th>\n",
       "      <td>2020</td>\n",
       "      <td>18</td>\n",
       "      <td>32.2</td>\n",
       "      <td>0</td>\n",
       "      <td>2</td>\n",
       "      <td>36</td>\n",
       "    </tr>\n",
       "  </tbody>\n",
       "</table>\n",
       "<p>44585 rows × 6 columns</p>\n",
       "</div>"
      ],
      "text/plain": [
       "       ANIO  ID_INDICADOR  VALOR  ID_CONTINENTE  ID_INCOME  ID_PAIS\n",
       "0      1992             0  591.0              1          2        0\n",
       "1      1993             0    NaN              1          2        0\n",
       "2      1994             0    NaN              1          2        0\n",
       "3      1995             0    NaN              1          2        0\n",
       "4      1996             0    NaN              1          2        0\n",
       "...     ...           ...    ...            ...        ...      ...\n",
       "11280  2016            18   35.2              0          2       36\n",
       "11281  2017            18   34.6              0          2       36\n",
       "11282  2018            18   33.9              0          2       36\n",
       "11283  2019            18   33.0              0          2       36\n",
       "11284  2020            18   32.2              0          2       36\n",
       "\n",
       "[44585 rows x 6 columns]"
      ]
     },
     "execution_count": 324,
     "metadata": {},
     "output_type": "execute_result"
    }
   ],
   "source": [
    "hechos"
   ]
  },
  {
   "cell_type": "markdown",
   "metadata": {},
   "source": [
    "Cargamos lo indicadores \"Hepatitis B\", \"Gasto en salud\" y \"Polio\" desde un CSV descargado de la página de WHO"
   ]
  },
  {
   "cell_type": "code",
   "execution_count": 211,
   "metadata": {},
   "outputs": [],
   "source": [
    "Hepa=pd.read_csv('https://raw.githubusercontent.com/grupohenryds03/esperanza_vida/main/datasets/HepatitisB.csv')"
   ]
  },
  {
   "cell_type": "code",
   "execution_count": 325,
   "metadata": {},
   "outputs": [],
   "source": [
    "Countries = ['United States', 'Canada','Mexico','Costa Rica','Panama','Brazil','Argentina','Chile','Uruguay','Bolivia','Peru','Egypt, Arab Rep.','Libya','South Africa','Nigeria','Morocco','Australia','China','India','Thailand','Japan','Korea, Rep.','Israel','Saudi Arabia','Malaysia','Indonesia','Russian Federation','Turkiye','Spain','Bulgaria','France','Italy','Germany','United Kingdom','Norway','Sweden','Greece']\n",
    "Nation_code= ['USA','CAN','MEX','CRI','PAN','BRA','ARG','CHL','URY','BOL','PER','EGY','LBY','ZAF','NGA','MAR','AUS','CHN','IND','THA','JPN','KOR','ISR','SAU','MYS','IDN','RUS','TUR','ESP','BGR','FRA','ITA','DEU','GBR','NOR','SWE','GRC']\n",
    "\n",
    "Hepatitis=pd.DataFrame({2000:[],2001:[],2002:[],2003:[]})\n",
    "for n in Nation_code:\n",
    "    Hepa2=Hepa[['Location','Period', 'Value','SpatialDimValueCode']]\n",
    "    Hepa2=Hepa2.loc[Hepa2['SpatialDimValueCode']==n]\n",
    "    Hepa2=Hepa2.sort_values(by=['Period'])\n",
    "    Hepa2=Hepa2.set_index('Period').T\n",
    "    Hepa2=Hepa2.drop(['Location','SpatialDimValueCode'])\n",
    "    Hepa2=Hepa2.rename(index={'Value':n})\n",
    "    Hepatitis=pd.concat([Hepatitis,Hepa2])\n",
    "\n",
    "Hepatitis=Hepatitis.reset_index()\n",
    "Hepatitis=Hepatitis.melt(id_vars=['index'], var_name=\"ANIO\", value_name=\"VALOR\")\n",
    "Hepatitis['ID_INDICADOR']=2\n",
    "Hepatitis=Hepatitis.rename(columns={\"index\":\"CODIGO_PAIS\"})"
   ]
  },
  {
   "cell_type": "code",
   "execution_count": 215,
   "metadata": {},
   "outputs": [],
   "source": [
    "Polio=pd.read_csv('https://raw.githubusercontent.com/grupohenryds03/esperanza_vida/main/datasets/Polio.csv')"
   ]
  },
  {
   "cell_type": "code",
   "execution_count": 326,
   "metadata": {},
   "outputs": [],
   "source": [
    "Poliodf=pd.DataFrame({2000:[],2001:[],2002:[],2003:[]})\n",
    "for n in Nation_code:\n",
    "    Polio2=Polio[['Location','Period', 'Value', 'SpatialDimValueCode']]\n",
    "    Polio2=Polio2.loc[Polio2['SpatialDimValueCode']==n]\n",
    "    Polio2=Polio2.sort_values(by=['Period'])\n",
    "    Polio2=Polio2.set_index('Period').T\n",
    "    Polio2=Polio2.drop(['Location', 'SpatialDimValueCode' ])\n",
    "    Polio2=Polio2.rename(index={'Value':n})\n",
    "    Poliodf=pd.concat([Poliodf,Polio2])\n",
    "    \n",
    "Poliodf=Poliodf.reset_index()\n",
    "Poliodf=Poliodf.melt(id_vars=['index'], var_name=\"ANIO\", value_name=\"VALOR\")\n",
    "Poliodf['ID_INDICADOR']=3\n",
    "Poliodf=Poliodf.rename(columns={\"index\":\"CODIGO_PAIS\"})"
   ]
  },
  {
   "cell_type": "markdown",
   "metadata": {},
   "source": [
    "Concatenamos las tablas del WHO"
   ]
  },
  {
   "cell_type": "code",
   "execution_count": 327,
   "metadata": {},
   "outputs": [],
   "source": [
    "WHO=pd.concat([Hepatitis,Poliodf])"
   ]
  },
  {
   "cell_type": "markdown",
   "metadata": {},
   "source": [
    "Agregamos las columnas ID_CONTINENTE, ID_INCOME y ID_PAIS con el mismo criterio de la tabla Hechos"
   ]
  },
  {
   "cell_type": "code",
   "execution_count": 328,
   "metadata": {},
   "outputs": [],
   "source": [
    "lista_america=['ARG','CAN','MEX','USA','PAN','BRA','ARG','CHL','URY','BOL','PER','CRI']\n",
    "lista_africa=['EGY','LBY','ZAF','NGA','MAR']\n",
    "lista_asia=['CHN','IND','THA','JPN','KOR','ISR','SAU','MYS','IDN','RUS','TUR']\n",
    "lista_europa=['ESP','BGR','FRA','ITA','DEU','GBR','NOR','SWE','GRC']\n",
    "lista_oceania=['AUS']\n",
    "\n",
    "def categoria_pais(row):\n",
    "    if row['CODIGO_PAIS'] in lista_america:\n",
    "        return \"America\"\n",
    "    if row['CODIGO_PAIS'] in lista_europa:\n",
    "        return \"Europa\"\n",
    "    if row['CODIGO_PAIS'] in lista_asia:\n",
    "        return \"Asia\"\n",
    "    if row['CODIGO_PAIS'] in lista_africa:\n",
    "        return \"Africa\"\n",
    "    if row['CODIGO_PAIS'] in lista_oceania:\n",
    "        return \"Oceania\"\n",
    "\n",
    "WHO['CONTINENTE'] = WHO.apply(lambda row: categoria_pais(row), axis=1)\n",
    "\n",
    "#Abrimos encoder guardado\n",
    "file = open(\"le_conti.obj\",'rb')\n",
    "le_loaded = pickle.load(file)\n",
    "file.close()\n",
    "\n",
    "#Codificamos columna CONTINENTE como ID_CONTINENTE\n",
    "WHO['ID_CONTINENTE'] = le_loaded.transform(WHO['CONTINENTE'])\n",
    "\n",
    "\n",
    "lista_alto=['CAN','USA','PAN','CHL','URY','AUS','JPN','KOR','ISR','SAU','ESP','FRA','ITA','DEU','GBR','NOR','SWE','GRC']\n",
    "lista_medioalto=['ARG','MEX','BRA','ARG','CRI','PER','BGR','TUR','LBY','ZAF','RUS']\n",
    "lista_mediobajo=['CHN','THA','MYS','BOL','EGY','NGA','MAR','IND','IDN']\n",
    "\n",
    "def ingreso_pais(row):\n",
    "    if row['CODIGO_PAIS'] in lista_alto:\n",
    "        return 'H'\n",
    "    if row['CODIGO_PAIS'] in lista_medioalto:\n",
    "        return 'M'\n",
    "    if row['CODIGO_PAIS'] in lista_mediobajo:\n",
    "        return 'LM'\n",
    "    \n",
    "WHO['CODIGO_INCOME'] = WHO.apply(lambda row: ingreso_pais(row), axis=1)\n",
    "\n",
    "#Abrimos encoder guardado\n",
    "file = open(\"le_income.obj\",'rb')\n",
    "le_loaded = pickle.load(file)\n",
    "file.close()\n",
    "\n",
    "#Codificamos columna INCOME como ID_INCOME\n",
    "WHO['ID_INCOME'] = le_loaded.transform(WHO['CODIGO_INCOME'])\n",
    "\n",
    "#Abrimos encoder guardado\n",
    "file = open(\"le_nation.obj\",'rb')\n",
    "le_loaded = pickle.load(file)\n",
    "file.close()\n",
    "\n",
    "#Codificamos columna CODIGO_PAIS como ID_PAIS\n",
    "WHO['ID_PAIS'] = le_loaded.transform(WHO['CODIGO_PAIS'])\n"
   ]
  },
  {
   "cell_type": "code",
   "execution_count": 329,
   "metadata": {},
   "outputs": [],
   "source": [
    "WHO=WHO.drop(columns=['CODIGO_PAIS','CONTINENTE','CODIGO_INCOME'])"
   ]
  },
  {
   "cell_type": "code",
   "execution_count": 330,
   "metadata": {},
   "outputs": [
    {
     "data": {
      "text/html": [
       "<div>\n",
       "<style scoped>\n",
       "    .dataframe tbody tr th:only-of-type {\n",
       "        vertical-align: middle;\n",
       "    }\n",
       "\n",
       "    .dataframe tbody tr th {\n",
       "        vertical-align: top;\n",
       "    }\n",
       "\n",
       "    .dataframe thead th {\n",
       "        text-align: right;\n",
       "    }\n",
       "</style>\n",
       "<table border=\"1\" class=\"dataframe\">\n",
       "  <thead>\n",
       "    <tr style=\"text-align: right;\">\n",
       "      <th></th>\n",
       "      <th>ANIO</th>\n",
       "      <th>VALOR</th>\n",
       "      <th>ID_INDICADOR</th>\n",
       "      <th>ID_CONTINENTE</th>\n",
       "      <th>ID_INCOME</th>\n",
       "      <th>ID_PAIS</th>\n",
       "    </tr>\n",
       "  </thead>\n",
       "  <tbody>\n",
       "    <tr>\n",
       "      <th>0</th>\n",
       "      <td>2000</td>\n",
       "      <td>90</td>\n",
       "      <td>2</td>\n",
       "      <td>1</td>\n",
       "      <td>0</td>\n",
       "      <td>35</td>\n",
       "    </tr>\n",
       "    <tr>\n",
       "      <th>1</th>\n",
       "      <td>2000</td>\n",
       "      <td>NaN</td>\n",
       "      <td>2</td>\n",
       "      <td>1</td>\n",
       "      <td>0</td>\n",
       "      <td>5</td>\n",
       "    </tr>\n",
       "    <tr>\n",
       "      <th>2</th>\n",
       "      <td>2000</td>\n",
       "      <td>97</td>\n",
       "      <td>2</td>\n",
       "      <td>1</td>\n",
       "      <td>2</td>\n",
       "      <td>23</td>\n",
       "    </tr>\n",
       "    <tr>\n",
       "      <th>3</th>\n",
       "      <td>2000</td>\n",
       "      <td>89</td>\n",
       "      <td>2</td>\n",
       "      <td>1</td>\n",
       "      <td>2</td>\n",
       "      <td>8</td>\n",
       "    </tr>\n",
       "    <tr>\n",
       "      <th>4</th>\n",
       "      <td>2000</td>\n",
       "      <td>NaN</td>\n",
       "      <td>2</td>\n",
       "      <td>1</td>\n",
       "      <td>0</td>\n",
       "      <td>27</td>\n",
       "    </tr>\n",
       "  </tbody>\n",
       "</table>\n",
       "</div>"
      ],
      "text/plain": [
       "   ANIO VALOR  ID_INDICADOR  ID_CONTINENTE  ID_INCOME  ID_PAIS\n",
       "0  2000    90             2              1          0       35\n",
       "1  2000   NaN             2              1          0        5\n",
       "2  2000    97             2              1          2       23\n",
       "3  2000    89             2              1          2        8\n",
       "4  2000   NaN             2              1          0       27"
      ]
     },
     "execution_count": 330,
     "metadata": {},
     "output_type": "execute_result"
    }
   ],
   "source": [
    "WHO.head()"
   ]
  },
  {
   "cell_type": "markdown",
   "metadata": {},
   "source": [
    "Concatenamos las tabla WHO con la tabla de hechos"
   ]
  },
  {
   "cell_type": "code",
   "execution_count": 331,
   "metadata": {},
   "outputs": [],
   "source": [
    "hechos=pd.concat([hechos,WHO])"
   ]
  },
  {
   "cell_type": "code",
   "execution_count": 332,
   "metadata": {},
   "outputs": [
    {
     "data": {
      "text/html": [
       "<div>\n",
       "<style scoped>\n",
       "    .dataframe tbody tr th:only-of-type {\n",
       "        vertical-align: middle;\n",
       "    }\n",
       "\n",
       "    .dataframe tbody tr th {\n",
       "        vertical-align: top;\n",
       "    }\n",
       "\n",
       "    .dataframe thead th {\n",
       "        text-align: right;\n",
       "    }\n",
       "</style>\n",
       "<table border=\"1\" class=\"dataframe\">\n",
       "  <thead>\n",
       "    <tr style=\"text-align: right;\">\n",
       "      <th></th>\n",
       "      <th>ANIO</th>\n",
       "      <th>ID_INDICADOR</th>\n",
       "      <th>VALOR</th>\n",
       "      <th>ID_CONTINENTE</th>\n",
       "      <th>ID_INCOME</th>\n",
       "      <th>ID_PAIS</th>\n",
       "    </tr>\n",
       "  </thead>\n",
       "  <tbody>\n",
       "    <tr>\n",
       "      <th>0</th>\n",
       "      <td>1992</td>\n",
       "      <td>0</td>\n",
       "      <td>591.0</td>\n",
       "      <td>1</td>\n",
       "      <td>2</td>\n",
       "      <td>0</td>\n",
       "    </tr>\n",
       "    <tr>\n",
       "      <th>1</th>\n",
       "      <td>1993</td>\n",
       "      <td>0</td>\n",
       "      <td>NaN</td>\n",
       "      <td>1</td>\n",
       "      <td>2</td>\n",
       "      <td>0</td>\n",
       "    </tr>\n",
       "    <tr>\n",
       "      <th>2</th>\n",
       "      <td>1994</td>\n",
       "      <td>0</td>\n",
       "      <td>NaN</td>\n",
       "      <td>1</td>\n",
       "      <td>2</td>\n",
       "      <td>0</td>\n",
       "    </tr>\n",
       "    <tr>\n",
       "      <th>3</th>\n",
       "      <td>1995</td>\n",
       "      <td>0</td>\n",
       "      <td>NaN</td>\n",
       "      <td>1</td>\n",
       "      <td>2</td>\n",
       "      <td>0</td>\n",
       "    </tr>\n",
       "    <tr>\n",
       "      <th>4</th>\n",
       "      <td>1996</td>\n",
       "      <td>0</td>\n",
       "      <td>NaN</td>\n",
       "      <td>1</td>\n",
       "      <td>2</td>\n",
       "      <td>0</td>\n",
       "    </tr>\n",
       "    <tr>\n",
       "      <th>...</th>\n",
       "      <td>...</td>\n",
       "      <td>...</td>\n",
       "      <td>...</td>\n",
       "      <td>...</td>\n",
       "      <td>...</td>\n",
       "      <td>...</td>\n",
       "    </tr>\n",
       "    <tr>\n",
       "      <th>809</th>\n",
       "      <td>2021</td>\n",
       "      <td>3</td>\n",
       "      <td>91</td>\n",
       "      <td>3</td>\n",
       "      <td>0</td>\n",
       "      <td>9</td>\n",
       "    </tr>\n",
       "    <tr>\n",
       "      <th>810</th>\n",
       "      <td>2021</td>\n",
       "      <td>3</td>\n",
       "      <td>93</td>\n",
       "      <td>3</td>\n",
       "      <td>0</td>\n",
       "      <td>13</td>\n",
       "    </tr>\n",
       "    <tr>\n",
       "      <th>811</th>\n",
       "      <td>2021</td>\n",
       "      <td>3</td>\n",
       "      <td>97</td>\n",
       "      <td>3</td>\n",
       "      <td>0</td>\n",
       "      <td>26</td>\n",
       "    </tr>\n",
       "    <tr>\n",
       "      <th>812</th>\n",
       "      <td>2021</td>\n",
       "      <td>3</td>\n",
       "      <td>98</td>\n",
       "      <td>3</td>\n",
       "      <td>0</td>\n",
       "      <td>31</td>\n",
       "    </tr>\n",
       "    <tr>\n",
       "      <th>813</th>\n",
       "      <td>2021</td>\n",
       "      <td>3</td>\n",
       "      <td>99</td>\n",
       "      <td>3</td>\n",
       "      <td>0</td>\n",
       "      <td>14</td>\n",
       "    </tr>\n",
       "  </tbody>\n",
       "</table>\n",
       "<p>46213 rows × 6 columns</p>\n",
       "</div>"
      ],
      "text/plain": [
       "     ANIO  ID_INDICADOR  VALOR  ID_CONTINENTE  ID_INCOME  ID_PAIS\n",
       "0    1992             0  591.0              1          2        0\n",
       "1    1993             0    NaN              1          2        0\n",
       "2    1994             0    NaN              1          2        0\n",
       "3    1995             0    NaN              1          2        0\n",
       "4    1996             0    NaN              1          2        0\n",
       "..    ...           ...    ...            ...        ...      ...\n",
       "809  2021             3     91              3          0        9\n",
       "810  2021             3     93              3          0       13\n",
       "811  2021             3     97              3          0       26\n",
       "812  2021             3     98              3          0       31\n",
       "813  2021             3     99              3          0       14\n",
       "\n",
       "[46213 rows x 6 columns]"
      ]
     },
     "execution_count": 332,
     "metadata": {},
     "output_type": "execute_result"
    }
   ],
   "source": [
    "hechos"
   ]
  },
  {
   "cell_type": "markdown",
   "metadata": {},
   "source": [
    "Cargamos los datos de la tabla hechos a la tabla EV de snowflake"
   ]
  },
  {
   "cell_type": "code",
   "execution_count": 333,
   "metadata": {},
   "outputs": [
    {
     "name": "stderr",
     "output_type": "stream",
     "text": [
      "2022-10-25 00:53:40.729 query: [create temporary stage /* Python:snowflake.connector.pandas_tools.write_pandas()...]\n",
      "2022-10-25 00:53:42.499 query execution done\n",
      "2022-10-25 00:53:42.500 Number of results in first chunk: 1\n",
      "2022-10-25 00:53:42.665 query: [PUT /* Python:snowflake.connector.pandas_tools.write_pandas() */ 'file://C:\\\\Use...]\n",
      "2022-10-25 00:53:43.048 query execution done\n",
      "2022-10-25 00:53:46.283 query: [COPY INTO \"EV\" /* Python:snowflake.connector.pandas_tools.write_pandas() */ (\"AN...]\n",
      "2022-10-25 00:53:48.133 query execution done\n",
      "2022-10-25 00:53:48.135 Number of results in first chunk: 1\n",
      "2022-10-25 00:53:48.137 closed\n",
      "2022-10-25 00:53:48.364 No async queries seem to be running, deleting session\n"
     ]
    }
   ],
   "source": [
    "write_pandas(conn, hechos, 'EV') # se ingesta el dataframe pd a la tabla EV\n",
    "# se cortan las conexiones\n",
    "conn.close()"
   ]
  },
  {
   "cell_type": "code",
   "execution_count": 211,
   "metadata": {},
   "outputs": [],
   "source": [
    "#hechos.to_csv('hechos_1.csv', index=False)"
   ]
  },
  {
   "cell_type": "markdown",
   "metadata": {},
   "source": [
    "### Hacemos consultas"
   ]
  },
  {
   "cell_type": "code",
   "execution_count": 3,
   "metadata": {},
   "outputs": [
    {
     "name": "stderr",
     "output_type": "stream",
     "text": [
      "2022-10-25 11:03:44.365 INFO    snowflake.connector.connection: Snowflake Connector for Python Version: 2.8.0, Python Version: 3.10.5, Platform: Windows-10-10.0.19044-SP0\n",
      "2022-10-25 11:03:44.367 INFO    snowflake.connector.connection: This connection is in OCSP Fail Open Mode. TLS Certificates would be checked for validity and revocation status. Any other Certificate Revocation related exceptions or OCSP Responder failures would be disregarded in favor of connectivity.\n",
      "2022-10-25 11:03:44.371 INFO    snowflake.connector.connection: Setting use_openssl_only mode to False\n"
     ]
    }
   ],
   "source": [
    "#se crea conexión\n",
    "cnn = snowflake.connector.connect(\n",
    "    user='grupods03',\n",
    "    password='Henry2022#',\n",
    "    account='nr28668.sa-east-1.aws',\n",
    "    warehouse='DW_EV',\n",
    "    database=\"LAKE\")\n",
    "    #role ='ACCOUNTADMIN',\n",
    "    #schema ='PUBLIC')"
   ]
  },
  {
   "cell_type": "code",
   "execution_count": null,
   "metadata": {},
   "outputs": [],
   "source": [
    "#se crea conexión\n",
    "cnn1 = snowflake.connector.connect(\n",
    "    user=st.secrets.snowflake.user,\n",
    "    password=st.secrets.snowflake.password,\n",
    "    account=st.secrets.snowflake.account,\n",
    "    warehouse=st.secrets.snowflake.warehouse,\n",
    "    database=st.secrets.snowflake.database)\n",
    "    #role ='ACCOUNTADMIN',\n",
    "    #schema ='PUBLIC')"
   ]
  },
  {
   "cell_type": "code",
   "execution_count": 17,
   "metadata": {},
   "outputs": [
    {
     "name": "stderr",
     "output_type": "stream",
     "text": [
      "c:\\Users\\Jhovany Lara\\AppData\\Local\\Programs\\Python\\Python310\\lib\\site-packages\\pandas\\io\\sql.py:758: UserWarning: pandas only support SQLAlchemy connectable(engine/connection) ordatabase string URI or sqlite3 DBAPI2 connectionother DBAPI2 objects are not tested, please consider using SQLAlchemy\n",
      "  warnings.warn(\n",
      "2022-10-24 12:41:14.134 query: [SELECT * FROM PAIS]\n",
      "2022-10-24 12:41:16.869 query execution done\n",
      "2022-10-24 12:41:16.873 Number of results in first chunk: 37\n"
     ]
    },
    {
     "data": {
      "text/html": [
       "<div>\n",
       "<style scoped>\n",
       "    .dataframe tbody tr th:only-of-type {\n",
       "        vertical-align: middle;\n",
       "    }\n",
       "\n",
       "    .dataframe tbody tr th {\n",
       "        vertical-align: top;\n",
       "    }\n",
       "\n",
       "    .dataframe thead th {\n",
       "        text-align: right;\n",
       "    }\n",
       "</style>\n",
       "<table border=\"1\" class=\"dataframe\">\n",
       "  <thead>\n",
       "    <tr style=\"text-align: right;\">\n",
       "      <th></th>\n",
       "      <th>ID_PAIS</th>\n",
       "      <th>CODIGO_PAIS</th>\n",
       "      <th>NOMBRE</th>\n",
       "    </tr>\n",
       "  </thead>\n",
       "  <tbody>\n",
       "    <tr>\n",
       "      <th>0</th>\n",
       "      <td>0</td>\n",
       "      <td>ARG</td>\n",
       "      <td>Argentina</td>\n",
       "    </tr>\n",
       "    <tr>\n",
       "      <th>1</th>\n",
       "      <td>1</td>\n",
       "      <td>AUS</td>\n",
       "      <td>Australia</td>\n",
       "    </tr>\n",
       "    <tr>\n",
       "      <th>2</th>\n",
       "      <td>2</td>\n",
       "      <td>BGR</td>\n",
       "      <td>Bulgaria</td>\n",
       "    </tr>\n",
       "    <tr>\n",
       "      <th>3</th>\n",
       "      <td>3</td>\n",
       "      <td>BOL</td>\n",
       "      <td>Bolivia</td>\n",
       "    </tr>\n",
       "    <tr>\n",
       "      <th>4</th>\n",
       "      <td>4</td>\n",
       "      <td>BRA</td>\n",
       "      <td>Brazil</td>\n",
       "    </tr>\n",
       "  </tbody>\n",
       "</table>\n",
       "</div>"
      ],
      "text/plain": [
       "   ID_PAIS CODIGO_PAIS     NOMBRE\n",
       "0        0         ARG  Argentina\n",
       "1        1         AUS  Australia\n",
       "2        2         BGR   Bulgaria\n",
       "3        3         BOL    Bolivia\n",
       "4        4         BRA     Brazil"
      ]
     },
     "execution_count": 17,
     "metadata": {},
     "output_type": "execute_result"
    }
   ],
   "source": [
    "sql=\"SELECT * FROM PAIS\"\n",
    "pais=pd.read_sql(sql,cnn)\n",
    "pais.head()"
   ]
  },
  {
   "cell_type": "code",
   "execution_count": 38,
   "metadata": {},
   "outputs": [
    {
     "data": {
      "text/plain": [
       "{'ARG': 0,\n",
       " 'AUS': 1,\n",
       " 'BGR': 4,\n",
       " 'BOL': 2,\n",
       " 'BRA': 3,\n",
       " 'CAN': 5,\n",
       " 'CHL': 6,\n",
       " 'CHN': 7,\n",
       " 'CRI': 8,\n",
       " 'DEU': 11,\n",
       " 'EGY': 9,\n",
       " 'ESP': 30,\n",
       " 'FRA': 10,\n",
       " 'GBR': 34,\n",
       " 'GRC': 12,\n",
       " 'IDN': 14,\n",
       " 'IND': 13,\n",
       " 'ISR': 15,\n",
       " 'ITA': 16,\n",
       " 'JPN': 17,\n",
       " 'KOR': 18,\n",
       " 'LBY': 19,\n",
       " 'MAR': 22,\n",
       " 'MEX': 21,\n",
       " 'MYS': 20,\n",
       " 'NGA': 23,\n",
       " 'NOR': 24,\n",
       " 'PAN': 25,\n",
       " 'PER': 26,\n",
       " 'RUS': 27,\n",
       " 'SAU': 28,\n",
       " 'SWE': 31,\n",
       " 'THA': 32,\n",
       " 'TUR': 33,\n",
       " 'URY': 36,\n",
       " 'USA': 35,\n",
       " 'ZAF': 29}"
      ]
     },
     "execution_count": 38,
     "metadata": {},
     "output_type": "execute_result"
    }
   ],
   "source": [
    "Dicc_id_pais=pd.Series(pais.ID_PAIS.values,index=pais.CODIGO_PAIS).to_dict()\n",
    "Dicc_id_pais"
   ]
  },
  {
   "cell_type": "code",
   "execution_count": null,
   "metadata": {},
   "outputs": [],
   "source": [
    "Dicc_pais=pd.Series(pais.NOMBRE.values,index=pais.ID_PAIS).to_dict()\n",
    "Dicc_pais"
   ]
  },
  {
   "cell_type": "code",
   "execution_count": 6,
   "metadata": {},
   "outputs": [],
   "source": [
    "pais.to_csv('Incomplete.csv')"
   ]
  },
  {
   "cell_type": "code",
   "execution_count": 23,
   "metadata": {},
   "outputs": [
    {
     "name": "stderr",
     "output_type": "stream",
     "text": [
      "c:\\Users\\Jhovany Lara\\AppData\\Local\\Programs\\Python\\Python310\\lib\\site-packages\\pandas\\io\\sql.py:758: UserWarning: pandas only support SQLAlchemy connectable(engine/connection) ordatabase string URI or sqlite3 DBAPI2 connectionother DBAPI2 objects are not tested, please consider using SQLAlchemy\n",
      "  warnings.warn(\n",
      "2022-10-24 12:58:57.761 query: [SELECT * FROM INDICADOR]\n",
      "2022-10-24 12:59:00.476 query execution done\n",
      "2022-10-24 12:59:00.478 Number of results in first chunk: 38\n"
     ]
    },
    {
     "data": {
      "text/html": [
       "<div>\n",
       "<style scoped>\n",
       "    .dataframe tbody tr th:only-of-type {\n",
       "        vertical-align: middle;\n",
       "    }\n",
       "\n",
       "    .dataframe tbody tr th {\n",
       "        vertical-align: top;\n",
       "    }\n",
       "\n",
       "    .dataframe thead th {\n",
       "        text-align: right;\n",
       "    }\n",
       "</style>\n",
       "<table border=\"1\" class=\"dataframe\">\n",
       "  <thead>\n",
       "    <tr style=\"text-align: right;\">\n",
       "      <th></th>\n",
       "      <th>ID_INDICADOR</th>\n",
       "      <th>CODIGO</th>\n",
       "      <th>DESCRIPCION</th>\n",
       "    </tr>\n",
       "  </thead>\n",
       "  <tbody>\n",
       "    <tr>\n",
       "      <th>0</th>\n",
       "      <td>1</td>\n",
       "      <td>AG.LND.PRCP.MM</td>\n",
       "      <td>Average precipitation in depth (mm per year)</td>\n",
       "    </tr>\n",
       "    <tr>\n",
       "      <th>1</th>\n",
       "      <td>2</td>\n",
       "      <td>EN.ATM.CO2E.KT</td>\n",
       "      <td>emisiones de CO2 (kt)</td>\n",
       "    </tr>\n",
       "    <tr>\n",
       "      <th>2</th>\n",
       "      <td>3</td>\n",
       "      <td>SP.POP.GROW</td>\n",
       "      <td>crecimiento de la poblacion (% anual)</td>\n",
       "    </tr>\n",
       "    <tr>\n",
       "      <th>3</th>\n",
       "      <td>4</td>\n",
       "      <td>SE.PRM.CUAT.FE.ZS</td>\n",
       "      <td>Educational attainment, at least completed pri...</td>\n",
       "    </tr>\n",
       "    <tr>\n",
       "      <th>4</th>\n",
       "      <td>5</td>\n",
       "      <td>SE.TER.ENRR</td>\n",
       "      <td>School enrollment, tertiary (% gross)</td>\n",
       "    </tr>\n",
       "  </tbody>\n",
       "</table>\n",
       "</div>"
      ],
      "text/plain": [
       "   ID_INDICADOR             CODIGO  \\\n",
       "0             1     AG.LND.PRCP.MM   \n",
       "1             2     EN.ATM.CO2E.KT   \n",
       "2             3        SP.POP.GROW   \n",
       "3             4  SE.PRM.CUAT.FE.ZS   \n",
       "4             5        SE.TER.ENRR   \n",
       "\n",
       "                                         DESCRIPCION  \n",
       "0       Average precipitation in depth (mm per year)  \n",
       "1                              emisiones de CO2 (kt)  \n",
       "2              crecimiento de la poblacion (% anual)  \n",
       "3  Educational attainment, at least completed pri...  \n",
       "4              School enrollment, tertiary (% gross)  "
      ]
     },
     "execution_count": 23,
     "metadata": {},
     "output_type": "execute_result"
    }
   ],
   "source": [
    "sql=\"SELECT * FROM INDICADOR \"\n",
    "indic=pd.read_sql(sql,cnn)\n",
    "indic.head()"
   ]
  },
  {
   "cell_type": "code",
   "execution_count": 24,
   "metadata": {},
   "outputs": [
    {
     "data": {
      "text/html": [
       "<div>\n",
       "<style scoped>\n",
       "    .dataframe tbody tr th:only-of-type {\n",
       "        vertical-align: middle;\n",
       "    }\n",
       "\n",
       "    .dataframe tbody tr th {\n",
       "        vertical-align: top;\n",
       "    }\n",
       "\n",
       "    .dataframe thead th {\n",
       "        text-align: right;\n",
       "    }\n",
       "</style>\n",
       "<table border=\"1\" class=\"dataframe\">\n",
       "  <thead>\n",
       "    <tr style=\"text-align: right;\">\n",
       "      <th></th>\n",
       "      <th>ID_INDICADOR</th>\n",
       "      <th>CODIGO</th>\n",
       "      <th>DESCRIPCION</th>\n",
       "    </tr>\n",
       "  </thead>\n",
       "  <tbody>\n",
       "    <tr>\n",
       "      <th>0</th>\n",
       "      <td>0</td>\n",
       "      <td>AG.LND.PRCP.MM</td>\n",
       "      <td>Average precipitation in depth (mm per year)</td>\n",
       "    </tr>\n",
       "    <tr>\n",
       "      <th>1</th>\n",
       "      <td>4</td>\n",
       "      <td>EN.ATM.CO2E.KT</td>\n",
       "      <td>emisiones de CO2 (kt)</td>\n",
       "    </tr>\n",
       "    <tr>\n",
       "      <th>2</th>\n",
       "      <td>32</td>\n",
       "      <td>SP.POP.GROW</td>\n",
       "      <td>crecimiento de la poblacion (% anual)</td>\n",
       "    </tr>\n",
       "    <tr>\n",
       "      <th>3</th>\n",
       "      <td>10</td>\n",
       "      <td>SE.PRM.CUAT.FE.ZS</td>\n",
       "      <td>Educational attainment, at least completed pri...</td>\n",
       "    </tr>\n",
       "    <tr>\n",
       "      <th>4</th>\n",
       "      <td>11</td>\n",
       "      <td>SE.TER.ENRR</td>\n",
       "      <td>School enrollment, tertiary (% gross)</td>\n",
       "    </tr>\n",
       "  </tbody>\n",
       "</table>\n",
       "</div>"
      ],
      "text/plain": [
       "   ID_INDICADOR             CODIGO  \\\n",
       "0             0     AG.LND.PRCP.MM   \n",
       "1             4     EN.ATM.CO2E.KT   \n",
       "2            32        SP.POP.GROW   \n",
       "3            10  SE.PRM.CUAT.FE.ZS   \n",
       "4            11        SE.TER.ENRR   \n",
       "\n",
       "                                         DESCRIPCION  \n",
       "0       Average precipitation in depth (mm per year)  \n",
       "1                              emisiones de CO2 (kt)  \n",
       "2              crecimiento de la poblacion (% anual)  \n",
       "3  Educational attainment, at least completed pri...  \n",
       "4              School enrollment, tertiary (% gross)  "
      ]
     },
     "execution_count": 24,
     "metadata": {},
     "output_type": "execute_result"
    }
   ],
   "source": [
    "label_encoder = preprocessing.LabelEncoder()\n",
    "indic['ID_INDICADOR'] = label_encoder.fit_transform(indic['CODIGO'])\n",
    "indic.head()"
   ]
  },
  {
   "cell_type": "code",
   "execution_count": 39,
   "metadata": {},
   "outputs": [
    {
     "data": {
      "text/plain": [
       "{0: 'AG.LND.PRCP.MM',\n",
       " 4: 'EN.ATM.CO2E.KT',\n",
       " 32: 'SP.POP.GROW',\n",
       " 10: 'SE.PRM.CUAT.FE.ZS',\n",
       " 11: 'SE.TER.ENRR',\n",
       " 9: 'SE.ADT.LITR.ZS',\n",
       " 2: 'CSV from WHO',\n",
       " 19: 'SH.IMM.IDPT',\n",
       " 20: 'SH.IMM.MEAS',\n",
       " 18: 'SH.HIV.INCD.TL.P3',\n",
       " 17: 'SH.DYN.MORT',\n",
       " 15: 'SH.DTH.0509',\n",
       " 16: 'SH.DTH.IMRT.IN',\n",
       " 22: 'SH.PRV.SMOK.MA',\n",
       " 21: 'SH.PRV.SMOK.FE',\n",
       " 23: 'SH.STA.MMRT',\n",
       " 28: 'SP.DYN.AMRT.MA',\n",
       " 27: 'SP.DYN.AMRT.FE',\n",
       " 14: 'SH.ALC.PCAP.LI',\n",
       " 3: 'EG.CFT.ACCS.RU.ZS',\n",
       " 12: 'SE.XPD.CPRM.ZS',\n",
       " 24: 'SH.XPD.CHEX.GD.ZS',\n",
       " 26: 'SL.UEM.TOTL.NE.ZS',\n",
       " 31: 'SP.DYN.LE00.MA.IN',\n",
       " 29: 'SP.DYN.LE00.FE.IN',\n",
       " 30: 'SP.DYN.LE00.IN',\n",
       " 7: 'GC.XPN.TOTL.GD.ZS',\n",
       " 13: 'SE.XPD.TOTL.GD.ZS',\n",
       " 8: 'NY.GDP.PCAP.KD',\n",
       " 5: 'EN.POP.SLUM.UR.ZS',\n",
       " 34: 'SP.RUR.TOTL.ZS',\n",
       " 35: 'SP.URB.TOTL.IN.ZS',\n",
       " 6: 'GB.XPD.RSDV.GD.ZS',\n",
       " 33: 'SP.POP.SCIE.RD.P6',\n",
       " 25: 'SI.POV.MDIM',\n",
       " 1: 'BG.GSR.NFSV.GD.ZS'}"
      ]
     },
     "execution_count": 39,
     "metadata": {},
     "output_type": "execute_result"
    }
   ],
   "source": [
    "Dic_indicador=pd.Series(indic.CODIGO.values,index=indic.ID_INDICADOR).to_dict()\n",
    "Dic_indicador"
   ]
  },
  {
   "cell_type": "code",
   "execution_count": 27,
   "metadata": {},
   "outputs": [
    {
     "name": "stderr",
     "output_type": "stream",
     "text": [
      "c:\\Users\\Jhovany Lara\\AppData\\Local\\Programs\\Python\\Python310\\lib\\site-packages\\pandas\\io\\sql.py:758: UserWarning: pandas only support SQLAlchemy connectable(engine/connection) ordatabase string URI or sqlite3 DBAPI2 connectionother DBAPI2 objects are not tested, please consider using SQLAlchemy\n",
      "  warnings.warn(\n",
      "2022-10-24 13:03:42.545 query: [SELECT * FROM INCOME]\n",
      "2022-10-24 13:03:45.071 query execution done\n",
      "2022-10-24 13:03:45.074 Number of results in first chunk: 3\n"
     ]
    },
    {
     "data": {
      "text/html": [
       "<div>\n",
       "<style scoped>\n",
       "    .dataframe tbody tr th:only-of-type {\n",
       "        vertical-align: middle;\n",
       "    }\n",
       "\n",
       "    .dataframe tbody tr th {\n",
       "        vertical-align: top;\n",
       "    }\n",
       "\n",
       "    .dataframe thead th {\n",
       "        text-align: right;\n",
       "    }\n",
       "</style>\n",
       "<table border=\"1\" class=\"dataframe\">\n",
       "  <thead>\n",
       "    <tr style=\"text-align: right;\">\n",
       "      <th></th>\n",
       "      <th>ID_INCOME</th>\n",
       "      <th>CODIGO_INCOME</th>\n",
       "      <th>INCOME</th>\n",
       "    </tr>\n",
       "  </thead>\n",
       "  <tbody>\n",
       "    <tr>\n",
       "      <th>0</th>\n",
       "      <td>0</td>\n",
       "      <td>H</td>\n",
       "      <td>Alto ingreso</td>\n",
       "    </tr>\n",
       "    <tr>\n",
       "      <th>1</th>\n",
       "      <td>2</td>\n",
       "      <td>M</td>\n",
       "      <td>Ingreso medio alto</td>\n",
       "    </tr>\n",
       "    <tr>\n",
       "      <th>2</th>\n",
       "      <td>1</td>\n",
       "      <td>LM</td>\n",
       "      <td>Ingreso medio bajo</td>\n",
       "    </tr>\n",
       "  </tbody>\n",
       "</table>\n",
       "</div>"
      ],
      "text/plain": [
       "   ID_INCOME CODIGO_INCOME              INCOME\n",
       "0          0             H        Alto ingreso\n",
       "1          2             M  Ingreso medio alto\n",
       "2          1            LM  Ingreso medio bajo"
      ]
     },
     "execution_count": 27,
     "metadata": {},
     "output_type": "execute_result"
    }
   ],
   "source": [
    "sql=\"SELECT * FROM INCOME \"\n",
    "income=pd.read_sql(sql,cnn)\n",
    "income.head()"
   ]
  },
  {
   "cell_type": "code",
   "execution_count": 28,
   "metadata": {},
   "outputs": [
    {
     "data": {
      "text/html": [
       "<div>\n",
       "<style scoped>\n",
       "    .dataframe tbody tr th:only-of-type {\n",
       "        vertical-align: middle;\n",
       "    }\n",
       "\n",
       "    .dataframe tbody tr th {\n",
       "        vertical-align: top;\n",
       "    }\n",
       "\n",
       "    .dataframe thead th {\n",
       "        text-align: right;\n",
       "    }\n",
       "</style>\n",
       "<table border=\"1\" class=\"dataframe\">\n",
       "  <thead>\n",
       "    <tr style=\"text-align: right;\">\n",
       "      <th></th>\n",
       "      <th>ID_INCOME</th>\n",
       "      <th>CODIGO_INCOME</th>\n",
       "      <th>INCOME</th>\n",
       "    </tr>\n",
       "  </thead>\n",
       "  <tbody>\n",
       "    <tr>\n",
       "      <th>0</th>\n",
       "      <td>0</td>\n",
       "      <td>H</td>\n",
       "      <td>Alto ingreso</td>\n",
       "    </tr>\n",
       "    <tr>\n",
       "      <th>1</th>\n",
       "      <td>2</td>\n",
       "      <td>M</td>\n",
       "      <td>Ingreso medio alto</td>\n",
       "    </tr>\n",
       "    <tr>\n",
       "      <th>2</th>\n",
       "      <td>1</td>\n",
       "      <td>LM</td>\n",
       "      <td>Ingreso medio bajo</td>\n",
       "    </tr>\n",
       "  </tbody>\n",
       "</table>\n",
       "</div>"
      ],
      "text/plain": [
       "   ID_INCOME CODIGO_INCOME              INCOME\n",
       "0          0             H        Alto ingreso\n",
       "1          2             M  Ingreso medio alto\n",
       "2          1            LM  Ingreso medio bajo"
      ]
     },
     "execution_count": 28,
     "metadata": {},
     "output_type": "execute_result"
    }
   ],
   "source": [
    "label_encoder = preprocessing.LabelEncoder()\n",
    "income['ID_INCOME'] = label_encoder.fit_transform(income['CODIGO_INCOME'])\n",
    "income.head()"
   ]
  },
  {
   "cell_type": "code",
   "execution_count": 40,
   "metadata": {},
   "outputs": [
    {
     "data": {
      "text/plain": [
       "{0: 'Alto ingreso', 2: 'Ingreso medio alto', 1: 'Ingreso medio bajo'}"
      ]
     },
     "execution_count": 40,
     "metadata": {},
     "output_type": "execute_result"
    }
   ],
   "source": [
    "Dic_incom=pd.Series(income.INCOME.values,index=income.ID_INCOME).to_dict()\n",
    "Dic_incom"
   ]
  },
  {
   "cell_type": "code",
   "execution_count": 31,
   "metadata": {},
   "outputs": [
    {
     "name": "stderr",
     "output_type": "stream",
     "text": [
      "c:\\Users\\Jhovany Lara\\AppData\\Local\\Programs\\Python\\Python310\\lib\\site-packages\\pandas\\io\\sql.py:758: UserWarning: pandas only support SQLAlchemy connectable(engine/connection) ordatabase string URI or sqlite3 DBAPI2 connectionother DBAPI2 objects are not tested, please consider using SQLAlchemy\n",
      "  warnings.warn(\n",
      "2022-10-24 13:07:21.949 query: [SELECT * FROM CONTINENTE]\n",
      "2022-10-24 13:07:24.450 query execution done\n",
      "2022-10-24 13:07:24.452 Number of results in first chunk: 5\n"
     ]
    },
    {
     "data": {
      "text/html": [
       "<div>\n",
       "<style scoped>\n",
       "    .dataframe tbody tr th:only-of-type {\n",
       "        vertical-align: middle;\n",
       "    }\n",
       "\n",
       "    .dataframe tbody tr th {\n",
       "        vertical-align: top;\n",
       "    }\n",
       "\n",
       "    .dataframe thead th {\n",
       "        text-align: right;\n",
       "    }\n",
       "</style>\n",
       "<table border=\"1\" class=\"dataframe\">\n",
       "  <thead>\n",
       "    <tr style=\"text-align: right;\">\n",
       "      <th></th>\n",
       "      <th>ID_CONTINENTE</th>\n",
       "      <th>CONTINENTE</th>\n",
       "    </tr>\n",
       "  </thead>\n",
       "  <tbody>\n",
       "    <tr>\n",
       "      <th>0</th>\n",
       "      <td>1</td>\n",
       "      <td>America</td>\n",
       "    </tr>\n",
       "    <tr>\n",
       "      <th>1</th>\n",
       "      <td>2</td>\n",
       "      <td>Europa</td>\n",
       "    </tr>\n",
       "    <tr>\n",
       "      <th>2</th>\n",
       "      <td>3</td>\n",
       "      <td>Asia</td>\n",
       "    </tr>\n",
       "    <tr>\n",
       "      <th>3</th>\n",
       "      <td>4</td>\n",
       "      <td>Africa</td>\n",
       "    </tr>\n",
       "    <tr>\n",
       "      <th>4</th>\n",
       "      <td>5</td>\n",
       "      <td>Oceania</td>\n",
       "    </tr>\n",
       "  </tbody>\n",
       "</table>\n",
       "</div>"
      ],
      "text/plain": [
       "   ID_CONTINENTE CONTINENTE\n",
       "0              1    America\n",
       "1              2     Europa\n",
       "2              3       Asia\n",
       "3              4     Africa\n",
       "4              5    Oceania"
      ]
     },
     "execution_count": 31,
     "metadata": {},
     "output_type": "execute_result"
    }
   ],
   "source": [
    "sql=\"SELECT * FROM CONTINENTE \"\n",
    "contin=pd.read_sql(sql,cnn)\n",
    "contin.head()"
   ]
  },
  {
   "cell_type": "code",
   "execution_count": 32,
   "metadata": {},
   "outputs": [
    {
     "data": {
      "text/html": [
       "<div>\n",
       "<style scoped>\n",
       "    .dataframe tbody tr th:only-of-type {\n",
       "        vertical-align: middle;\n",
       "    }\n",
       "\n",
       "    .dataframe tbody tr th {\n",
       "        vertical-align: top;\n",
       "    }\n",
       "\n",
       "    .dataframe thead th {\n",
       "        text-align: right;\n",
       "    }\n",
       "</style>\n",
       "<table border=\"1\" class=\"dataframe\">\n",
       "  <thead>\n",
       "    <tr style=\"text-align: right;\">\n",
       "      <th></th>\n",
       "      <th>ID_CONTINENTE</th>\n",
       "      <th>CONTINENTE</th>\n",
       "    </tr>\n",
       "  </thead>\n",
       "  <tbody>\n",
       "    <tr>\n",
       "      <th>0</th>\n",
       "      <td>1</td>\n",
       "      <td>America</td>\n",
       "    </tr>\n",
       "    <tr>\n",
       "      <th>1</th>\n",
       "      <td>3</td>\n",
       "      <td>Europa</td>\n",
       "    </tr>\n",
       "    <tr>\n",
       "      <th>2</th>\n",
       "      <td>2</td>\n",
       "      <td>Asia</td>\n",
       "    </tr>\n",
       "    <tr>\n",
       "      <th>3</th>\n",
       "      <td>0</td>\n",
       "      <td>Africa</td>\n",
       "    </tr>\n",
       "    <tr>\n",
       "      <th>4</th>\n",
       "      <td>4</td>\n",
       "      <td>Oceania</td>\n",
       "    </tr>\n",
       "  </tbody>\n",
       "</table>\n",
       "</div>"
      ],
      "text/plain": [
       "   ID_CONTINENTE CONTINENTE\n",
       "0              1    America\n",
       "1              3     Europa\n",
       "2              2       Asia\n",
       "3              0     Africa\n",
       "4              4    Oceania"
      ]
     },
     "execution_count": 32,
     "metadata": {},
     "output_type": "execute_result"
    }
   ],
   "source": [
    "label_encoder = preprocessing.LabelEncoder()\n",
    "contin['ID_CONTINENTE'] = label_encoder.fit_transform(contin['CONTINENTE'])\n",
    "contin.head()"
   ]
  },
  {
   "cell_type": "code",
   "execution_count": 41,
   "metadata": {},
   "outputs": [
    {
     "data": {
      "text/plain": [
       "{1: 'America', 3: 'Europa', 2: 'Asia', 0: 'Africa', 4: 'Oceania'}"
      ]
     },
     "execution_count": 41,
     "metadata": {},
     "output_type": "execute_result"
    }
   ],
   "source": [
    "Dic_contin=pd.Series(contin.CONTINENTE.values,index=contin.ID_CONTINENTE).to_dict()\n",
    "Dic_contin"
   ]
  },
  {
   "cell_type": "code",
   "execution_count": 44,
   "metadata": {},
   "outputs": [
    {
     "data": {
      "text/html": [
       "<div>\n",
       "<style scoped>\n",
       "    .dataframe tbody tr th:only-of-type {\n",
       "        vertical-align: middle;\n",
       "    }\n",
       "\n",
       "    .dataframe tbody tr th {\n",
       "        vertical-align: top;\n",
       "    }\n",
       "\n",
       "    .dataframe thead th {\n",
       "        text-align: right;\n",
       "    }\n",
       "</style>\n",
       "<table border=\"1\" class=\"dataframe\">\n",
       "  <thead>\n",
       "    <tr style=\"text-align: right;\">\n",
       "      <th></th>\n",
       "      <th>ID_CONTINENTE</th>\n",
       "      <th>CONTINENTE</th>\n",
       "    </tr>\n",
       "  </thead>\n",
       "  <tbody>\n",
       "    <tr>\n",
       "      <th>0</th>\n",
       "      <td>1</td>\n",
       "      <td>America</td>\n",
       "    </tr>\n",
       "    <tr>\n",
       "      <th>1</th>\n",
       "      <td>3</td>\n",
       "      <td>Europa</td>\n",
       "    </tr>\n",
       "    <tr>\n",
       "      <th>2</th>\n",
       "      <td>2</td>\n",
       "      <td>Asia</td>\n",
       "    </tr>\n",
       "    <tr>\n",
       "      <th>3</th>\n",
       "      <td>0</td>\n",
       "      <td>Africa</td>\n",
       "    </tr>\n",
       "    <tr>\n",
       "      <th>4</th>\n",
       "      <td>4</td>\n",
       "      <td>Oceania</td>\n",
       "    </tr>\n",
       "  </tbody>\n",
       "</table>\n",
       "</div>"
      ],
      "text/plain": [
       "   ID_CONTINENTE CONTINENTE\n",
       "0              1    America\n",
       "1              3     Europa\n",
       "2              2       Asia\n",
       "3              0     Africa\n",
       "4              4    Oceania"
      ]
     },
     "execution_count": 44,
     "metadata": {},
     "output_type": "execute_result"
    }
   ],
   "source": [
    "dfcont = pd.DataFrame(Dic_contin.items(), columns=['ID_CONTINENTE', 'CONTINENTE']) # se crea dataframe con pandas\n",
    "dfcont"
   ]
  },
  {
   "cell_type": "code",
   "execution_count": null,
   "metadata": {},
   "outputs": [],
   "source": [
    "from sklearn.preprocessing import OneHotEncoder\n",
    "paiscode=OneHotEncoder()\n"
   ]
  },
  {
   "cell_type": "code",
   "execution_count": 7,
   "metadata": {},
   "outputs": [
    {
     "name": "stderr",
     "output_type": "stream",
     "text": [
      "c:\\Users\\Jhovany Lara\\AppData\\Local\\Programs\\Python\\Python310\\lib\\site-packages\\pandas\\io\\sql.py:758: UserWarning: pandas only support SQLAlchemy connectable(engine/connection) ordatabase string URI or sqlite3 DBAPI2 connectionother DBAPI2 objects are not tested, please consider using SQLAlchemy\n",
      "  warnings.warn(\n"
     ]
    },
    {
     "data": {
      "text/html": [
       "<div>\n",
       "<style scoped>\n",
       "    .dataframe tbody tr th:only-of-type {\n",
       "        vertical-align: middle;\n",
       "    }\n",
       "\n",
       "    .dataframe tbody tr th {\n",
       "        vertical-align: top;\n",
       "    }\n",
       "\n",
       "    .dataframe thead th {\n",
       "        text-align: right;\n",
       "    }\n",
       "</style>\n",
       "<table border=\"1\" class=\"dataframe\">\n",
       "  <thead>\n",
       "    <tr style=\"text-align: right;\">\n",
       "      <th></th>\n",
       "      <th>ID_PAIS</th>\n",
       "      <th>ANIO</th>\n",
       "      <th>ID_INDICADOR</th>\n",
       "      <th>VALOR</th>\n",
       "      <th>ID_CONTINENTE</th>\n",
       "      <th>ID_INCOME</th>\n",
       "    </tr>\n",
       "  </thead>\n",
       "  <tbody>\n",
       "    <tr>\n",
       "      <th>0</th>\n",
       "      <td>0</td>\n",
       "      <td>1992</td>\n",
       "      <td>38</td>\n",
       "      <td>3.71</td>\n",
       "      <td>1</td>\n",
       "      <td>2</td>\n",
       "    </tr>\n",
       "    <tr>\n",
       "      <th>1</th>\n",
       "      <td>0</td>\n",
       "      <td>1993</td>\n",
       "      <td>38</td>\n",
       "      <td>3.96</td>\n",
       "      <td>1</td>\n",
       "      <td>2</td>\n",
       "    </tr>\n",
       "    <tr>\n",
       "      <th>2</th>\n",
       "      <td>0</td>\n",
       "      <td>1994</td>\n",
       "      <td>38</td>\n",
       "      <td>4.06</td>\n",
       "      <td>1</td>\n",
       "      <td>2</td>\n",
       "    </tr>\n",
       "    <tr>\n",
       "      <th>3</th>\n",
       "      <td>0</td>\n",
       "      <td>1995</td>\n",
       "      <td>38</td>\n",
       "      <td>4.28</td>\n",
       "      <td>1</td>\n",
       "      <td>2</td>\n",
       "    </tr>\n",
       "    <tr>\n",
       "      <th>4</th>\n",
       "      <td>0</td>\n",
       "      <td>1996</td>\n",
       "      <td>38</td>\n",
       "      <td>4.53</td>\n",
       "      <td>1</td>\n",
       "      <td>2</td>\n",
       "    </tr>\n",
       "  </tbody>\n",
       "</table>\n",
       "</div>"
      ],
      "text/plain": [
       "   ID_PAIS  ANIO  ID_INDICADOR  VALOR  ID_CONTINENTE  ID_INCOME\n",
       "0        0  1992            38   3.71              1          2\n",
       "1        0  1993            38   3.96              1          2\n",
       "2        0  1994            38   4.06              1          2\n",
       "3        0  1995            38   4.28              1          2\n",
       "4        0  1996            38   4.53              1          2"
      ]
     },
     "execution_count": 7,
     "metadata": {},
     "output_type": "execute_result"
    }
   ],
   "source": [
    "sql=\"SELECT * FROM EV\"\n",
    "ALL2=pd.read_sql(sql,cnn)\n",
    "ALL2.head()"
   ]
  },
  {
   "cell_type": "code",
   "execution_count": 8,
   "metadata": {},
   "outputs": [],
   "source": [
    "ALL2.to_csv('Complete.csv')"
   ]
  },
  {
   "cell_type": "code",
   "execution_count": null,
   "metadata": {},
   "outputs": [],
   "source": [
    "sql =\"\"\"SELECT p.CODIGO_PAIS, e.ANIO, e.VALOR, i.DESCRIPCION as INDICADOR \n",
    "        FROM EV e \n",
    "        JOIN INDICADOR i \n",
    "        ON (e.ID_INDICADOR=i.ID_INDICADOR)\n",
    "        JOIN PAIS p\n",
    "        on (e.ID_PAIS=p.ID_PAIS)\n",
    "        WHERE e.ID_INDICADOR=35 AND e.ANIO>1960 AND e.ANIO<=2020  \"\"\"\n",
    "probando=pd.read_sql(sql,cnn)\n",
    "#AND e.ANIO>1960 AND e.ANIO<=2020"
   ]
  },
  {
   "cell_type": "code",
   "execution_count": 18,
   "metadata": {},
   "outputs": [
    {
     "data": {
      "text/html": [
       "<div>\n",
       "<style scoped>\n",
       "    .dataframe tbody tr th:only-of-type {\n",
       "        vertical-align: middle;\n",
       "    }\n",
       "\n",
       "    .dataframe tbody tr th {\n",
       "        vertical-align: top;\n",
       "    }\n",
       "\n",
       "    .dataframe thead th {\n",
       "        text-align: right;\n",
       "    }\n",
       "</style>\n",
       "<table border=\"1\" class=\"dataframe\">\n",
       "  <thead>\n",
       "    <tr style=\"text-align: right;\">\n",
       "      <th></th>\n",
       "      <th>CODIGO_PAIS</th>\n",
       "      <th>ANIO</th>\n",
       "      <th>VALOR</th>\n",
       "      <th>INDICADOR</th>\n",
       "    </tr>\n",
       "  </thead>\n",
       "  <tbody>\n",
       "    <tr>\n",
       "      <th>0</th>\n",
       "      <td>ARG</td>\n",
       "      <td>1992</td>\n",
       "      <td>72.03</td>\n",
       "      <td>esperanza de vida al nacer, Total (años)</td>\n",
       "    </tr>\n",
       "    <tr>\n",
       "      <th>1</th>\n",
       "      <td>ARG</td>\n",
       "      <td>1993</td>\n",
       "      <td>72.25</td>\n",
       "      <td>esperanza de vida al nacer, Total (años)</td>\n",
       "    </tr>\n",
       "    <tr>\n",
       "      <th>2</th>\n",
       "      <td>ARG</td>\n",
       "      <td>1994</td>\n",
       "      <td>72.45</td>\n",
       "      <td>esperanza de vida al nacer, Total (años)</td>\n",
       "    </tr>\n",
       "    <tr>\n",
       "      <th>3</th>\n",
       "      <td>ARG</td>\n",
       "      <td>1995</td>\n",
       "      <td>72.65</td>\n",
       "      <td>esperanza de vida al nacer, Total (años)</td>\n",
       "    </tr>\n",
       "    <tr>\n",
       "      <th>4</th>\n",
       "      <td>ARG</td>\n",
       "      <td>1996</td>\n",
       "      <td>72.84</td>\n",
       "      <td>esperanza de vida al nacer, Total (años)</td>\n",
       "    </tr>\n",
       "    <tr>\n",
       "      <th>...</th>\n",
       "      <td>...</td>\n",
       "      <td>...</td>\n",
       "      <td>...</td>\n",
       "      <td>...</td>\n",
       "    </tr>\n",
       "    <tr>\n",
       "      <th>1068</th>\n",
       "      <td>ZAF</td>\n",
       "      <td>2016</td>\n",
       "      <td>63.15</td>\n",
       "      <td>esperanza de vida al nacer, Total (años)</td>\n",
       "    </tr>\n",
       "    <tr>\n",
       "      <th>1069</th>\n",
       "      <td>ZAF</td>\n",
       "      <td>2017</td>\n",
       "      <td>63.54</td>\n",
       "      <td>esperanza de vida al nacer, Total (años)</td>\n",
       "    </tr>\n",
       "    <tr>\n",
       "      <th>1070</th>\n",
       "      <td>ZAF</td>\n",
       "      <td>2018</td>\n",
       "      <td>63.86</td>\n",
       "      <td>esperanza de vida al nacer, Total (años)</td>\n",
       "    </tr>\n",
       "    <tr>\n",
       "      <th>1071</th>\n",
       "      <td>ZAF</td>\n",
       "      <td>2019</td>\n",
       "      <td>64.13</td>\n",
       "      <td>esperanza de vida al nacer, Total (años)</td>\n",
       "    </tr>\n",
       "    <tr>\n",
       "      <th>1072</th>\n",
       "      <td>ZAF</td>\n",
       "      <td>2020</td>\n",
       "      <td>64.38</td>\n",
       "      <td>esperanza de vida al nacer, Total (años)</td>\n",
       "    </tr>\n",
       "  </tbody>\n",
       "</table>\n",
       "<p>1073 rows × 4 columns</p>\n",
       "</div>"
      ],
      "text/plain": [
       "     CODIGO_PAIS  ANIO  VALOR                                 INDICADOR\n",
       "0            ARG  1992  72.03  esperanza de vida al nacer, Total (años)\n",
       "1            ARG  1993  72.25  esperanza de vida al nacer, Total (años)\n",
       "2            ARG  1994  72.45  esperanza de vida al nacer, Total (años)\n",
       "3            ARG  1995  72.65  esperanza de vida al nacer, Total (años)\n",
       "4            ARG  1996  72.84  esperanza de vida al nacer, Total (años)\n",
       "...          ...   ...    ...                                       ...\n",
       "1068         ZAF  2016  63.15  esperanza de vida al nacer, Total (años)\n",
       "1069         ZAF  2017  63.54  esperanza de vida al nacer, Total (años)\n",
       "1070         ZAF  2018  63.86  esperanza de vida al nacer, Total (años)\n",
       "1071         ZAF  2019  64.13  esperanza de vida al nacer, Total (años)\n",
       "1072         ZAF  2020  64.38  esperanza de vida al nacer, Total (años)\n",
       "\n",
       "[1073 rows x 4 columns]"
      ]
     },
     "execution_count": 18,
     "metadata": {},
     "output_type": "execute_result"
    }
   ],
   "source": [
    "probando"
   ]
  },
  {
   "cell_type": "code",
   "execution_count": 11,
   "metadata": {},
   "outputs": [
    {
     "name": "stderr",
     "output_type": "stream",
     "text": [
      "c:\\Users\\Jhovany Lara\\AppData\\Local\\Programs\\Python\\Python310\\lib\\site-packages\\pandas\\io\\sql.py:758: UserWarning: pandas only support SQLAlchemy connectable(engine/connection) ordatabase string URI or sqlite3 DBAPI2 connectionother DBAPI2 objects are not tested, please consider using SQLAlchemy\n",
      "  warnings.warn(\n"
     ]
    }
   ],
   "source": [
    "#Consulta todos los países con indicador 2 --> Se hizo doble JOIN <--\n",
    "sql =\"\"\"SELECT e.ID_PAIS, e.ANIO, e.VALOR, i.DESCRIPCION as INDICADOR \n",
    "    FROM EV e \n",
    "    JOIN INDICADOR i \n",
    "    ON (e.ID_INDICADOR=i.ID_INDICADOR) \n",
    "    WHERE e.ID_INDICADOR=28 AND e.ANIO>1960 AND e.ANIO<=2020 AND e.ID_PAIS=0\"\"\" \n",
    "arg=pd.read_sql(sql,cnn)"
   ]
  },
  {
   "cell_type": "code",
   "execution_count": null,
   "metadata": {},
   "outputs": [],
   "source": [
    "arg"
   ]
  },
  {
   "cell_type": "code",
   "execution_count": null,
   "metadata": {},
   "outputs": [],
   "source": [
    "w=arg['VALOR'].tolist()\n",
    "w"
   ]
  },
  {
   "cell_type": "code",
   "execution_count": 53,
   "metadata": {},
   "outputs": [],
   "source": [
    "df=df.pivot(index=['ID_PAIS', 'INDICADOR'], columns='ANIO')"
   ]
  },
  {
   "cell_type": "code",
   "execution_count": null,
   "metadata": {},
   "outputs": [],
   "source": [
    "arg2"
   ]
  },
  {
   "cell_type": "code",
   "execution_count": 57,
   "metadata": {},
   "outputs": [
    {
     "name": "stderr",
     "output_type": "stream",
     "text": [
      "c:\\Users\\Jhovany Lara\\AppData\\Local\\Programs\\Python\\Python310\\lib\\site-packages\\pandas\\io\\sql.py:758: UserWarning: pandas only support SQLAlchemy connectable(engine/connection) ordatabase string URI or sqlite3 DBAPI2 connectionother DBAPI2 objects are not tested, please consider using SQLAlchemy\n",
      "  warnings.warn(\n"
     ]
    }
   ],
   "source": [
    "#Consulta todos los países con indicador 2 --> Se hizo doble JOIN <--\n",
    "sql =\"SELECT p.NOMBRE, e.ANIO, e.VALOR, i.CODIGO as INDICADOR FROM EV e JOIN PAIS p ON (e.ID_PAIS=p.ID_PAIS) JOIN INDICADOR i ON (e.ID_INDICADOR=i.ID_INDICADOR) WHERE e.ID_INDICADOR=2\" \n",
    "Indicador2=pd.read_sql(sql,cnn)"
   ]
  },
  {
   "cell_type": "code",
   "execution_count": 58,
   "metadata": {},
   "outputs": [
    {
     "data": {
      "text/html": [
       "<div>\n",
       "<style scoped>\n",
       "    .dataframe tbody tr th:only-of-type {\n",
       "        vertical-align: middle;\n",
       "    }\n",
       "\n",
       "    .dataframe tbody tr th {\n",
       "        vertical-align: top;\n",
       "    }\n",
       "\n",
       "    .dataframe thead th {\n",
       "        text-align: right;\n",
       "    }\n",
       "</style>\n",
       "<table border=\"1\" class=\"dataframe\">\n",
       "  <thead>\n",
       "    <tr style=\"text-align: right;\">\n",
       "      <th></th>\n",
       "      <th>NOMBRE</th>\n",
       "      <th>ANIO</th>\n",
       "      <th>VALOR</th>\n",
       "      <th>INDICADOR</th>\n",
       "    </tr>\n",
       "  </thead>\n",
       "  <tbody>\n",
       "    <tr>\n",
       "      <th>0</th>\n",
       "      <td>Argentina</td>\n",
       "      <td>1992</td>\n",
       "      <td>107930.0000</td>\n",
       "      <td>EN.ATM.CO2E.KT</td>\n",
       "    </tr>\n",
       "    <tr>\n",
       "      <th>1</th>\n",
       "      <td>Argentina</td>\n",
       "      <td>1992</td>\n",
       "      <td>107930.0000</td>\n",
       "      <td>EN.ATM.CO2E.KT</td>\n",
       "    </tr>\n",
       "    <tr>\n",
       "      <th>2</th>\n",
       "      <td>Argentina</td>\n",
       "      <td>1993</td>\n",
       "      <td>110260.0000</td>\n",
       "      <td>EN.ATM.CO2E.KT</td>\n",
       "    </tr>\n",
       "    <tr>\n",
       "      <th>3</th>\n",
       "      <td>Argentina</td>\n",
       "      <td>1993</td>\n",
       "      <td>110260.0000</td>\n",
       "      <td>EN.ATM.CO2E.KT</td>\n",
       "    </tr>\n",
       "    <tr>\n",
       "      <th>4</th>\n",
       "      <td>Argentina</td>\n",
       "      <td>1994</td>\n",
       "      <td>111910.0000</td>\n",
       "      <td>EN.ATM.CO2E.KT</td>\n",
       "    </tr>\n",
       "    <tr>\n",
       "      <th>...</th>\n",
       "      <td>...</td>\n",
       "      <td>...</td>\n",
       "      <td>...</td>\n",
       "      <td>...</td>\n",
       "    </tr>\n",
       "    <tr>\n",
       "      <th>2215</th>\n",
       "      <td>South Africa</td>\n",
       "      <td>2019</td>\n",
       "      <td>439640.0146</td>\n",
       "      <td>EN.ATM.CO2E.KT</td>\n",
       "    </tr>\n",
       "    <tr>\n",
       "      <th>2216</th>\n",
       "      <td>South Africa</td>\n",
       "      <td>2020</td>\n",
       "      <td>219820.6440</td>\n",
       "      <td>EN.ATM.CO2E.KT</td>\n",
       "    </tr>\n",
       "    <tr>\n",
       "      <th>2217</th>\n",
       "      <td>South Africa</td>\n",
       "      <td>2020</td>\n",
       "      <td>219820.6440</td>\n",
       "      <td>EN.ATM.CO2E.KT</td>\n",
       "    </tr>\n",
       "    <tr>\n",
       "      <th>2218</th>\n",
       "      <td>South Africa</td>\n",
       "      <td>2021</td>\n",
       "      <td>1.2473</td>\n",
       "      <td>EN.ATM.CO2E.KT</td>\n",
       "    </tr>\n",
       "    <tr>\n",
       "      <th>2219</th>\n",
       "      <td>South Africa</td>\n",
       "      <td>2021</td>\n",
       "      <td>1.2473</td>\n",
       "      <td>EN.ATM.CO2E.KT</td>\n",
       "    </tr>\n",
       "  </tbody>\n",
       "</table>\n",
       "<p>2220 rows × 4 columns</p>\n",
       "</div>"
      ],
      "text/plain": [
       "            NOMBRE  ANIO        VALOR       INDICADOR\n",
       "0        Argentina  1992  107930.0000  EN.ATM.CO2E.KT\n",
       "1        Argentina  1992  107930.0000  EN.ATM.CO2E.KT\n",
       "2        Argentina  1993  110260.0000  EN.ATM.CO2E.KT\n",
       "3        Argentina  1993  110260.0000  EN.ATM.CO2E.KT\n",
       "4        Argentina  1994  111910.0000  EN.ATM.CO2E.KT\n",
       "...            ...   ...          ...             ...\n",
       "2215  South Africa  2019  439640.0146  EN.ATM.CO2E.KT\n",
       "2216  South Africa  2020  219820.6440  EN.ATM.CO2E.KT\n",
       "2217  South Africa  2020  219820.6440  EN.ATM.CO2E.KT\n",
       "2218  South Africa  2021       1.2473  EN.ATM.CO2E.KT\n",
       "2219  South Africa  2021       1.2473  EN.ATM.CO2E.KT\n",
       "\n",
       "[2220 rows x 4 columns]"
      ]
     },
     "execution_count": 58,
     "metadata": {},
     "output_type": "execute_result"
    }
   ],
   "source": [
    "Indicador2"
   ]
  },
  {
   "cell_type": "code",
   "execution_count": null,
   "metadata": {},
   "outputs": [],
   "source": [
    "mun2=Indicador2.pivot(index=['NOMBRE', 'INDICADOR'], columns='ANIO')\n",
    "mun2"
   ]
  },
  {
   "cell_type": "code",
   "execution_count": 31,
   "metadata": {},
   "outputs": [
    {
     "name": "stderr",
     "output_type": "stream",
     "text": [
      "c:\\Users\\Jhovany Lara\\AppData\\Local\\Programs\\Python\\Python310\\lib\\site-packages\\pandas\\io\\sql.py:758: UserWarning: pandas only support SQLAlchemy connectable(engine/connection) ordatabase string URI or sqlite3 DBAPI2 connectionother DBAPI2 objects are not tested, please consider using SQLAlchemy\n",
      "  warnings.warn(\n"
     ]
    }
   ],
   "source": [
    "#Consulta un país (ARG) con indicador 2 en letra --> Se hizo doble JOIN <--\n",
    "sql =\"SELECT p.NOMBRE, e.ANIO, e.VALOR, i.DESCRIPCION FROM EV e JOIN PAIS p ON (e.ID_PAIS=p.ID_PAIS) JOIN INDICADOR i ON (e.ID_INDICADOR=i.ID_INDICADOR) WHERE e.ID_INDICADOR=2 AND e.ID_PAIS='ARG'\" \n",
    "Indicador2ARG_LETRA=pd.read_sql(sql,cnn)"
   ]
  },
  {
   "cell_type": "code",
   "execution_count": null,
   "metadata": {},
   "outputs": [],
   "source": [
    "Indicador2ARG_LETRA"
   ]
  },
  {
   "cell_type": "code",
   "execution_count": 36,
   "metadata": {},
   "outputs": [
    {
     "data": {
      "text/plain": [
       "<bound method SnowflakeConnection.close of <snowflake.connector.connection.SnowflakeConnection object at 0x00000255505865F0>>"
      ]
     },
     "execution_count": 36,
     "metadata": {},
     "output_type": "execute_result"
    }
   ],
   "source": [
    "cnn.close"
   ]
  }
 ],
 "metadata": {
  "kernelspec": {
   "display_name": "Python 3.10.5 64-bit",
   "language": "python",
   "name": "python3"
  },
  "language_info": {
   "codemirror_mode": {
    "name": "ipython",
    "version": 3
   },
   "file_extension": ".py",
   "mimetype": "text/x-python",
   "name": "python",
   "nbconvert_exporter": "python",
   "pygments_lexer": "ipython3",
   "version": "3.10.5"
  },
  "orig_nbformat": 4,
  "vscode": {
   "interpreter": {
    "hash": "831930c436e26f7725c7eb4f61edc3580d69b3d71d42ec6e6c602713c246326c"
   }
  }
 },
 "nbformat": 4,
 "nbformat_minor": 2
}
