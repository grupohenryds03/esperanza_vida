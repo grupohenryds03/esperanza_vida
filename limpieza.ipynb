{
 "cells": [
  {
   "cell_type": "markdown",
   "metadata": {},
   "source": [
    "## DATA CLEANING"
   ]
  },
  {
   "cell_type": "markdown",
   "metadata": {},
   "source": [
    "En este apartado se realizaran las etapas de preprocesamiento de datos.\n",
    "\n",
    "Trabajaremos con con nuestra tabla de hechos que se encuentra en snowflake y github."
   ]
  },
  {
   "cell_type": "code",
   "execution_count": 1,
   "metadata": {},
   "outputs": [],
   "source": [
    "import pandas as pd\n",
    "import numpy as np\n",
    "import matplotlib.pyplot as plt\n",
    "import seaborn as sns"
   ]
  },
  {
   "cell_type": "code",
   "execution_count": 4,
   "metadata": {},
   "outputs": [],
   "source": [
    "df = pd.read_csv('../esperanza_vida/datasets/EV.csv')"
   ]
  },
  {
   "cell_type": "code",
   "execution_count": 5,
   "metadata": {},
   "outputs": [
    {
     "data": {
      "text/html": [
       "<div>\n",
       "<style scoped>\n",
       "    .dataframe tbody tr th:only-of-type {\n",
       "        vertical-align: middle;\n",
       "    }\n",
       "\n",
       "    .dataframe tbody tr th {\n",
       "        vertical-align: top;\n",
       "    }\n",
       "\n",
       "    .dataframe thead th {\n",
       "        text-align: right;\n",
       "    }\n",
       "</style>\n",
       "<table border=\"1\" class=\"dataframe\">\n",
       "  <thead>\n",
       "    <tr style=\"text-align: right;\">\n",
       "      <th></th>\n",
       "      <th>ID_PAIS</th>\n",
       "      <th>ANIO</th>\n",
       "      <th>ID_INDICADOR</th>\n",
       "      <th>VALOR</th>\n",
       "      <th>ID_CONTINENTE</th>\n",
       "      <th>ID_INCOME</th>\n",
       "    </tr>\n",
       "  </thead>\n",
       "  <tbody>\n",
       "    <tr>\n",
       "      <th>0</th>\n",
       "      <td>ARG</td>\n",
       "      <td>1992</td>\n",
       "      <td>1</td>\n",
       "      <td>591.0</td>\n",
       "      <td>1</td>\n",
       "      <td>M</td>\n",
       "    </tr>\n",
       "    <tr>\n",
       "      <th>1</th>\n",
       "      <td>ARG</td>\n",
       "      <td>1993</td>\n",
       "      <td>1</td>\n",
       "      <td>NaN</td>\n",
       "      <td>1</td>\n",
       "      <td>M</td>\n",
       "    </tr>\n",
       "    <tr>\n",
       "      <th>2</th>\n",
       "      <td>ARG</td>\n",
       "      <td>1994</td>\n",
       "      <td>1</td>\n",
       "      <td>NaN</td>\n",
       "      <td>1</td>\n",
       "      <td>M</td>\n",
       "    </tr>\n",
       "    <tr>\n",
       "      <th>3</th>\n",
       "      <td>ARG</td>\n",
       "      <td>1995</td>\n",
       "      <td>1</td>\n",
       "      <td>NaN</td>\n",
       "      <td>1</td>\n",
       "      <td>M</td>\n",
       "    </tr>\n",
       "    <tr>\n",
       "      <th>4</th>\n",
       "      <td>ARG</td>\n",
       "      <td>1996</td>\n",
       "      <td>1</td>\n",
       "      <td>NaN</td>\n",
       "      <td>1</td>\n",
       "      <td>M</td>\n",
       "    </tr>\n",
       "  </tbody>\n",
       "</table>\n",
       "</div>"
      ],
      "text/plain": [
       "  ID_PAIS  ANIO  ID_INDICADOR  VALOR  ID_CONTINENTE ID_INCOME\n",
       "0     ARG  1992             1  591.0              1         M\n",
       "1     ARG  1993             1    NaN              1         M\n",
       "2     ARG  1994             1    NaN              1         M\n",
       "3     ARG  1995             1    NaN              1         M\n",
       "4     ARG  1996             1    NaN              1         M"
      ]
     },
     "execution_count": 5,
     "metadata": {},
     "output_type": "execute_result"
    }
   ],
   "source": [
    "df.head()"
   ]
  },
  {
   "cell_type": "markdown",
   "metadata": {},
   "source": [
    "Una vez ingestados nuestros datos (df), primero observamos si tenemos instancias duplicadas."
   ]
  },
  {
   "cell_type": "code",
   "execution_count": 109,
   "metadata": {},
   "outputs": [
    {
     "data": {
      "text/html": [
       "<div>\n",
       "<style scoped>\n",
       "    .dataframe tbody tr th:only-of-type {\n",
       "        vertical-align: middle;\n",
       "    }\n",
       "\n",
       "    .dataframe tbody tr th {\n",
       "        vertical-align: top;\n",
       "    }\n",
       "\n",
       "    .dataframe thead th {\n",
       "        text-align: right;\n",
       "    }\n",
       "</style>\n",
       "<table border=\"1\" class=\"dataframe\">\n",
       "  <thead>\n",
       "    <tr style=\"text-align: right;\">\n",
       "      <th></th>\n",
       "      <th>ID_PAIS</th>\n",
       "      <th>ANIO</th>\n",
       "      <th>ID_INDICADOR</th>\n",
       "      <th>VALOR</th>\n",
       "      <th>ID_CONTINENTE</th>\n",
       "      <th>ID_INCOME</th>\n",
       "    </tr>\n",
       "  </thead>\n",
       "  <tbody>\n",
       "    <tr>\n",
       "      <th>39824</th>\n",
       "      <td>LBY</td>\n",
       "      <td>2012</td>\n",
       "      <td>24</td>\n",
       "      <td>NaN</td>\n",
       "      <td>4</td>\n",
       "      <td>M</td>\n",
       "    </tr>\n",
       "    <tr>\n",
       "      <th>39861</th>\n",
       "      <td>LBY</td>\n",
       "      <td>2013</td>\n",
       "      <td>24</td>\n",
       "      <td>NaN</td>\n",
       "      <td>4</td>\n",
       "      <td>M</td>\n",
       "    </tr>\n",
       "    <tr>\n",
       "      <th>39898</th>\n",
       "      <td>LBY</td>\n",
       "      <td>2014</td>\n",
       "      <td>24</td>\n",
       "      <td>NaN</td>\n",
       "      <td>4</td>\n",
       "      <td>M</td>\n",
       "    </tr>\n",
       "    <tr>\n",
       "      <th>39935</th>\n",
       "      <td>LBY</td>\n",
       "      <td>2015</td>\n",
       "      <td>24</td>\n",
       "      <td>NaN</td>\n",
       "      <td>4</td>\n",
       "      <td>M</td>\n",
       "    </tr>\n",
       "    <tr>\n",
       "      <th>39972</th>\n",
       "      <td>LBY</td>\n",
       "      <td>2016</td>\n",
       "      <td>24</td>\n",
       "      <td>NaN</td>\n",
       "      <td>4</td>\n",
       "      <td>M</td>\n",
       "    </tr>\n",
       "    <tr>\n",
       "      <th>40009</th>\n",
       "      <td>LBY</td>\n",
       "      <td>2017</td>\n",
       "      <td>24</td>\n",
       "      <td>NaN</td>\n",
       "      <td>4</td>\n",
       "      <td>M</td>\n",
       "    </tr>\n",
       "    <tr>\n",
       "      <th>40046</th>\n",
       "      <td>LBY</td>\n",
       "      <td>2018</td>\n",
       "      <td>24</td>\n",
       "      <td>NaN</td>\n",
       "      <td>4</td>\n",
       "      <td>M</td>\n",
       "    </tr>\n",
       "    <tr>\n",
       "      <th>40083</th>\n",
       "      <td>LBY</td>\n",
       "      <td>2019</td>\n",
       "      <td>24</td>\n",
       "      <td>NaN</td>\n",
       "      <td>4</td>\n",
       "      <td>M</td>\n",
       "    </tr>\n",
       "  </tbody>\n",
       "</table>\n",
       "</div>"
      ],
      "text/plain": [
       "      ID_PAIS  ANIO  ID_INDICADOR  VALOR  ID_CONTINENTE ID_INCOME\n",
       "39824     LBY  2012            24    NaN              4         M\n",
       "39861     LBY  2013            24    NaN              4         M\n",
       "39898     LBY  2014            24    NaN              4         M\n",
       "39935     LBY  2015            24    NaN              4         M\n",
       "39972     LBY  2016            24    NaN              4         M\n",
       "40009     LBY  2017            24    NaN              4         M\n",
       "40046     LBY  2018            24    NaN              4         M\n",
       "40083     LBY  2019            24    NaN              4         M"
      ]
     },
     "execution_count": 109,
     "metadata": {},
     "output_type": "execute_result"
    }
   ],
   "source": [
    "df[df.duplicated()]"
   ]
  },
  {
   "cell_type": "code",
   "execution_count": 110,
   "metadata": {},
   "outputs": [
    {
     "data": {
      "text/html": [
       "<div>\n",
       "<style scoped>\n",
       "    .dataframe tbody tr th:only-of-type {\n",
       "        vertical-align: middle;\n",
       "    }\n",
       "\n",
       "    .dataframe tbody tr th {\n",
       "        vertical-align: top;\n",
       "    }\n",
       "\n",
       "    .dataframe thead th {\n",
       "        text-align: right;\n",
       "    }\n",
       "</style>\n",
       "<table border=\"1\" class=\"dataframe\">\n",
       "  <thead>\n",
       "    <tr style=\"text-align: right;\">\n",
       "      <th></th>\n",
       "      <th>ID_PAIS</th>\n",
       "      <th>ANIO</th>\n",
       "      <th>ID_INDICADOR</th>\n",
       "      <th>VALOR</th>\n",
       "      <th>ID_CONTINENTE</th>\n",
       "      <th>ID_INCOME</th>\n",
       "    </tr>\n",
       "  </thead>\n",
       "  <tbody>\n",
       "    <tr>\n",
       "      <th>24420</th>\n",
       "      <td>ARG</td>\n",
       "      <td>1992</td>\n",
       "      <td>24</td>\n",
       "      <td>NaN</td>\n",
       "      <td>1</td>\n",
       "      <td>M</td>\n",
       "    </tr>\n",
       "    <tr>\n",
       "      <th>24421</th>\n",
       "      <td>ARG</td>\n",
       "      <td>1993</td>\n",
       "      <td>24</td>\n",
       "      <td>NaN</td>\n",
       "      <td>1</td>\n",
       "      <td>M</td>\n",
       "    </tr>\n",
       "    <tr>\n",
       "      <th>24422</th>\n",
       "      <td>ARG</td>\n",
       "      <td>1994</td>\n",
       "      <td>24</td>\n",
       "      <td>NaN</td>\n",
       "      <td>1</td>\n",
       "      <td>M</td>\n",
       "    </tr>\n",
       "    <tr>\n",
       "      <th>24423</th>\n",
       "      <td>ARG</td>\n",
       "      <td>1995</td>\n",
       "      <td>24</td>\n",
       "      <td>NaN</td>\n",
       "      <td>1</td>\n",
       "      <td>M</td>\n",
       "    </tr>\n",
       "    <tr>\n",
       "      <th>24424</th>\n",
       "      <td>ARG</td>\n",
       "      <td>1996</td>\n",
       "      <td>24</td>\n",
       "      <td>NaN</td>\n",
       "      <td>1</td>\n",
       "      <td>M</td>\n",
       "    </tr>\n",
       "    <tr>\n",
       "      <th>...</th>\n",
       "      <td>...</td>\n",
       "      <td>...</td>\n",
       "      <td>...</td>\n",
       "      <td>...</td>\n",
       "      <td>...</td>\n",
       "      <td>...</td>\n",
       "    </tr>\n",
       "    <tr>\n",
       "      <th>40103</th>\n",
       "      <td>DEU</td>\n",
       "      <td>2019</td>\n",
       "      <td>24</td>\n",
       "      <td>11.70</td>\n",
       "      <td>2</td>\n",
       "      <td>H</td>\n",
       "    </tr>\n",
       "    <tr>\n",
       "      <th>40104</th>\n",
       "      <td>GBR</td>\n",
       "      <td>2019</td>\n",
       "      <td>24</td>\n",
       "      <td>10.15</td>\n",
       "      <td>2</td>\n",
       "      <td>H</td>\n",
       "    </tr>\n",
       "    <tr>\n",
       "      <th>40105</th>\n",
       "      <td>NOR</td>\n",
       "      <td>2019</td>\n",
       "      <td>24</td>\n",
       "      <td>10.52</td>\n",
       "      <td>2</td>\n",
       "      <td>H</td>\n",
       "    </tr>\n",
       "    <tr>\n",
       "      <th>40106</th>\n",
       "      <td>SWE</td>\n",
       "      <td>2019</td>\n",
       "      <td>24</td>\n",
       "      <td>10.87</td>\n",
       "      <td>2</td>\n",
       "      <td>H</td>\n",
       "    </tr>\n",
       "    <tr>\n",
       "      <th>40107</th>\n",
       "      <td>GRC</td>\n",
       "      <td>2019</td>\n",
       "      <td>24</td>\n",
       "      <td>7.84</td>\n",
       "      <td>2</td>\n",
       "      <td>H</td>\n",
       "    </tr>\n",
       "  </tbody>\n",
       "</table>\n",
       "<p>1850 rows × 6 columns</p>\n",
       "</div>"
      ],
      "text/plain": [
       "      ID_PAIS  ANIO  ID_INDICADOR  VALOR  ID_CONTINENTE ID_INCOME\n",
       "24420     ARG  1992            24    NaN              1         M\n",
       "24421     ARG  1993            24    NaN              1         M\n",
       "24422     ARG  1994            24    NaN              1         M\n",
       "24423     ARG  1995            24    NaN              1         M\n",
       "24424     ARG  1996            24    NaN              1         M\n",
       "...       ...   ...           ...    ...            ...       ...\n",
       "40103     DEU  2019            24  11.70              2         H\n",
       "40104     GBR  2019            24  10.15              2         H\n",
       "40105     NOR  2019            24  10.52              2         H\n",
       "40106     SWE  2019            24  10.87              2         H\n",
       "40107     GRC  2019            24   7.84              2         H\n",
       "\n",
       "[1850 rows x 6 columns]"
      ]
     },
     "execution_count": 110,
     "metadata": {},
     "output_type": "execute_result"
    }
   ],
   "source": [
    "# Corroboramos, al azar, una fila de la máscara empleada en la celda anterior.\n",
    "\n",
    "df[df.ID_INDICADOR == 24]"
   ]
  },
  {
   "cell_type": "code",
   "execution_count": 111,
   "metadata": {},
   "outputs": [
    {
     "name": "stdout",
     "output_type": "stream",
     "text": [
      "La cantidad de registros duplicados es: 8\n"
     ]
    }
   ],
   "source": [
    "print('La cantidad de registros duplicados es:', df.duplicated().sum())"
   ]
  },
  {
   "cell_type": "code",
   "execution_count": 112,
   "metadata": {},
   "outputs": [],
   "source": [
    "# Los eliminamos\n",
    "\n",
    "df.drop_duplicates(inplace = True)"
   ]
  },
  {
   "cell_type": "code",
   "execution_count": 113,
   "metadata": {},
   "outputs": [
    {
     "data": {
      "text/plain": [
       "(40100, 6)"
      ]
     },
     "execution_count": 113,
     "metadata": {},
     "output_type": "execute_result"
    }
   ],
   "source": [
    "df.shape"
   ]
  },
  {
   "cell_type": "markdown",
   "metadata": {},
   "source": [
    "## Tratamiento de datos faltantes."
   ]
  },
  {
   "cell_type": "code",
   "execution_count": 8,
   "metadata": {},
   "outputs": [],
   "source": [
    "import missingno as msno"
   ]
  },
  {
   "cell_type": "markdown",
   "metadata": {},
   "source": [
    "Observemos exploratoriamente nuestros datos faltantes"
   ]
  },
  {
   "cell_type": "code",
   "execution_count": 114,
   "metadata": {},
   "outputs": [
    {
     "data": {
      "image/png": "[encoded data removed]",
      "text/plain": [
       "<Figure size 1800x720 with 3 Axes>"
      ]
     },
     "metadata": {
      "needs_background": "light"
     },
     "output_type": "display_data"
    }
   ],
   "source": [
    "msno.bar(df)\n",
    "plt.show()"
   ]
  },
  {
   "cell_type": "markdown",
   "metadata": {},
   "source": [
    "Analicemos la columna `VALOR`, que la matriz ya nos da un indicio de gran cantidad de faltantes."
   ]
  },
  {
   "cell_type": "code",
   "execution_count": 115,
   "metadata": {},
   "outputs": [
    {
     "name": "stdout",
     "output_type": "stream",
     "text": [
      "Porcentaje de valores faltantes de la variable VALOR: 30.159600997506235\n"
     ]
    }
   ],
   "source": [
    "print('Porcentaje de valores faltantes de la variable VALOR:', (df.VALOR.isnull().sum()/len(df)) * 100)"
   ]
  },
  {
   "cell_type": "markdown",
   "metadata": {},
   "source": [
    "Parece ser que varios indicadores tienen datos faltantes en la columna 'VALOR' por lo que eliminaremos aquellos con mas de 20% de datos faltantes."
   ]
  },
  {
   "cell_type": "code",
   "execution_count": 116,
   "metadata": {},
   "outputs": [],
   "source": [
    "indicadores = df['ID_INDICADOR'].unique()"
   ]
  },
  {
   "cell_type": "code",
   "execution_count": 117,
   "metadata": {},
   "outputs": [],
   "source": [
    "indicadores.sort()"
   ]
  },
  {
   "cell_type": "code",
   "execution_count": 118,
   "metadata": {},
   "outputs": [
    {
     "data": {
      "text/plain": [
       "array([ 1,  2,  3,  4,  5,  6,  7,  8,  9, 10, 11, 12, 14, 15, 16, 17, 19,\n",
       "       20, 21, 22, 23, 24, 25, 26, 27, 28, 29, 30, 31, 32, 33, 34, 35, 36,\n",
       "       37, 38], dtype=int64)"
      ]
     },
     "execution_count": 118,
     "metadata": {},
     "output_type": "execute_result"
    }
   ],
   "source": [
    "indicadores"
   ]
  },
  {
   "cell_type": "code",
   "execution_count": 119,
   "metadata": {},
   "outputs": [],
   "source": [
    "# sacamos el indicador 12 tambien por la redundancia en indicadores\n",
    "Ind_out = [16]\n",
    "for i in indicadores:\n",
    "    x = (df[df['ID_INDICADOR'] == i].VALOR.isnull().sum()/len(df[df['ID_INDICADOR'] == i])) * 100\n",
    "    if x > 20:\n",
    "        Ind_out.append(i)\n",
    "    "
   ]
  },
  {
   "cell_type": "code",
   "execution_count": 120,
   "metadata": {},
   "outputs": [
    {
     "data": {
      "text/plain": [
       "[12, 1, 4, 5, 6, 10, 15, 16, 17, 21, 22, 23, 24, 29, 30, 32, 35, 36, 37]"
      ]
     },
     "execution_count": 120,
     "metadata": {},
     "output_type": "execute_result"
    }
   ],
   "source": [
    "Ind_out"
   ]
  },
  {
   "cell_type": "code",
   "execution_count": 121,
   "metadata": {},
   "outputs": [
    {
     "data": {
      "text/plain": [
       "19"
      ]
     },
     "execution_count": 121,
     "metadata": {},
     "output_type": "execute_result"
    }
   ],
   "source": [
    "len(Ind_out)"
   ]
  },
  {
   "cell_type": "code",
   "execution_count": 122,
   "metadata": {},
   "outputs": [],
   "source": [
    "# Sacamos los indicadores dentro de Ind_Out\n",
    "for i in Ind_out:\n",
    "    df = df[df['ID_INDICADOR'] != i]"
   ]
  },
  {
   "cell_type": "code",
   "execution_count": 123,
   "metadata": {},
   "outputs": [
    {
     "data": {
      "text/html": [
       "<div>\n",
       "<style scoped>\n",
       "    .dataframe tbody tr th:only-of-type {\n",
       "        vertical-align: middle;\n",
       "    }\n",
       "\n",
       "    .dataframe tbody tr th {\n",
       "        vertical-align: top;\n",
       "    }\n",
       "\n",
       "    .dataframe thead th {\n",
       "        text-align: right;\n",
       "    }\n",
       "</style>\n",
       "<table border=\"1\" class=\"dataframe\">\n",
       "  <thead>\n",
       "    <tr style=\"text-align: right;\">\n",
       "      <th></th>\n",
       "      <th>ID_PAIS</th>\n",
       "      <th>ANIO</th>\n",
       "      <th>ID_INDICADOR</th>\n",
       "      <th>VALOR</th>\n",
       "      <th>ID_CONTINENTE</th>\n",
       "      <th>ID_INCOME</th>\n",
       "    </tr>\n",
       "  </thead>\n",
       "  <tbody>\n",
       "    <tr>\n",
       "      <th>1110</th>\n",
       "      <td>ARG</td>\n",
       "      <td>1992</td>\n",
       "      <td>38</td>\n",
       "      <td>3.712379</td>\n",
       "      <td>1</td>\n",
       "      <td>M</td>\n",
       "    </tr>\n",
       "    <tr>\n",
       "      <th>1111</th>\n",
       "      <td>ARG</td>\n",
       "      <td>1993</td>\n",
       "      <td>38</td>\n",
       "      <td>3.956405</td>\n",
       "      <td>1</td>\n",
       "      <td>M</td>\n",
       "    </tr>\n",
       "    <tr>\n",
       "      <th>1112</th>\n",
       "      <td>ARG</td>\n",
       "      <td>1994</td>\n",
       "      <td>38</td>\n",
       "      <td>4.055469</td>\n",
       "      <td>1</td>\n",
       "      <td>M</td>\n",
       "    </tr>\n",
       "    <tr>\n",
       "      <th>1113</th>\n",
       "      <td>ARG</td>\n",
       "      <td>1995</td>\n",
       "      <td>38</td>\n",
       "      <td>4.280636</td>\n",
       "      <td>1</td>\n",
       "      <td>M</td>\n",
       "    </tr>\n",
       "    <tr>\n",
       "      <th>1114</th>\n",
       "      <td>ARG</td>\n",
       "      <td>1996</td>\n",
       "      <td>38</td>\n",
       "      <td>4.526610</td>\n",
       "      <td>1</td>\n",
       "      <td>M</td>\n",
       "    </tr>\n",
       "  </tbody>\n",
       "</table>\n",
       "</div>"
      ],
      "text/plain": [
       "     ID_PAIS  ANIO  ID_INDICADOR     VALOR  ID_CONTINENTE ID_INCOME\n",
       "1110     ARG  1992            38  3.712379              1         M\n",
       "1111     ARG  1993            38  3.956405              1         M\n",
       "1112     ARG  1994            38  4.055469              1         M\n",
       "1113     ARG  1995            38  4.280636              1         M\n",
       "1114     ARG  1996            38  4.526610              1         M"
      ]
     },
     "execution_count": 123,
     "metadata": {},
     "output_type": "execute_result"
    }
   ],
   "source": [
    "df.head()"
   ]
  },
  {
   "cell_type": "code",
   "execution_count": 124,
   "metadata": {},
   "outputs": [
    {
     "data": {
      "text/plain": [
       "(18278, 6)"
      ]
     },
     "execution_count": 124,
     "metadata": {},
     "output_type": "execute_result"
    }
   ],
   "source": [
    "df.shape"
   ]
  },
  {
   "cell_type": "markdown",
   "metadata": {},
   "source": [
    "Ahora observemos nuevamente como quedaron nuestros datos faltantes en la columna 'VALOR'"
   ]
  },
  {
   "cell_type": "code",
   "execution_count": 125,
   "metadata": {},
   "outputs": [
    {
     "data": {
      "image/png": "[encoded data removed]",
      "text/plain": [
       "<Figure size 1800x720 with 3 Axes>"
      ]
     },
     "metadata": {
      "needs_background": "light"
     },
     "output_type": "display_data"
    }
   ],
   "source": [
    "msno.bar(df)\n",
    "plt.show()"
   ]
  },
  {
   "cell_type": "markdown",
   "metadata": {},
   "source": [
    "Parece ser que aun quedan algunos:"
   ]
  },
  {
   "cell_type": "code",
   "execution_count": 126,
   "metadata": {},
   "outputs": [
    {
     "name": "stdout",
     "output_type": "stream",
     "text": [
      "Porcentaje de valores faltantes de la variable VALOR: 3.3592296750191486\n"
     ]
    }
   ],
   "source": [
    "print('Porcentaje de valores faltantes de la variable VALOR:', (df.VALOR.isnull().sum()/len(df)) * 100)"
   ]
  },
  {
   "cell_type": "markdown",
   "metadata": {},
   "source": [
    "## Tratamiento de variables categóricas."
   ]
  },
  {
   "cell_type": "markdown",
   "metadata": {},
   "source": [
    "Como lo que estamos tratando son datos dentro de una serie de tiempo no sería adecuado reemplazar estos datos faltantes con su media o alguna otra métrica ya que si el valor faltantes se encuentra cerca del máximo o del mínimo esto podria no ser adecuado y podriamos generar outliers.\n",
    "Lo adecuando en este caso es usar un algoritmo de ML como KNNImputer para hacer un reemplazo de los mismos de manera mas adecuada."
   ]
  },
  {
   "cell_type": "code",
   "execution_count": 127,
   "metadata": {},
   "outputs": [],
   "source": [
    "df1 = df.copy()"
   ]
  },
  {
   "cell_type": "code",
   "execution_count": 128,
   "metadata": {},
   "outputs": [
    {
     "data": {
      "text/plain": [
       "H     8892\n",
       "M     4940\n",
       "LM    4446\n",
       "Name: ID_INCOME, dtype: int64"
      ]
     },
     "execution_count": 128,
     "metadata": {},
     "output_type": "execute_result"
    }
   ],
   "source": [
    "#Observemos los valores de ID_INCOME\n",
    "df1['ID_INCOME'].value_counts()"
   ]
  },
  {
   "cell_type": "code",
   "execution_count": 129,
   "metadata": {},
   "outputs": [
    {
     "data": {
      "text/plain": [
       "ARG    494\n",
       "JPN    494\n",
       "LBY    494\n",
       "MAR    494\n",
       "MEX    494\n",
       "MYS    494\n",
       "NGA    494\n",
       "NOR    494\n",
       "PAN    494\n",
       "PER    494\n",
       "RUS    494\n",
       "SAU    494\n",
       "SWE    494\n",
       "THA    494\n",
       "TUR    494\n",
       "URY    494\n",
       "USA    494\n",
       "KOR    494\n",
       "ITA    494\n",
       "AUS    494\n",
       "ISR    494\n",
       "BGR    494\n",
       "BOL    494\n",
       "BRA    494\n",
       "CAN    494\n",
       "CHL    494\n",
       "CHN    494\n",
       "CRI    494\n",
       "DEU    494\n",
       "EGY    494\n",
       "ESP    494\n",
       "FRA    494\n",
       "GBR    494\n",
       "GRC    494\n",
       "IDN    494\n",
       "IND    494\n",
       "ZAF    494\n",
       "Name: ID_PAIS, dtype: int64"
      ]
     },
     "execution_count": 129,
     "metadata": {},
     "output_type": "execute_result"
    }
   ],
   "source": [
    "df1['ID_PAIS'].value_counts()"
   ]
  },
  {
   "cell_type": "markdown",
   "metadata": {},
   "source": [
    "Las convertimos en variables numéricas."
   ]
  },
  {
   "cell_type": "code",
   "execution_count": 130,
   "metadata": {},
   "outputs": [],
   "source": [
    "from sklearn import preprocessing\n",
    "\n",
    "label_encoder = preprocessing.LabelEncoder()\n",
    "  \n",
    "\n",
    "df1['ID_PAIS'] = label_encoder.fit_transform(df1['ID_PAIS'])\n",
    "df1['ID_INCOME'] = label_encoder.fit_transform(df1['ID_INCOME'])"
   ]
  },
  {
   "cell_type": "code",
   "execution_count": 131,
   "metadata": {},
   "outputs": [
    {
     "data": {
      "text/html": [
       "<div>\n",
       "<style scoped>\n",
       "    .dataframe tbody tr th:only-of-type {\n",
       "        vertical-align: middle;\n",
       "    }\n",
       "\n",
       "    .dataframe tbody tr th {\n",
       "        vertical-align: top;\n",
       "    }\n",
       "\n",
       "    .dataframe thead th {\n",
       "        text-align: right;\n",
       "    }\n",
       "</style>\n",
       "<table border=\"1\" class=\"dataframe\">\n",
       "  <thead>\n",
       "    <tr style=\"text-align: right;\">\n",
       "      <th></th>\n",
       "      <th>ID_PAIS</th>\n",
       "      <th>ANIO</th>\n",
       "      <th>ID_INDICADOR</th>\n",
       "      <th>VALOR</th>\n",
       "      <th>ID_CONTINENTE</th>\n",
       "      <th>ID_INCOME</th>\n",
       "    </tr>\n",
       "  </thead>\n",
       "  <tbody>\n",
       "    <tr>\n",
       "      <th>1110</th>\n",
       "      <td>0</td>\n",
       "      <td>1992</td>\n",
       "      <td>38</td>\n",
       "      <td>3.712379</td>\n",
       "      <td>1</td>\n",
       "      <td>2</td>\n",
       "    </tr>\n",
       "    <tr>\n",
       "      <th>1111</th>\n",
       "      <td>0</td>\n",
       "      <td>1993</td>\n",
       "      <td>38</td>\n",
       "      <td>3.956405</td>\n",
       "      <td>1</td>\n",
       "      <td>2</td>\n",
       "    </tr>\n",
       "    <tr>\n",
       "      <th>1112</th>\n",
       "      <td>0</td>\n",
       "      <td>1994</td>\n",
       "      <td>38</td>\n",
       "      <td>4.055469</td>\n",
       "      <td>1</td>\n",
       "      <td>2</td>\n",
       "    </tr>\n",
       "    <tr>\n",
       "      <th>1113</th>\n",
       "      <td>0</td>\n",
       "      <td>1995</td>\n",
       "      <td>38</td>\n",
       "      <td>4.280636</td>\n",
       "      <td>1</td>\n",
       "      <td>2</td>\n",
       "    </tr>\n",
       "    <tr>\n",
       "      <th>1114</th>\n",
       "      <td>0</td>\n",
       "      <td>1996</td>\n",
       "      <td>38</td>\n",
       "      <td>4.526610</td>\n",
       "      <td>1</td>\n",
       "      <td>2</td>\n",
       "    </tr>\n",
       "  </tbody>\n",
       "</table>\n",
       "</div>"
      ],
      "text/plain": [
       "      ID_PAIS  ANIO  ID_INDICADOR     VALOR  ID_CONTINENTE  ID_INCOME\n",
       "1110        0  1992            38  3.712379              1          2\n",
       "1111        0  1993            38  3.956405              1          2\n",
       "1112        0  1994            38  4.055469              1          2\n",
       "1113        0  1995            38  4.280636              1          2\n",
       "1114        0  1996            38  4.526610              1          2"
      ]
     },
     "execution_count": 131,
     "metadata": {},
     "output_type": "execute_result"
    }
   ],
   "source": [
    "df1.head()"
   ]
  },
  {
   "cell_type": "code",
   "execution_count": 132,
   "metadata": {},
   "outputs": [
    {
     "data": {
      "text/plain": [
       "0    8892\n",
       "2    4940\n",
       "1    4446\n",
       "Name: ID_INCOME, dtype: int64"
      ]
     },
     "execution_count": 132,
     "metadata": {},
     "output_type": "execute_result"
    }
   ],
   "source": [
    "df1['ID_INCOME'].value_counts()"
   ]
  },
  {
   "cell_type": "code",
   "execution_count": 133,
   "metadata": {},
   "outputs": [
    {
     "data": {
      "text/plain": [
       "0     494\n",
       "19    494\n",
       "21    494\n",
       "22    494\n",
       "23    494\n",
       "24    494\n",
       "25    494\n",
       "26    494\n",
       "27    494\n",
       "28    494\n",
       "29    494\n",
       "30    494\n",
       "31    494\n",
       "32    494\n",
       "33    494\n",
       "34    494\n",
       "35    494\n",
       "20    494\n",
       "18    494\n",
       "1     494\n",
       "17    494\n",
       "2     494\n",
       "3     494\n",
       "4     494\n",
       "5     494\n",
       "6     494\n",
       "7     494\n",
       "8     494\n",
       "9     494\n",
       "10    494\n",
       "11    494\n",
       "12    494\n",
       "13    494\n",
       "14    494\n",
       "15    494\n",
       "16    494\n",
       "36    494\n",
       "Name: ID_PAIS, dtype: int64"
      ]
     },
     "execution_count": 133,
     "metadata": {},
     "output_type": "execute_result"
    }
   ],
   "source": [
    "df1['ID_PAIS'].value_counts()"
   ]
  },
  {
   "cell_type": "markdown",
   "metadata": {},
   "source": [
    "Reemplazamos los Valores faltantes con KNNImputer"
   ]
  },
  {
   "cell_type": "code",
   "execution_count": 68,
   "metadata": {},
   "outputs": [],
   "source": [
    "from sklearn.impute import KNNImputer\n"
   ]
  },
  {
   "cell_type": "code",
   "execution_count": 134,
   "metadata": {},
   "outputs": [],
   "source": [
    "imputer = KNNImputer(n_neighbors=2, weights='distance')\n",
    "after = imputer.fit_transform(df1)"
   ]
  },
  {
   "cell_type": "code",
   "execution_count": 135,
   "metadata": {},
   "outputs": [
    {
     "data": {
      "text/plain": [
       "(18278, 6)"
      ]
     },
     "execution_count": 135,
     "metadata": {},
     "output_type": "execute_result"
    }
   ],
   "source": [
    "after.shape"
   ]
  },
  {
   "cell_type": "code",
   "execution_count": 136,
   "metadata": {},
   "outputs": [],
   "source": [
    "columnas = df1.columns.values"
   ]
  },
  {
   "cell_type": "markdown",
   "metadata": {},
   "source": [
    "Creamos un Data Frame usando 'after' que tiene los datos imputados."
   ]
  },
  {
   "cell_type": "code",
   "execution_count": 137,
   "metadata": {},
   "outputs": [],
   "source": [
    "df2 = pd.DataFrame(after, columns=columnas)"
   ]
  },
  {
   "cell_type": "code",
   "execution_count": 138,
   "metadata": {},
   "outputs": [
    {
     "data": {
      "text/html": [
       "<div>\n",
       "<style scoped>\n",
       "    .dataframe tbody tr th:only-of-type {\n",
       "        vertical-align: middle;\n",
       "    }\n",
       "\n",
       "    .dataframe tbody tr th {\n",
       "        vertical-align: top;\n",
       "    }\n",
       "\n",
       "    .dataframe thead th {\n",
       "        text-align: right;\n",
       "    }\n",
       "</style>\n",
       "<table border=\"1\" class=\"dataframe\">\n",
       "  <thead>\n",
       "    <tr style=\"text-align: right;\">\n",
       "      <th></th>\n",
       "      <th>ID_PAIS</th>\n",
       "      <th>ANIO</th>\n",
       "      <th>ID_INDICADOR</th>\n",
       "      <th>VALOR</th>\n",
       "      <th>ID_CONTINENTE</th>\n",
       "      <th>ID_INCOME</th>\n",
       "    </tr>\n",
       "  </thead>\n",
       "  <tbody>\n",
       "    <tr>\n",
       "      <th>0</th>\n",
       "      <td>0.0</td>\n",
       "      <td>1992.0</td>\n",
       "      <td>38.0</td>\n",
       "      <td>3.712379</td>\n",
       "      <td>1.0</td>\n",
       "      <td>2.0</td>\n",
       "    </tr>\n",
       "    <tr>\n",
       "      <th>1</th>\n",
       "      <td>0.0</td>\n",
       "      <td>1993.0</td>\n",
       "      <td>38.0</td>\n",
       "      <td>3.956405</td>\n",
       "      <td>1.0</td>\n",
       "      <td>2.0</td>\n",
       "    </tr>\n",
       "    <tr>\n",
       "      <th>2</th>\n",
       "      <td>0.0</td>\n",
       "      <td>1994.0</td>\n",
       "      <td>38.0</td>\n",
       "      <td>4.055469</td>\n",
       "      <td>1.0</td>\n",
       "      <td>2.0</td>\n",
       "    </tr>\n",
       "    <tr>\n",
       "      <th>3</th>\n",
       "      <td>0.0</td>\n",
       "      <td>1995.0</td>\n",
       "      <td>38.0</td>\n",
       "      <td>4.280636</td>\n",
       "      <td>1.0</td>\n",
       "      <td>2.0</td>\n",
       "    </tr>\n",
       "    <tr>\n",
       "      <th>4</th>\n",
       "      <td>0.0</td>\n",
       "      <td>1996.0</td>\n",
       "      <td>38.0</td>\n",
       "      <td>4.526610</td>\n",
       "      <td>1.0</td>\n",
       "      <td>2.0</td>\n",
       "    </tr>\n",
       "  </tbody>\n",
       "</table>\n",
       "</div>"
      ],
      "text/plain": [
       "   ID_PAIS    ANIO  ID_INDICADOR     VALOR  ID_CONTINENTE  ID_INCOME\n",
       "0      0.0  1992.0          38.0  3.712379            1.0        2.0\n",
       "1      0.0  1993.0          38.0  3.956405            1.0        2.0\n",
       "2      0.0  1994.0          38.0  4.055469            1.0        2.0\n",
       "3      0.0  1995.0          38.0  4.280636            1.0        2.0\n",
       "4      0.0  1996.0          38.0  4.526610            1.0        2.0"
      ]
     },
     "execution_count": 138,
     "metadata": {},
     "output_type": "execute_result"
    }
   ],
   "source": [
    "df2.head()"
   ]
  },
  {
   "cell_type": "markdown",
   "metadata": {},
   "source": [
    "Observemos ahora nuestros datos faltantes (si es que los hay)."
   ]
  },
  {
   "cell_type": "code",
   "execution_count": 139,
   "metadata": {},
   "outputs": [
    {
     "data": {
      "image/png": "[encoded data removed]",
      "text/plain": [
       "<Figure size 1800x720 with 3 Axes>"
      ]
     },
     "metadata": {
      "needs_background": "light"
     },
     "output_type": "display_data"
    }
   ],
   "source": [
    "msno.bar(df2)\n",
    "plt.show()"
   ]
  },
  {
   "cell_type": "code",
   "execution_count": 140,
   "metadata": {},
   "outputs": [
    {
     "name": "stdout",
     "output_type": "stream",
     "text": [
      "Porcentaje de valores faltantes de la variable VALOR: 0.0\n"
     ]
    }
   ],
   "source": [
    "print('Porcentaje de valores faltantes de la variable VALOR:', (df2.VALOR.isnull().sum()/len(df2)) * 100)"
   ]
  },
  {
   "cell_type": "markdown",
   "metadata": {},
   "source": [
    "No queda muy comodo y facil de identificar los paises convertidos en numericos, para no afectar el esquema del proyecto se mantendra el formato original de las variables categoricas pero cambiaremos la columna 'VALOR'"
   ]
  },
  {
   "cell_type": "code",
   "execution_count": 141,
   "metadata": {},
   "outputs": [],
   "source": [
    "df['VALOR'] = df2['VALOR'].values"
   ]
  },
  {
   "cell_type": "code",
   "execution_count": 142,
   "metadata": {},
   "outputs": [
    {
     "data": {
      "text/html": [
       "<div>\n",
       "<style scoped>\n",
       "    .dataframe tbody tr th:only-of-type {\n",
       "        vertical-align: middle;\n",
       "    }\n",
       "\n",
       "    .dataframe tbody tr th {\n",
       "        vertical-align: top;\n",
       "    }\n",
       "\n",
       "    .dataframe thead th {\n",
       "        text-align: right;\n",
       "    }\n",
       "</style>\n",
       "<table border=\"1\" class=\"dataframe\">\n",
       "  <thead>\n",
       "    <tr style=\"text-align: right;\">\n",
       "      <th></th>\n",
       "      <th>ID_PAIS</th>\n",
       "      <th>ANIO</th>\n",
       "      <th>ID_INDICADOR</th>\n",
       "      <th>VALOR</th>\n",
       "      <th>ID_CONTINENTE</th>\n",
       "      <th>ID_INCOME</th>\n",
       "    </tr>\n",
       "  </thead>\n",
       "  <tbody>\n",
       "    <tr>\n",
       "      <th>1110</th>\n",
       "      <td>ARG</td>\n",
       "      <td>1992</td>\n",
       "      <td>38</td>\n",
       "      <td>3.712379</td>\n",
       "      <td>1</td>\n",
       "      <td>M</td>\n",
       "    </tr>\n",
       "    <tr>\n",
       "      <th>1111</th>\n",
       "      <td>ARG</td>\n",
       "      <td>1993</td>\n",
       "      <td>38</td>\n",
       "      <td>3.956405</td>\n",
       "      <td>1</td>\n",
       "      <td>M</td>\n",
       "    </tr>\n",
       "    <tr>\n",
       "      <th>1112</th>\n",
       "      <td>ARG</td>\n",
       "      <td>1994</td>\n",
       "      <td>38</td>\n",
       "      <td>4.055469</td>\n",
       "      <td>1</td>\n",
       "      <td>M</td>\n",
       "    </tr>\n",
       "    <tr>\n",
       "      <th>1113</th>\n",
       "      <td>ARG</td>\n",
       "      <td>1995</td>\n",
       "      <td>38</td>\n",
       "      <td>4.280636</td>\n",
       "      <td>1</td>\n",
       "      <td>M</td>\n",
       "    </tr>\n",
       "    <tr>\n",
       "      <th>1114</th>\n",
       "      <td>ARG</td>\n",
       "      <td>1996</td>\n",
       "      <td>38</td>\n",
       "      <td>4.526610</td>\n",
       "      <td>1</td>\n",
       "      <td>M</td>\n",
       "    </tr>\n",
       "  </tbody>\n",
       "</table>\n",
       "</div>"
      ],
      "text/plain": [
       "     ID_PAIS  ANIO  ID_INDICADOR     VALOR  ID_CONTINENTE ID_INCOME\n",
       "1110     ARG  1992            38  3.712379              1         M\n",
       "1111     ARG  1993            38  3.956405              1         M\n",
       "1112     ARG  1994            38  4.055469              1         M\n",
       "1113     ARG  1995            38  4.280636              1         M\n",
       "1114     ARG  1996            38  4.526610              1         M"
      ]
     },
     "execution_count": 142,
     "metadata": {},
     "output_type": "execute_result"
    }
   ],
   "source": [
    "df.head()"
   ]
  },
  {
   "cell_type": "code",
   "execution_count": 143,
   "metadata": {},
   "outputs": [
    {
     "data": {
      "image/png": "[encoded data removed]",
      "text/plain": [
       "<Figure size 1800x720 with 3 Axes>"
      ]
     },
     "metadata": {
      "needs_background": "light"
     },
     "output_type": "display_data"
    }
   ],
   "source": [
    "msno.bar(df)\n",
    "plt.show()"
   ]
  },
  {
   "cell_type": "markdown",
   "metadata": {},
   "source": [
    "Ahora podemos observar que los datos faltantes se imputaron exitosamente."
   ]
  },
  {
   "cell_type": "markdown",
   "metadata": {},
   "source": [
    "Pasaremos a crear un archivo .csv con nuestros datos limpios y listos para trabajar."
   ]
  },
  {
   "cell_type": "code",
   "execution_count": 146,
   "metadata": {},
   "outputs": [],
   "source": [
    "df.to_csv('hechos_limpia.csv')"
   ]
  }
 ],
 "metadata": {
  "kernelspec": {
   "display_name": "Python 3.10.4 64-bit",
   "language": "python",
   "name": "python3"
  },
  "language_info": {
   "codemirror_mode": {
    "name": "ipython",
    "version": 3
   },
   "file_extension": ".py",
   "mimetype": "text/x-python",
   "name": "python",
   "nbconvert_exporter": "python",
   "pygments_lexer": "ipython3",
   "version": "3.10.4"
  },
  "orig_nbformat": 4,
  "vscode": {
   "interpreter": {
    "hash": "6e3977c52f5249dbc2a33b897faad1e0916758085298811edbd14ed6ad707d81"
   }
  }
 },
 "nbformat": 4,
 "nbformat_minor": 2
}
