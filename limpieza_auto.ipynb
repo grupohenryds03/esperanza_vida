{
 "cells": [
  {
   "cell_type": "markdown",
   "metadata": {},
   "source": [
    "## DATA CLEANING"
   ]
  },
  {
   "cell_type": "markdown",
   "metadata": {},
   "source": [
    "En este apartado se realizaran las etapas de preprocesamiento de datos.\n",
    "\n",
    "Trabajaremos con con nuestra tabla de hechos que se encuentra en snowflake y github."
   ]
  },
  {
   "cell_type": "code",
   "execution_count": 1,
   "metadata": {},
   "outputs": [],
   "source": [
    "import pandas as pd\n",
    "import numpy as np\n",
    "from sklearn import preprocessing\n",
    "from sklearn.impute import KNNImputer\n",
    "import ssl"
   ]
  },
  {
   "cell_type": "code",
   "execution_count": 21,
   "metadata": {},
   "outputs": [],
   "source": [
    "ssl._create_default_https_context = ssl._create_unverified_context\n",
    "df=pd.read_csv('https://raw.githubusercontent.com/grupohenryds03/esperanza_vida/main/datasets/EV.csv') # se importa el csv crudo"
   ]
  },
  {
   "cell_type": "code",
   "execution_count": 22,
   "metadata": {},
   "outputs": [],
   "source": [
    "df.drop_duplicates(inplace = True) # eliminamos las filas duplicadas\n",
    "indicadores = df['ID_INDICADOR'].unique()\n",
    "indicadores.sort()\n",
    "Ind_out = [12] # sacamos el indicador 12 tambien por la redundancia en indicadores\n",
    "for i in indicadores:\n",
    "    x = (df[df['ID_INDICADOR'] == i].VALOR.isnull().sum()/len(df[df['ID_INDICADOR'] == i])) * 100\n",
    "    if x > 20:\n",
    "        Ind_out.append(i)\n",
    "for i in Ind_out:\n",
    "    df = df[df['ID_INDICADOR'] != i] # Sacamos los indicadores dentro de Ind_Out\n",
    "\n",
    "#-----------------------------------------------------\n",
    "\n",
    "lista_pais=df['ID_PAIS']\n",
    "lista_income=df['ID_INCOME']\n",
    "\n",
    "#-----------------------------------------------------\n",
    "label_encoder = preprocessing.LabelEncoder()\n",
    "df['ID_PAIS'] = label_encoder.fit_transform(df['ID_PAIS'])\n",
    "df['ID_INCOME'] = label_encoder.fit_transform(df['ID_INCOME'])\n",
    "\n",
    "#-----------------------------------------------------\n",
    "imputer = KNNImputer(n_neighbors=2, weights='distance') #Reemplazamos los Valores faltantes con KNNImputer\n",
    "after = imputer.fit_transform(df) #Creamos un Data Frame usando 'after' que tiene los datos imputados.\n",
    "columnas = df.columns.values\n",
    "df_limpio = pd.DataFrame(after, columns=columnas) \n",
    "\n",
    "#-----------------------------------------------------\n",
    "df_limpio.ID_PAIS=df_limpio.ID_PAIS.astype(int)\n",
    "df_limpio.ID_INCOME=df_limpio.ID_INCOME.astype(int)\n",
    "df_limpio.ID_CONTINENTE=df_limpio.ID_CONTINENTE.astype(int)\n",
    "df_limpio.ANIO=df_limpio.ANIO.astype(int)\n",
    "df_limpio.ID_INDICADOR=df_limpio.ID_INDICADOR.astype(int)\n",
    "df_limpio.VALOR=round(df_limpio.VALOR,2)"
   ]
  },
  {
   "cell_type": "code",
   "execution_count": 46,
   "metadata": {},
   "outputs": [],
   "source": [
    "df_limpio.to_csv('datasets/EV_limpia.csv')"
   ]
  },
  {
   "cell_type": "code",
   "execution_count": 41,
   "metadata": {},
   "outputs": [],
   "source": [
    "lista=list(lista_pais)"
   ]
  },
  {
   "cell_type": "code",
   "execution_count": 43,
   "metadata": {},
   "outputs": [],
   "source": [
    "res = {} \n",
    "for key in df_limpio.ID_PAIS: \n",
    "    for value in lista: \n",
    "        res[key] = value \n",
    "        lista.remove(value) \n",
    "        break "
   ]
  },
  {
   "cell_type": "code",
   "execution_count": 45,
   "metadata": {},
   "outputs": [
    {
     "name": "stdout",
     "output_type": "stream",
     "text": [
      "{0: 'THA', 1: 'BGR', 2: 'PAN', 3: 'ISR', 4: 'IND', 5: 'NGA', 6: 'JPN', 7: 'FRA', 8: 'AUS', 9: 'URY', 10: 'MYS', 11: 'CRI', 12: 'BRA', 13: 'BOL', 14: 'LBY', 15: 'USA', 16: 'ITA', 17: 'SWE', 18: 'CHL', 19: 'GBR', 20: 'NOR', 21: 'IDN', 22: 'ESP', 23: 'MAR', 24: 'GRC', 25: 'TUR', 26: 'PER', 27: 'CHN', 28: 'SAU', 29: 'CAN', 30: 'GRC', 31: 'EGY', 32: 'DEU', 33: 'MEX', 34: 'KOR', 35: 'ZAF', 36: 'RUS'}\n"
     ]
    }
   ],
   "source": [
    "print(res)"
   ]
  }
 ],
 "metadata": {
  "kernelspec": {
   "display_name": "Python 3.10.8 64-bit",
   "language": "python",
   "name": "python3"
  },
  "language_info": {
   "codemirror_mode": {
    "name": "ipython",
    "version": 3
   },
   "file_extension": ".py",
   "mimetype": "text/x-python",
   "name": "python",
   "nbconvert_exporter": "python",
   "pygments_lexer": "ipython3",
   "version": "3.10.8"
  },
  "orig_nbformat": 4,
  "vscode": {
   "interpreter": {
    "hash": "aee8b7b246df8f9039afb4144a1f6fd8d2ca17a180786b69acc140d282b71a49"
   }
  }
 },
 "nbformat": 4,
 "nbformat_minor": 2
}
