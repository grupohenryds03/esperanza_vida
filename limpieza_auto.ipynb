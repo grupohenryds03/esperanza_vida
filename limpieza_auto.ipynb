{
 "cells": [
  {
   "cell_type": "markdown",
   "metadata": {},
   "source": [
    "## DATA CLEANING"
   ]
  },
  {
   "cell_type": "markdown",
   "metadata": {},
   "source": [
    "En este apartado se realizaran las etapas de preprocesamiento de datos.\n",
    "\n",
    "Trabajaremos con con nuestra tabla de hechos que se encuentra en snowflake y github."
   ]
  },
  {
   "cell_type": "code",
   "execution_count": 1,
   "metadata": {},
   "outputs": [],
   "source": [
    "import pandas as pd\n",
    "import numpy as np\n",
    "from sklearn import preprocessing\n",
    "from sklearn.impute import KNNImputer\n",
    "import ssl"
   ]
  },
  {
   "cell_type": "code",
   "execution_count": 110,
   "metadata": {},
   "outputs": [],
   "source": [
    "ssl._create_default_https_context = ssl._create_unverified_context\n",
    "df=pd.read_csv('https://raw.githubusercontent.com/grupohenryds03/esperanza_vida/main/datasets/EV.csv') # se importa el csv crudo"
   ]
  },
  {
   "cell_type": "code",
   "execution_count": 111,
   "metadata": {},
   "outputs": [],
   "source": [
    "df.drop_duplicates(inplace = True) # eliminamos las filas duplicadas\n",
    "indicadores = df['ID_INDICADOR'].unique()\n",
    "indicadores.sort()\n",
    "Ind_out = [16] # sacamos el indicador 12 tambien por la redundancia en indicadores\n",
    "for i in indicadores:\n",
    "    x = (df[df['ID_INDICADOR'] == i].VALOR.isnull().sum()/len(df[df['ID_INDICADOR'] == i])) * 100\n",
    "    if x > 20:\n",
    "        Ind_out.append(i)\n",
    "for i in Ind_out:\n",
    "    df = df[df['ID_INDICADOR'] != i] # Sacamos los indicadores dentro de Ind_Out\n",
    "\n",
    "#-----------------------------------------------------\n",
    "\n",
    "lista_pais=df['ID_PAIS']\n",
    "lista_income=df['ID_INCOME']\n",
    "\n",
    "#-----------------------------------------------------\n",
    "label_encoder = preprocessing.LabelEncoder()\n",
    "df['ID_PAIS'] = label_encoder.fit_transform(df['ID_PAIS'])\n",
    "df['ID_INCOME'] = label_encoder.fit_transform(df['ID_INCOME'])\n",
    "\n",
    "#-----------------------------------------------------\n",
    "imputer = KNNImputer(n_neighbors=2, weights='distance') #Reemplazamos los Valores faltantes con KNNImputer\n",
    "after = imputer.fit_transform(df) #Creamos un Data Frame usando 'after' que tiene los datos imputados.\n",
    "columnas = df.columns.values\n",
    "df_limpio = pd.DataFrame(after, columns=columnas) \n",
    "\n",
    "#-----------------------------------------------------\n",
    "df_limpio.ID_PAIS=df_limpio.ID_PAIS.astype(int)\n",
    "df_limpio.ID_INCOME=df_limpio.ID_INCOME.astype(int)\n",
    "df_limpio.ID_CONTINENTE=df_limpio.ID_CONTINENTE.astype(int)\n",
    "df_limpio.ANIO=df_limpio.ANIO.astype(int)\n",
    "df_limpio.ID_INDICADOR=df_limpio.ID_INDICADOR.astype(int)\n",
    "df_limpio.VALOR=round(df_limpio.VALOR,2)"
   ]
  },
  {
   "cell_type": "code",
   "execution_count": 107,
   "metadata": {},
   "outputs": [],
   "source": [
    "df_limpio.to_csv('datasets/EV_limpio.csv')"
   ]
  },
  {
   "cell_type": "markdown",
   "metadata": {},
   "source": [
    "creador de diccionarios para streamlit"
   ]
  },
  {
   "cell_type": "code",
   "execution_count": null,
   "metadata": {},
   "outputs": [],
   "source": [
    "lista_X=lista_income\n",
    "lista_W=list(df['ID_INCOME'])\n",
    "\n",
    "lista_p=list(lista_pais)\n",
    "lista_id=list(df_limpio.ID_PAIS)\n",
    "\n",
    "res = {} \n",
    "for key in lista_id: \n",
    "    for value in lista_p: \n",
    "        res[key] = value \n",
    "        lista_p.remove(value) \n",
    "        break \n",
    "id=list(res)\n",
    "codigo=list(res.items())\n",
    "codigo_pais=list(res.values())\n",
    "df_pais=pd.DataFrame(codigo, columns=['ID_PAIS','CODIGO_PAIS'])\n",
    "\n",
    "Nation = ['United States', 'Canada','Mexico','Costa Rica','Panama','Brazil','Argentina','Chile','Uruguay','Bolivia','Peru','Egypt, Arab Rep.','Libya','South Africa','Nigeria','Morocco','Australia','China','India','Thailand','Japan','Korea, Rep.','Israel','Saudi Arabia','Malaysia','Indonesia','Russian Federation','Turkiye','Spain','Bulgaria','France','Italy','Germany','United Kingdom','Norway','Sweden','Greece']\n",
    "Nation_code= ['USA','CAN','MEX','CRI','PAN','BRA','ARG','CHL','URY','BOL','PER','EGY','LBY','ZAF','NGA','MAR','AUS','CHN','IND','THA','JPN','KOR','ISR','SAU','MYS','IDN','RUS','TUR','ESP','BGR','FRA','ITA','DEU','GBR','NOR','SWE','GRC']\n",
    "res2 = {} \n",
    "for key in Nation_code: \n",
    "    for value in Nation: \n",
    "        res2[key] = value \n",
    "        Nation.remove(value) \n",
    "        break\n",
    "print(res2)\n",
    "lista_nombre=[]\n",
    "for x in codigo_pais:\n",
    "    lista_nombre.append(res2[x])\n",
    "df_nombre=pd.DataFrame(lista_nombre,columns=['NOMBRE'])\n",
    "df=pd.concat([df_pais,df_nombre],axis=1)"
   ]
  }
 ],
 "metadata": {
  "kernelspec": {
   "display_name": "Python 3.10.4 64-bit",
   "language": "python",
   "name": "python3"
  },
  "language_info": {
   "codemirror_mode": {
    "name": "ipython",
    "version": 3
   },
   "file_extension": ".py",
   "mimetype": "text/x-python",
   "name": "python",
   "nbconvert_exporter": "python",
   "pygments_lexer": "ipython3",
   "version": "3.10.4"
  },
  "orig_nbformat": 4,
  "vscode": {
   "interpreter": {
    "hash": "6e3977c52f5249dbc2a33b897faad1e0916758085298811edbd14ed6ad707d81"
   }
  }
 },
 "nbformat": 4,
 "nbformat_minor": 2
}
