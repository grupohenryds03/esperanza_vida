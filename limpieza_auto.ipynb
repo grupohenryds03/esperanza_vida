{
 "cells": [
  {
   "cell_type": "markdown",
   "metadata": {},
   "source": [
    "## DATA CLEANING"
   ]
  },
  {
   "cell_type": "markdown",
   "metadata": {},
   "source": [
    "En este apartado se realizaran las etapas de preprocesamiento de datos.\n",
    "\n",
    "Trabajaremos con con nuestra tabla de hechos que se encuentra en snowflake y github."
   ]
  },
  {
   "cell_type": "code",
   "execution_count": 1,
   "metadata": {},
   "outputs": [],
   "source": [
    "import pandas as pd\n",
    "import numpy as np\n",
    "from sklearn import preprocessing\n",
    "from sklearn.impute import KNNImputer\n",
    "import ssl"
   ]
  },
  {
   "cell_type": "code",
   "execution_count": 110,
   "metadata": {},
   "outputs": [],
   "source": [
    "ssl._create_default_https_context = ssl._create_unverified_context\n",
    "df=pd.read_csv('https://raw.githubusercontent.com/grupohenryds03/esperanza_vida/main/datasets/EV.csv') # se importa el csv crudo"
   ]
  },
  {
   "cell_type": "code",
   "execution_count": 111,
   "metadata": {},
   "outputs": [],
   "source": [
    "df.drop_duplicates(inplace = True) # eliminamos las filas duplicadas\n",
    "indicadores = df['ID_INDICADOR'].unique()\n",
    "indicadores.sort()\n",
    "Ind_out = [12] # sacamos el indicador 12 tambien por la redundancia en indicadores\n",
    "for i in indicadores:\n",
    "    x = (df[df['ID_INDICADOR'] == i].VALOR.isnull().sum()/len(df[df['ID_INDICADOR'] == i])) * 100\n",
    "    if x > 20:\n",
    "        Ind_out.append(i)\n",
    "for i in Ind_out:\n",
    "    df = df[df['ID_INDICADOR'] != i] # Sacamos los indicadores dentro de Ind_Out\n",
    "\n",
    "#-----------------------------------------------------\n",
    "\n",
    "lista_pais=df['ID_PAIS']\n",
    "lista_income=df['ID_INCOME']\n",
    "\n",
    "#-----------------------------------------------------\n",
    "label_encoder = preprocessing.LabelEncoder()\n",
    "df['ID_PAIS'] = label_encoder.fit_transform(df['ID_PAIS'])\n",
    "df['ID_INCOME'] = label_encoder.fit_transform(df['ID_INCOME'])\n",
    "\n",
    "#-----------------------------------------------------\n",
    "imputer = KNNImputer(n_neighbors=2, weights='distance') #Reemplazamos los Valores faltantes con KNNImputer\n",
    "after = imputer.fit_transform(df) #Creamos un Data Frame usando 'after' que tiene los datos imputados.\n",
    "columnas = df.columns.values\n",
    "df_limpio = pd.DataFrame(after, columns=columnas) \n",
    "\n",
    "#-----------------------------------------------------\n",
    "df_limpio.ID_PAIS=df_limpio.ID_PAIS.astype(int)\n",
    "df_limpio.ID_INCOME=df_limpio.ID_INCOME.astype(int)\n",
    "df_limpio.ID_CONTINENTE=df_limpio.ID_CONTINENTE.astype(int)\n",
    "df_limpio.ANIO=df_limpio.ANIO.astype(int)\n",
    "df_limpio.ID_INDICADOR=df_limpio.ID_INDICADOR.astype(int)\n",
    "df_limpio.VALOR=round(df_limpio.VALOR,2)"
   ]
  },
  {
   "cell_type": "code",
   "execution_count": 115,
   "metadata": {},
   "outputs": [],
   "source": [
    "lista_X=lista_income\n",
    "lista_W=list(df['ID_INCOME'])"
   ]
  },
  {
   "cell_type": "code",
   "execution_count": 64,
   "metadata": {},
   "outputs": [],
   "source": [
    "lista_p=list(lista_pais)\n",
    "lista_id=list(df_limpio.ID_PAIS)"
   ]
  },
  {
   "cell_type": "code",
   "execution_count": 65,
   "metadata": {},
   "outputs": [],
   "source": [
    "res = {} \n",
    "for key in lista_id: \n",
    "    for value in lista_p: \n",
    "        res[key] = value \n",
    "        lista_p.remove(value) \n",
    "        break "
   ]
  },
  {
   "cell_type": "code",
   "execution_count": 83,
   "metadata": {},
   "outputs": [],
   "source": [
    "id=list(res)\n",
    "codigo=list(res.items())\n",
    "codigo_pais=list(res.values())"
   ]
  },
  {
   "cell_type": "code",
   "execution_count": 81,
   "metadata": {},
   "outputs": [],
   "source": [
    "df_pais=pd.DataFrame(codigo, columns=['ID_PAIS','CODIGO_PAIS'])"
   ]
  },
  {
   "cell_type": "code",
   "execution_count": 96,
   "metadata": {},
   "outputs": [],
   "source": [
    "Nation = ['United States', 'Canada','Mexico','Costa Rica','Panama','Brazil','Argentina','Chile','Uruguay','Bolivia','Peru','Egypt, Arab Rep.','Libya','South Africa','Nigeria','Morocco','Australia','China','India','Thailand','Japan','Korea, Rep.','Israel','Saudi Arabia','Malaysia','Indonesia','Russian Federation','Turkiye','Spain','Bulgaria','France','Italy','Germany','United Kingdom','Norway','Sweden','Greece']\n",
    "Nation_code= ['USA','CAN','MEX','CRI','PAN','BRA','ARG','CHL','URY','BOL','PER','EGY','LBY','ZAF','NGA','MAR','AUS','CHN','IND','THA','JPN','KOR','ISR','SAU','MYS','IDN','RUS','TUR','ESP','BGR','FRA','ITA','DEU','GBR','NOR','SWE','GRC']"
   ]
  },
  {
   "cell_type": "code",
   "execution_count": 97,
   "metadata": {},
   "outputs": [
    {
     "name": "stdout",
     "output_type": "stream",
     "text": [
      "{'USA': 'United States', 'CAN': 'Canada', 'MEX': 'Mexico', 'CRI': 'Costa Rica', 'PAN': 'Panama', 'BRA': 'Brazil', 'ARG': 'Argentina', 'CHL': 'Chile', 'URY': 'Uruguay', 'BOL': 'Bolivia', 'PER': 'Peru', 'EGY': 'Egypt, Arab Rep.', 'LBY': 'Libya', 'ZAF': 'South Africa', 'NGA': 'Nigeria', 'MAR': 'Morocco', 'AUS': 'Australia', 'CHN': 'China', 'IND': 'India', 'THA': 'Thailand', 'JPN': 'Japan', 'KOR': 'Korea, Rep.', 'ISR': 'Israel', 'SAU': 'Saudi Arabia', 'MYS': 'Malaysia', 'IDN': 'Indonesia', 'RUS': 'Russian Federation', 'TUR': 'Turkiye', 'ESP': 'Spain', 'BGR': 'Bulgaria', 'FRA': 'France', 'ITA': 'Italy', 'DEU': 'Germany', 'GBR': 'United Kingdom', 'NOR': 'Norway', 'SWE': 'Sweden', 'GRC': 'Greece'}\n"
     ]
    }
   ],
   "source": [
    "res2 = {} \n",
    "for key in Nation_code: \n",
    "    for value in Nation: \n",
    "        res2[key] = value \n",
    "        Nation.remove(value) \n",
    "        break\n",
    "print(res2)"
   ]
  },
  {
   "cell_type": "code",
   "execution_count": 98,
   "metadata": {},
   "outputs": [],
   "source": [
    "lista_nombre=[]\n",
    "for x in codigo_pais:\n",
    "    lista_nombre.append(res2[x])"
   ]
  },
  {
   "cell_type": "code",
   "execution_count": 103,
   "metadata": {},
   "outputs": [],
   "source": [
    "df_nombre=pd.DataFrame(lista_nombre,columns=['NOMBRE'])"
   ]
  },
  {
   "cell_type": "code",
   "execution_count": 105,
   "metadata": {},
   "outputs": [],
   "source": [
    "df=pd.concat([df_pais,df_nombre],axis=1)"
   ]
  },
  {
   "cell_type": "code",
   "execution_count": 107,
   "metadata": {},
   "outputs": [],
   "source": [
    "df.to_csv('datasets/pais.csv')"
   ]
  }
 ],
 "metadata": {
  "kernelspec": {
   "display_name": "Python 3.10.8 64-bit",
   "language": "python",
   "name": "python3"
  },
  "language_info": {
   "codemirror_mode": {
    "name": "ipython",
    "version": 3
   },
   "file_extension": ".py",
   "mimetype": "text/x-python",
   "name": "python",
   "nbconvert_exporter": "python",
   "pygments_lexer": "ipython3",
   "version": "3.10.8"
  },
  "orig_nbformat": 4,
  "vscode": {
   "interpreter": {
    "hash": "aee8b7b246df8f9039afb4144a1f6fd8d2ca17a180786b69acc140d282b71a49"
   }
  }
 },
 "nbformat": 4,
 "nbformat_minor": 2
}
