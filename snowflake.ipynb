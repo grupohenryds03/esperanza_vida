{
 "cells": [
  {
   "cell_type": "code",
   "execution_count": null,
   "metadata": {},
   "outputs": [],
   "source": [
    "# se importa el conector de snowflake\n",
    "import snowflake.connector \n",
    "# se importa del modulo de swnoflake la herramienta de pandas para ingestar un dataframe a una tabla de snowflake\n",
    "from snowflake.connector.pandas_tools import write_pandas \n",
    "import pandas as pd"
   ]
  },
  {
   "cell_type": "code",
   "execution_count": null,
   "metadata": {},
   "outputs": [],
   "source": [
    "#se crea conexión\n",
    "conn = snowflake.connector.connect(\n",
    "    user='grupods03',\n",
    "    password='Henry2022#',\n",
    "    account='nr28668.sa-east-1.aws',\n",
    "    warehouse='PRUEBA',\n",
    "    role ='ACCOUNTADMIN',\n",
    "    schema ='PUBLIC')\n",
    "\n",
    "cur = conn.cursor() # se inicializa la conexión Creates a cursor object. Each statement will be executed in a new cursor object."
   ]
  },
  {
   "cell_type": "markdown",
   "metadata": {},
   "source": [
    "Data Definition Language (DDL) commands are used to create, manipulate, and modify objects in Snowflake, such as users, virtual warehouses, databases, schemas, tables, views, columns, functions, and stored procedures.\n",
    "The following commands serve as the base for all DDL commands:\n",
    "\n",
    "- ALTER <object>\n",
    "- COMMENT\n",
    "- CREATE <object>\n",
    "- DESCRIBE <object>\n",
    "- DROP <object>\n",
    "- SHOW <objects>\n",
    "- USE <object>"
   ]
  },
  {
   "cell_type": "code",
   "execution_count": null,
   "metadata": {},
   "outputs": [],
   "source": [
    "viewquery = \"\"\"Use database PRUEBA\"\"\" # se inicializa en database prueba\n",
    "cur.execute(viewquery)\n",
    "cur.execute(\"\"\"select * from PEPE\"\"\") # se listan totos los elementos de la tabla PEPE en el database prueba\n",
    "cur.execute(\"\"\"\n",
    "    CREATE OR REPLACE TABLE costumers (\n",
    "    name string,\n",
    "    balance int\n",
    "    );\"\"\") # se crea la tabla costumers con dos colunmas"
   ]
  },
  {
   "cell_type": "code",
   "execution_count": null,
   "metadata": {},
   "outputs": [],
   "source": [
    "df = pd.DataFrame([('Mark', 10), ('Luke', 20)], columns=['NAME', 'BALANCE']) # se crea dataframe con pandas\n",
    "write_pandas(conn, df, 'COSTUMERS') # se ingesta el dataframe pd a la tabla costumers\n",
    "# se cortan las conexiones\n",
    "cur.close()\n",
    "conn.close()\n"
   ]
  },
  {
   "cell_type": "code",
   "execution_count": null,
   "metadata": {},
   "outputs": [],
   "source": []
  },
  {
   "cell_type": "markdown",
   "metadata": {},
   "source": [
    "data manipulation language (DML) commands, grouped by category.\n",
    "Commands for inserting, deleting, updating, and merging data in Snowflake tables:\n",
    "\n",
    "INSERT\n",
    "INSERT (multi-table)\n",
    "MERGE\n",
    "UPDATE\n",
    "DELETE\n",
    "TRUNCATE TABLE\n",
    "\n",
    "Data Loading / Unloading DML Commands for bulk copying data into and out of Snowflake tables:\n",
    "\n",
    "COPY INTO <table> (loading/importing data)\n",
    "COPY INTO <location> (unloading/exporting data)\n",
    "\n"
   ]
  },
  {
   "cell_type": "markdown",
   "metadata": {},
   "source": [
    "File Staging Commands (for Data Loading / Unloading)\n",
    "These commands do not perform any actual DML, but are used to stage and manage files stored in Snowflake locations (named internal stages (nube propia de snowflake), table stages(nube externa AWS (ej.:Buket S3), Azure, etc.., conectada con snowflake), and user stages, for the purpose of loading and unloading data:\n",
    "\n",
    "PUT\n",
    "GET\n",
    "LIST (can also be used with named external stages)\n",
    "REMOVE"
   ]
  },
  {
   "cell_type": "code",
   "execution_count": null,
   "metadata": {},
   "outputs": [],
   "source": []
  },
  {
   "cell_type": "code",
   "execution_count": 1,
   "metadata": {},
   "outputs": [
    {
     "name": "stdout",
     "output_type": "stream",
     "text": [
      "Prueba\n"
     ]
    }
   ],
   "source": [
    "print('Prueba')"
   ]
  }
 ],
 "metadata": {
  "kernelspec": {
   "display_name": "Python 3.10.4 64-bit",
   "language": "python",
   "name": "python3"
  },
  "language_info": {
   "codemirror_mode": {
    "name": "ipython",
    "version": 3
   },
   "file_extension": ".py",
   "mimetype": "text/x-python",
   "name": "python",
   "nbconvert_exporter": "python",
   "pygments_lexer": "ipython3",
   "version": "3.10.4"
  },
  "orig_nbformat": 4,
  "vscode": {
   "interpreter": {
    "hash": "aee8b7b246df8f9039afb4144a1f6fd8d2ca17a180786b69acc140d282b71a49"
   }
  }
 },
 "nbformat": 4,
 "nbformat_minor": 2
}
