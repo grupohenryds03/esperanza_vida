{
 "cells": [
  {
   "cell_type": "code",
   "execution_count": 46,
   "metadata": {},
   "outputs": [],
   "source": [
    "# se importa el conector de snowflake\n",
    "import snowflake.connector \n",
    "# se importa del modulo de swnoflake la herramienta de pandas para ingestar un dataframe a una tabla de snowflake\n",
    "from snowflake.connector.pandas_tools import write_pandas \n",
    "import pandas as pd"
   ]
  },
  {
   "cell_type": "code",
   "execution_count": 47,
   "metadata": {},
   "outputs": [],
   "source": [
    "#se crea conexión\n",
    "conn = snowflake.connector.connect(\n",
    "    user='grupods03',\n",
    "    password='Henry2022#',\n",
    "    account='nr28668.sa-east-1.aws'\n",
    "   )\n"
   ]
  },
  {
   "cell_type": "code",
   "execution_count": 48,
   "metadata": {},
   "outputs": [],
   "source": [
    "def execute_query(connection, query):\n",
    "    cursor = connection.cursor() # se inicializa la conexión Creates a cursor object. Each statement will be executed in a new cursor object.\n",
    "    cursor.execute(query)\n",
    "    cursor.close()"
   ]
  },
  {
   "cell_type": "markdown",
   "metadata": {},
   "source": [
    "Data Definition Language (DDL) commands are used to create, manipulate, and modify objects in Snowflake, such as users, virtual warehouses, databases, schemas, tables, views, columns, functions, and stored procedures.\n",
    "The following commands serve as the base for all DDL commands:\n",
    "- ALTER\n",
    "- COMMENT\n",
    "- CREATE\n",
    "- DESCRIBE\n",
    "- DROP\n",
    "- SHOW\n",
    "- USE"
   ]
  },
  {
   "cell_type": "code",
   "execution_count": 51,
   "metadata": {},
   "outputs": [],
   "source": [
    "viewquery = \"\"\"create warehouse DW_PRUEBA\"\"\" # se inicializa en database prueba\n",
    "\n",
    "execute_query(conn, viewquery)\n"
   ]
  },
  {
   "cell_type": "code",
   "execution_count": null,
   "metadata": {},
   "outputs": [],
   "source": [
    "viewquery = \"\"\"Use database PRUEBA\"\"\" # se inicializa en database prueba\n",
    "\n",
    "execute_query(viewquery)\n",
    "\n",
    "viewquery =\"\"\"select * from PEPE\"\"\" # se listan totos los elementos de la tabla PEPE en el database prueba\n",
    "\n",
    "execute_query(viewquery)\n",
    " \n",
    "viewquery =\"\"\"\n",
    "    CREATE OR REPLACE TABLE costumers (\n",
    "    name string,\n",
    "    balance int\n",
    "    );\"\"\" # se crea la tabla costumers con dos colunmas\n",
    "\n",
    "execute_query(viewquery)"
   ]
  },
  {
   "cell_type": "code",
   "execution_count": null,
   "metadata": {},
   "outputs": [],
   "source": [
    "df = pd.DataFrame([('Mark', 10), ('Luke', 20)], columns=['NAME', 'BALANCE']) # se crea dataframe con pandas\n",
    "write_pandas(conn, df, 'COSTUMERS') # se ingesta el dataframe pd a la tabla costumers\n",
    "# se cortan las conexiones\n",
    "cur.close()\n",
    "conn.close()"
   ]
  },
  {
   "cell_type": "markdown",
   "metadata": {},
   "source": [
    "data manipulation language (DML) commands, grouped by category.\n",
    "Commands for inserting, deleting, updating, and merging data in Snowflake tables:\n",
    "\n",
    "- INSERT\n",
    "- INSERT (multi-table)\n",
    "- MERGE\n",
    "- UPDATE\n",
    "- DELETE\n",
    "- TRUNCATE TABLE\n",
    "\n",
    "Data Loading / Unloading DML Commands for bulk copying data into and out of Snowflake tables:\n",
    "\n",
    "- COPY INTO <table> (loading/importing data)\n",
    "- COPY INTO <location> (unloading/exporting data)\n"
   ]
  },
  {
   "cell_type": "markdown",
   "metadata": {},
   "source": [
    "File Staging Commands (for Data Loading / Unloading)\n",
    "These commands do not perform any actual DML, but are used to stage and manage files stored in Snowflake locations (named internal stages (nube propia de snowflake), table stages(nube externa AWS (ej.:Buket S3), Azure, etc.., conectada con snowflake), and user stages, for the purpose of loading and unloading data:\n",
    "- PUT\n",
    "- GET\n",
    "- LIST (can also be used with named external stages)\n",
    "- REMOVE"
   ]
  },
  {
   "cell_type": "code",
   "execution_count": 3,
   "metadata": {},
   "outputs": [],
   "source": [
    "\n",
    "Nation = ['United States', 'Canada','Mexico','Costa Rica','Panama','Brazil','Argentina','Chile','Uruguay','Bolivia','Peru','Egypt, Arab Rep.','Libya','South Africa','Nigeria','Morocco','Australia','China','India','Thailand','Japan','Korea, Rep.','Israel','Saudi Arabia','Malaysia','Indonesia','Russian Federation','Turkiye','Spain','Bulgaria','France','Italy','Germany','United Kingdom','Norway','Sweden','Greece']\n",
    "Nation_code= ['USA','CAN','MEX','CRI','PAN','BRA','ARG','CHL','URY','BOL','PER','EGY','LBY','ZAF','NGA','MAR','AUS','CHN','IND','THA','JPN','KOR','ISR','SAU','MYS','IDN','RUS','TUR','ESP','BGR','FRA','ITA','DEU','GBR','NOR','SWE','GRC']\n",
    "Indicador = ['Average precipitation in depth (mm per year)',\n",
    "'emisiones de CO2 (kt)',\n",
    "'crecimiento de la poblacion (% anual)',\n",
    "'Educational attainment, at least completed primary, population 25+ years, female (%) (cumulative)',\n",
    "'School enrollment, tertiary (% gross)',\n",
    "'Tasa de alfabetizacion, total adultos (% de personas)',\n",
    "'Hepatitis B (HepB3) immunization coverage among 1-year-olds (%)',\n",
    "'Immunization, DPT (% of children ages 12-23 months)',\n",
    "'Immunization, measles (% of children ages 12-23 months)',\n",
    "'Incidence of HIV, all (per 1,000 uninfected population)',\n",
    "'Mortality rate, under-5 (per 1,000 live births)',\n",
    "'Number of deaths ages 5-9 years',\n",
    "'Number of infant deaths (per 1,000 live births)',\n",
    "'Polio (Pol3) immunization covergae among 1-year-olds (%)',\n",
    "'prevalencia del consumo de tabaco, hombres',\n",
    "'prevalencia del consumo de tabaco, mujeres',\n",
    "'tasa de mortalidad materna (cada 100.000 nacidos vivos)',\n",
    "'tasa de mortalidad menores de 5 años (por 1000nacidos vivos)',\n",
    "'tasa de mortalidad, adultos hombres (por cada 1000 adultos)',\n",
    "'tasa de mortalidad, adultos mujeres (por cada 1000 adultos)',\n",
    "'Total alcohol consumption per capita (liters of pure alcohol, projected estimates, 15+ years of age)',\n",
    "'Access to clean fuels and technologies for cooking, rural (% of rural population)',\n",
    "'Current education expenditure, primary (% of total expenditure in primary public institutions)',\n",
    "'Current health expenditure (% of GDP)',\n",
    "'desempleo total (% de la poblacion laboral)',\n",
    "'esperanza de vida al nacer, hombres (años)',\n",
    "'esperanza de vida al nacer, muejres (años)',\n",
    "'esperanza de vida al nacer, Total (años)',\n",
    "'gasto publico (% del pib)',\n",
    "'gasto publico en educación, total (% del pbi)',\n",
    "'GDP per capita (constant 2015 US$)',\n",
    "'poblacion que vive en barrios marginales (% de la poblacion urbana)',\n",
    "'Población Rural (% de la poblacion total)',\n",
    "'poblacion urbana (%poblacion total)',\n",
    "'Research and development expenditure (% of GDP)',\n",
    "'Researchers in R&D (per million people)',\n",
    "'tasa de recuento de la pobreza, multidimensional (%de la poblacion total)',\n",
    "'Trade in services (% of GDP)'\n",
    "]\n",
    "Indicador_code = ['AG.LND.PRCP.MM',\n",
    "'EN.ATM.CO2E.KT',\n",
    "'SP.POP.GROW',\n",
    "'SE.PRM.CUAT.FE.ZS',\n",
    "'SE.TER.ENRR',\n",
    "'SE.ADT.LITR.ZS',\n",
    "'CSV from WHO',\n",
    "'SH.IMM.IDPT',\n",
    "'SH.IMM.MEAS',\n",
    "'SH.HIV.INCD.TL.P3',\n",
    "'SH.DYN.MORT',\n",
    "'SH.DTH.0509',\n",
    "'SH.DTH.IMRT.IN',\n",
    "'CSV from WHO',\n",
    "'SH.PRV.SMOK.MA',\n",
    "'SH.PRV.SMOK.FE',\n",
    "'SH.STA.MMRT',\n",
    "'SH.DYN.MORT',\n",
    "'SP.DYN.AMRT.MA',\n",
    "'SP.DYN.AMRT.FE',\n",
    "'SH.ALC.PCAP.LI',\n",
    "'EG.CFT.ACCS.RU.ZS',\n",
    "'SE.XPD.CPRM.ZS',\n",
    "'SH.XPD.CHEX.GD.ZS',\n",
    "'SL.UEM.TOTL.NE.ZS',\n",
    "'SP.DYN.LE00.MA.IN',\n",
    "'SP.DYN.LE00.FE.IN',\n",
    "'SP.DYN.LE00.IN',\n",
    "'GC.XPN.TOTL.GD.ZS',\n",
    "'SE.XPD.TOTL.GD.ZS',\n",
    "'NY.GDP.PCAP.KD',\n",
    "'EN.POP.SLUM.UR.ZS',\n",
    "'SP.RUR.TOTL.ZS',\n",
    "'SP.URB.TOTL.IN.ZS',\n",
    "'GB.XPD.RSDV.GD.ZS',\n",
    "'SP.POP.SCIE.RD.P6',\n",
    "'SI.POV.MDIM',\n",
    "'BG.GSR.NFSV.GD.ZS'\n",
    "]\n"
   ]
  },
  {
   "cell_type": "code",
   "execution_count": 1,
   "metadata": {},
   "outputs": [],
   "source": [
    "import pandas as pd\n",
    "import wbgapi as wb"
   ]
  },
  {
   "cell_type": "code",
   "execution_count": 20,
   "metadata": {},
   "outputs": [],
   "source": [
    "df=wb.data.DataFrame(Indicador_code, \n",
    "                  Nation_code, \n",
    "                  mrv= 30,\n",
    "                  columns='series',\n",
    "                  numericTimeKeys=True\n",
    "                  )"
   ]
  },
  {
   "cell_type": "code",
   "execution_count": 22,
   "metadata": {},
   "outputs": [],
   "source": [
    "df.to_csv('df_hecho.csv')"
   ]
  },
  {
   "cell_type": "code",
   "execution_count": 35,
   "metadata": {},
   "outputs": [],
   "source": [
    "import snowflake.connector as sf\n",
    "\n",
    "conn=sf.connect(user='grupods03',password='Henry2022#',account='nr28668.sa-east-1.aws')\n",
    "\n",
    "def execute_query(connection, query):\n",
    "    cursor = connection.cursor()\n",
    "    cursor.execute(query)\n",
    "    cursor.close()"
   ]
  },
  {
   "cell_type": "code",
   "execution_count": 38,
   "metadata": {},
   "outputs": [],
   "source": [
    "\n",
    "viewquery = \"\"\"Use database PRUEBA\"\"\" # se inicializa en database prueba\n",
    "execute_query(conn,viewquery)\n"
   ]
  },
  {
   "cell_type": "code",
   "execution_count": 44,
   "metadata": {},
   "outputs": [],
   "source": [
    "sql=\"create stage my_s3_stage storage_integration = s3_int url = 's3://'\""
   ]
  },
  {
   "cell_type": "code",
   "execution_count": 45,
   "metadata": {},
   "outputs": [
    {
     "ename": "ProgrammingError",
     "evalue": "002003 (02000): SQL compilation error:\nStage 'PRUEBA.PUBLIC.\"%MY_S3_STAGE\"' does not exist or not authorized.",
     "output_type": "error",
     "traceback": [
      "\u001b[0;31m---------------------------------------------------------------------------\u001b[0m",
      "\u001b[0;31mProgrammingError\u001b[0m                          Traceback (most recent call last)",
      "Cell \u001b[0;32mIn [45], line 4\u001b[0m\n\u001b[1;32m      1\u001b[0m csv_file \u001b[39m=\u001b[39m \u001b[39m'\u001b[39m\u001b[39m/Users/josetoledo/Desktop/prueba/df_hecho.csv\u001b[39m\u001b[39m'\u001b[39m\n\u001b[1;32m      2\u001b[0m sql \u001b[39m=\u001b[39m \u001b[39m\"\u001b[39m\u001b[39mPUT file://\u001b[39m\u001b[39m\"\u001b[39m \u001b[39m+\u001b[39m csv_file \u001b[39m+\u001b[39m \u001b[39m\"\u001b[39m\u001b[39m @\u001b[39m\u001b[39m%\u001b[39m\u001b[39mmy_s3_stage auto_compress=true\u001b[39m\u001b[39m\"\u001b[39m\n\u001b[0;32m----> 4\u001b[0m execute_query(conn, sql)\n",
      "Cell \u001b[0;32mIn [35], line 7\u001b[0m, in \u001b[0;36mexecute_query\u001b[0;34m(connection, query)\u001b[0m\n\u001b[1;32m      5\u001b[0m \u001b[39mdef\u001b[39;00m \u001b[39mexecute_query\u001b[39m(connection, query):\n\u001b[1;32m      6\u001b[0m     cursor \u001b[39m=\u001b[39m connection\u001b[39m.\u001b[39mcursor()\n\u001b[0;32m----> 7\u001b[0m     cursor\u001b[39m.\u001b[39;49mexecute(query)\n\u001b[1;32m      8\u001b[0m     cursor\u001b[39m.\u001b[39mclose()\n",
      "File \u001b[0;32m/Library/Frameworks/Python.framework/Versions/3.10/lib/python3.10/site-packages/snowflake/connector/cursor.py:803\u001b[0m, in \u001b[0;36mSnowflakeCursor.execute\u001b[0;34m(self, command, params, _bind_stage, timeout, _exec_async, _no_retry, _do_reset, _put_callback, _put_azure_callback, _put_callback_output_stream, _get_callback, _get_azure_callback, _get_callback_output_stream, _show_progress_bar, _statement_params, _is_internal, _describe_only, _no_results, _is_put_get, _raise_put_get_error, _force_put_overwrite, file_stream)\u001b[0m\n\u001b[1;32m    799\u001b[0m     is_integrity_error \u001b[39m=\u001b[39m (\n\u001b[1;32m    800\u001b[0m         code \u001b[39m==\u001b[39m \u001b[39m\"\u001b[39m\u001b[39m100072\u001b[39m\u001b[39m\"\u001b[39m\n\u001b[1;32m    801\u001b[0m     )  \u001b[39m# NULL result in a non-nullable column\u001b[39;00m\n\u001b[1;32m    802\u001b[0m     error_class \u001b[39m=\u001b[39m IntegrityError \u001b[39mif\u001b[39;00m is_integrity_error \u001b[39melse\u001b[39;00m ProgrammingError\n\u001b[0;32m--> 803\u001b[0m     Error\u001b[39m.\u001b[39;49merrorhandler_wrapper(\u001b[39mself\u001b[39;49m\u001b[39m.\u001b[39;49mconnection, \u001b[39mself\u001b[39;49m, error_class, errvalue)\n\u001b[1;32m    804\u001b[0m \u001b[39mreturn\u001b[39;00m \u001b[39mself\u001b[39m\n",
      "File \u001b[0;32m/Library/Frameworks/Python.framework/Versions/3.10/lib/python3.10/site-packages/snowflake/connector/errors.py:275\u001b[0m, in \u001b[0;36mError.errorhandler_wrapper\u001b[0;34m(connection, cursor, error_class, error_value)\u001b[0m\n\u001b[1;32m    252\u001b[0m \u001b[39m@staticmethod\u001b[39m\n\u001b[1;32m    253\u001b[0m \u001b[39mdef\u001b[39;00m \u001b[39merrorhandler_wrapper\u001b[39m(\n\u001b[1;32m    254\u001b[0m     connection: SnowflakeConnection \u001b[39m|\u001b[39m \u001b[39mNone\u001b[39;00m,\n\u001b[0;32m   (...)\u001b[0m\n\u001b[1;32m    257\u001b[0m     error_value: \u001b[39mdict\u001b[39m[\u001b[39mstr\u001b[39m, \u001b[39mstr\u001b[39m \u001b[39m|\u001b[39m \u001b[39mbool\u001b[39m \u001b[39m|\u001b[39m \u001b[39mint\u001b[39m],\n\u001b[1;32m    258\u001b[0m ) \u001b[39m-\u001b[39m\u001b[39m>\u001b[39m \u001b[39mNone\u001b[39;00m:\n\u001b[1;32m    259\u001b[0m     \u001b[39m\"\"\"Error handler wrapper that calls the errorhandler method.\u001b[39;00m\n\u001b[1;32m    260\u001b[0m \n\u001b[1;32m    261\u001b[0m \u001b[39m    Args:\u001b[39;00m\n\u001b[0;32m   (...)\u001b[0m\n\u001b[1;32m    272\u001b[0m \u001b[39m        exception to the first handler in that order.\u001b[39;00m\n\u001b[1;32m    273\u001b[0m \u001b[39m    \"\"\"\u001b[39;00m\n\u001b[0;32m--> 275\u001b[0m     handed_over \u001b[39m=\u001b[39m Error\u001b[39m.\u001b[39;49mhand_to_other_handler(\n\u001b[1;32m    276\u001b[0m         connection,\n\u001b[1;32m    277\u001b[0m         cursor,\n\u001b[1;32m    278\u001b[0m         error_class,\n\u001b[1;32m    279\u001b[0m         error_value,\n\u001b[1;32m    280\u001b[0m     )\n\u001b[1;32m    281\u001b[0m     \u001b[39mif\u001b[39;00m \u001b[39mnot\u001b[39;00m handed_over:\n\u001b[1;32m    282\u001b[0m         \u001b[39mraise\u001b[39;00m Error\u001b[39m.\u001b[39merrorhandler_make_exception(\n\u001b[1;32m    283\u001b[0m             error_class,\n\u001b[1;32m    284\u001b[0m             error_value,\n\u001b[1;32m    285\u001b[0m         )\n",
      "File \u001b[0;32m/Library/Frameworks/Python.framework/Versions/3.10/lib/python3.10/site-packages/snowflake/connector/errors.py:330\u001b[0m, in \u001b[0;36mError.hand_to_other_handler\u001b[0;34m(connection, cursor, error_class, error_value)\u001b[0m\n\u001b[1;32m    328\u001b[0m \u001b[39mif\u001b[39;00m cursor \u001b[39mis\u001b[39;00m \u001b[39mnot\u001b[39;00m \u001b[39mNone\u001b[39;00m:\n\u001b[1;32m    329\u001b[0m     cursor\u001b[39m.\u001b[39mmessages\u001b[39m.\u001b[39mappend((error_class, error_value))\n\u001b[0;32m--> 330\u001b[0m     cursor\u001b[39m.\u001b[39;49merrorhandler(connection, cursor, error_class, error_value)\n\u001b[1;32m    331\u001b[0m     \u001b[39mreturn\u001b[39;00m \u001b[39mTrue\u001b[39;00m\n\u001b[1;32m    332\u001b[0m \u001b[39melif\u001b[39;00m connection \u001b[39mis\u001b[39;00m \u001b[39mnot\u001b[39;00m \u001b[39mNone\u001b[39;00m:\n",
      "File \u001b[0;32m/Library/Frameworks/Python.framework/Versions/3.10/lib/python3.10/site-packages/snowflake/connector/errors.py:209\u001b[0m, in \u001b[0;36mError.default_errorhandler\u001b[0;34m(connection, cursor, error_class, error_value)\u001b[0m\n\u001b[1;32m    191\u001b[0m \u001b[39m@staticmethod\u001b[39m\n\u001b[1;32m    192\u001b[0m \u001b[39mdef\u001b[39;00m \u001b[39mdefault_errorhandler\u001b[39m(\n\u001b[1;32m    193\u001b[0m     connection: SnowflakeConnection,\n\u001b[0;32m   (...)\u001b[0m\n\u001b[1;32m    196\u001b[0m     error_value: \u001b[39mdict\u001b[39m[\u001b[39mstr\u001b[39m, \u001b[39mstr\u001b[39m],\n\u001b[1;32m    197\u001b[0m ) \u001b[39m-\u001b[39m\u001b[39m>\u001b[39m \u001b[39mNone\u001b[39;00m:\n\u001b[1;32m    198\u001b[0m     \u001b[39m\"\"\"Default error handler that raises an error.\u001b[39;00m\n\u001b[1;32m    199\u001b[0m \n\u001b[1;32m    200\u001b[0m \u001b[39m    Args:\u001b[39;00m\n\u001b[0;32m   (...)\u001b[0m\n\u001b[1;32m    207\u001b[0m \u001b[39m        A Snowflake error.\u001b[39;00m\n\u001b[1;32m    208\u001b[0m \u001b[39m    \"\"\"\u001b[39;00m\n\u001b[0;32m--> 209\u001b[0m     \u001b[39mraise\u001b[39;00m error_class(\n\u001b[1;32m    210\u001b[0m         msg\u001b[39m=\u001b[39merror_value\u001b[39m.\u001b[39mget(\u001b[39m\"\u001b[39m\u001b[39mmsg\u001b[39m\u001b[39m\"\u001b[39m),\n\u001b[1;32m    211\u001b[0m         errno\u001b[39m=\u001b[39merror_value\u001b[39m.\u001b[39mget(\u001b[39m\"\u001b[39m\u001b[39merrno\u001b[39m\u001b[39m\"\u001b[39m),\n\u001b[1;32m    212\u001b[0m         sqlstate\u001b[39m=\u001b[39merror_value\u001b[39m.\u001b[39mget(\u001b[39m\"\u001b[39m\u001b[39msqlstate\u001b[39m\u001b[39m\"\u001b[39m),\n\u001b[1;32m    213\u001b[0m         sfqid\u001b[39m=\u001b[39merror_value\u001b[39m.\u001b[39mget(\u001b[39m\"\u001b[39m\u001b[39msfqid\u001b[39m\u001b[39m\"\u001b[39m),\n\u001b[1;32m    214\u001b[0m         done_format_msg\u001b[39m=\u001b[39merror_value\u001b[39m.\u001b[39mget(\u001b[39m\"\u001b[39m\u001b[39mdone_format_msg\u001b[39m\u001b[39m\"\u001b[39m),\n\u001b[1;32m    215\u001b[0m         connection\u001b[39m=\u001b[39mconnection,\n\u001b[1;32m    216\u001b[0m         cursor\u001b[39m=\u001b[39mcursor,\n\u001b[1;32m    217\u001b[0m     )\n",
      "\u001b[0;31mProgrammingError\u001b[0m: 002003 (02000): SQL compilation error:\nStage 'PRUEBA.PUBLIC.\"%MY_S3_STAGE\"' does not exist or not authorized."
     ]
    }
   ],
   "source": [
    "csv_file = '/Users/josetoledo/Desktop/prueba/df_hecho.csv'\n",
    "sql = \"PUT file://\" + csv_file + \" @%my_s3_stage auto_compress=true\"\n",
    "    \n",
    "execute_query(conn, sql)"
   ]
  },
  {
   "cell_type": "code",
   "execution_count": 39,
   "metadata": {},
   "outputs": [],
   "source": [
    "\n",
    "sql = 'drop stage if exists data_stage'\n",
    "execute_query(conn, sql)\n",
    "\n",
    "sql = 'create stage data_stage file_format = (type = \"csv\" field_delimiter = \",\" skip_header = 1)'\n",
    "execute_query(conn, sql)"
   ]
  },
  {
   "cell_type": "code",
   "execution_count": 40,
   "metadata": {},
   "outputs": [],
   "source": [
    "csv_file = '/Users/josetoledo/Desktop/prueba/df_hecho.csv'\n",
    "sql = \"PUT file://\" + csv_file + \" @DATA_STAGE auto_compress=true\"\n",
    "    \n",
    "execute_query(conn, sql)"
   ]
  },
  {
   "cell_type": "code",
   "execution_count": 42,
   "metadata": {},
   "outputs": [
    {
     "name": "stdout",
     "output_type": "stream",
     "text": [
      "('data_stage/df_hecho.csv.gz', 127424, 'cd7e24237c3bd0a69976527fd4b7219c', 'Thu, 13 Oct 2022 18:20:38 GMT')\n"
     ]
    }
   ],
   "source": [
    "sql = 'list @data_stage'\n",
    "cursor = conn.cursor()\n",
    "cursor.execute(sql)\n",
    "for c in cursor:\n",
    "    print(c)"
   ]
  },
  {
   "cell_type": "code",
   "execution_count": 10,
   "metadata": {},
   "outputs": [],
   "source": [
    "sql = 'copy into xxxxxxx from @DATA_STAGE/xxxxxxx.csv.gz file_format = (type = \"csv\" field_delimiter = \",\" skip_header = 1)' \\\n",
    "          'ON_ERROR = \"ABORT_STATEMENT\" '\n",
    "execute_query(conn, sql)\n",
    "\n"
   ]
  },
  {
   "cell_type": "code",
   "execution_count": 1,
   "metadata": {},
   "outputs": [
    {
     "name": "stdout",
     "output_type": "stream",
     "text": [
      "Prueba\n"
     ]
    }
   ],
   "source": [
    "sql = 'select * from \"DEMO_DB\".\"PUBLIC\".\"STUDENT_MATH_MARK\"'\n",
    "cursor = conn.cursor()\n",
    "cursor.execute(sql)\n",
    "for c in cursor:\n",
    "    print(c)"
   ]
  }
 ],
 "metadata": {
  "kernelspec": {
   "display_name": "Python 3.10.4 64-bit",
   "language": "python",
   "name": "python3"
  },
  "language_info": {
   "codemirror_mode": {
    "name": "ipython",
    "version": 3
   },
   "file_extension": ".py",
   "mimetype": "text/x-python",
   "name": "python",
   "nbconvert_exporter": "python",
   "pygments_lexer": "ipython3",
   "version": "3.10.4"
  },
  "orig_nbformat": 4,
  "vscode": {
   "interpreter": {
    "hash": "aee8b7b246df8f9039afb4144a1f6fd8d2ca17a180786b69acc140d282b71a49"
   }
  }
 },
 "nbformat": 4,
 "nbformat_minor": 2
}
