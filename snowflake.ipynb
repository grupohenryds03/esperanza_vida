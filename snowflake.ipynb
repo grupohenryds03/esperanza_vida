{
 "cells": [
  {
   "cell_type": "code",
   "execution_count": null,
   "metadata": {},
   "outputs": [],
   "source": [
    "# se importa el conector de snowflake\n",
    "import snowflake.connector \n",
    "# se importa del modulo de swnoflake la herramienta de pandas para ingestar un dataframe a una tabla de snowflake\n",
    "from snowflake.connector.pandas_tools import write_pandas \n",
    "import pandas as pd"
   ]
  },
  {
   "cell_type": "code",
   "execution_count": null,
   "metadata": {},
   "outputs": [],
   "source": [
    "#se crea conexión\n",
    "conn = snowflake.connector.connect(\n",
    "    user='grupods03',\n",
    "    password='Henry2022#',\n",
    "    account='nr28668.sa-east-1.aws',\n",
    "    warehouse='PRUEBA',\n",
    "    role ='ACCOUNTADMIN',\n",
    "    schema ='PUBLIC')\n",
    "\n",
    "cur = conn.cursor() # se inicializa la conexión Creates a cursor object. Each statement will be executed in a new cursor object."
   ]
  },
  {
   "cell_type": "markdown",
   "metadata": {},
   "source": [
    "Data Definition Language (DDL) commands are used to create, manipulate, and modify objects in Snowflake, such as users, virtual warehouses, databases, schemas, tables, views, columns, functions, and stored procedures.\n",
    "The following commands serve as the base for all DDL commands:\n",
    "- ALTER\n",
    "- COMMENT\n",
    "- CREATE\n",
    "- DESCRIBE\n",
    "- DROP\n",
    "- SHOW\n",
    "- USE"
   ]
  },
  {
   "cell_type": "code",
   "execution_count": null,
   "metadata": {},
   "outputs": [],
   "source": [
    "viewquery = \"\"\"Use database PRUEBA\"\"\" # se inicializa en database prueba\n",
    "cur.execute(viewquery)\n",
    "cur.execute(\"\"\"select * from PEPE\"\"\") # se listan totos los elementos de la tabla PEPE en el database prueba\n",
    "cur.execute(\"\"\"\n",
    "    CREATE OR REPLACE TABLE costumers (\n",
    "    name string,\n",
    "    balance int\n",
    "    );\"\"\") # se crea la tabla costumers con dos colunmas"
   ]
  },
  {
   "cell_type": "code",
   "execution_count": null,
   "metadata": {},
   "outputs": [],
   "source": [
    "df = pd.DataFrame([('Mark', 10), ('Luke', 20)], columns=['NAME', 'BALANCE']) # se crea dataframe con pandas\n",
    "write_pandas(conn, df, 'COSTUMERS') # se ingesta el dataframe pd a la tabla costumers\n",
    "# se cortan las conexiones\n",
    "cur.close()\n",
    "conn.close()"
   ]
  },
  {
   "cell_type": "markdown",
   "metadata": {},
   "source": [
    "data manipulation language (DML) commands, grouped by category.\n",
    "Commands for inserting, deleting, updating, and merging data in Snowflake tables:\n",
    "\n",
    "- INSERT\n",
    "- INSERT (multi-table)\n",
    "- MERGE\n",
    "- UPDATE\n",
    "- DELETE\n",
    "- TRUNCATE TABLE\n",
    "\n",
    "Data Loading / Unloading DML Commands for bulk copying data into and out of Snowflake tables:\n",
    "\n",
    "- COPY INTO <table> (loading/importing data)\n",
    "- COPY INTO <location> (unloading/exporting data)\n",
    "\n"
   ]
  },
  {
   "cell_type": "markdown",
   "metadata": {},
   "source": [
    "File Staging Commands (for Data Loading / Unloading)\n",
    "These commands do not perform any actual DML, but are used to stage and manage files stored in Snowflake locations (named internal stages (nube propia de snowflake), table stages(nube externa AWS (ej.:Buket S3), Azure, etc.., conectada con snowflake), and user stages, for the purpose of loading and unloading data:\n",
    "\n",
    "PUT\n",
    "GET\n",
    "LIST (can also be used with named external stages)\n",
    "REMOVE"
   ]
  },
  {
   "cell_type": "code",
   "execution_count": 3,
   "metadata": {},
   "outputs": [],
   "source": [
    "\n",
    "Nation = ['United States', 'Canada','Mexico','Costa Rica','Panama','Brazil','Argentina','Chile','Uruguay','Bolivia','Peru','Egypt, Arab Rep.','Libya','South Africa','Nigeria','Morocco','Australia','China','India','Thailand','Japan','Korea, Rep.','Israel','Saudi Arabia','Malaysia','Indonesia','Russian Federation','Turkiye','Spain','Bulgaria','France','Italy','Germany','United Kingdom','Norway','Sweden','Greece']\n",
    "Nation_code= ['USA','CAN','MEX','CRI','PAN','BRA','ARG','CHL','URY','BOL','PER','EGY','LBY','ZAF','NGA','MAR','AUS','CHN','IND','THA','JPN','KOR','ISR','SAU','MYS','IDN','RUS','TUR','ESP','BGR','FRA','ITA','DEU','GBR','NOR','SWE','GRC']\n",
    "Indicador = ['Average precipitation in depth (mm per year)',\n",
    "'emisiones de CO2 (kt)',\n",
    "'crecimiento de la poblacion (% anual)',\n",
    "'Educational attainment, at least completed primary, population 25+ years, female (%) (cumulative)',\n",
    "'School enrollment, tertiary (% gross)',\n",
    "'Tasa de alfabetizacion, total adultos (% de personas)',\n",
    "'Hepatitis B (HepB3) immunization coverage among 1-year-olds (%)',\n",
    "'Immunization, DPT (% of children ages 12-23 months)',\n",
    "'Immunization, measles (% of children ages 12-23 months)',\n",
    "'Incidence of HIV, all (per 1,000 uninfected population)',\n",
    "'Mortality rate, under-5 (per 1,000 live births)',\n",
    "'Number of deaths ages 5-9 years',\n",
    "'Number of infant deaths (per 1,000 live births)',\n",
    "'Polio (Pol3) immunization covergae among 1-year-olds (%)',\n",
    "'prevalencia del consumo de tabaco, hombres',\n",
    "'prevalencia del consumo de tabaco, mujeres',\n",
    "'tasa de mortalidad materna (cada 100.000 nacidos vivos)',\n",
    "'tasa de mortalidad menores de 5 años (por 1000nacidos vivos)',\n",
    "'tasa de mortalidad, adultos hombres (por cada 1000 adultos)',\n",
    "'tasa de mortalidad, adultos mujeres (por cada 1000 adultos)',\n",
    "'Total alcohol consumption per capita (liters of pure alcohol, projected estimates, 15+ years of age)',\n",
    "'Access to clean fuels and technologies for cooking, rural (% of rural population)',\n",
    "'Current education expenditure, primary (% of total expenditure in primary public institutions)',\n",
    "'Current health expenditure (% of GDP)',\n",
    "'desempleo total (% de la poblacion laboral)',\n",
    "'esperanza de vida al nacer, hombres (años)',\n",
    "'esperanza de vida al nacer, muejres (años)',\n",
    "'esperanza de vida al nacer, Total (años)',\n",
    "'gasto publico (% del pib)',\n",
    "'gasto publico en educación, total (% del pbi)',\n",
    "'GDP per capita (constant 2015 US$)',\n",
    "'poblacion que vive en barrios marginales (% de la poblacion urbana)',\n",
    "'Población Rural (% de la poblacion total)',\n",
    "'poblacion urbana (%poblacion total)',\n",
    "'Research and development expenditure (% of GDP)',\n",
    "'Researchers in R&D (per million people)',\n",
    "'tasa de recuento de la pobreza, multidimensional (%de la poblacion total)',\n",
    "'Trade in services (% of GDP)'\n",
    "]\n",
    "Indicador_code = ['AG.LND.PRCP.MM',\n",
    "'EN.ATM.CO2E.KT',\n",
    "'SP.POP.GROW',\n",
    "'SE.PRM.CUAT.FE.ZS',\n",
    "'SE.TER.ENRR',\n",
    "'SE.ADT.LITR.ZS',\n",
    "'CSV from WHO',\n",
    "'SH.IMM.IDPT',\n",
    "'SH.IMM.MEAS',\n",
    "'SH.HIV.INCD.TL.P3',\n",
    "'SH.DYN.MORT',\n",
    "'SH.DTH.0509',\n",
    "'SH.DTH.IMRT.IN',\n",
    "'CSV from WHO',\n",
    "'SH.PRV.SMOK.MA',\n",
    "'SH.PRV.SMOK.FE',\n",
    "'SH.STA.MMRT',\n",
    "'SH.DYN.MORT',\n",
    "'SP.DYN.AMRT.MA',\n",
    "'SP.DYN.AMRT.FE',\n",
    "'SH.ALC.PCAP.LI',\n",
    "'EG.CFT.ACCS.RU.ZS',\n",
    "'SE.XPD.CPRM.ZS',\n",
    "'SH.XPD.CHEX.GD.ZS',\n",
    "'SL.UEM.TOTL.NE.ZS',\n",
    "'SP.DYN.LE00.MA.IN',\n",
    "'SP.DYN.LE00.FE.IN',\n",
    "'SP.DYN.LE00.IN',\n",
    "'GC.XPN.TOTL.GD.ZS',\n",
    "'SE.XPD.TOTL.GD.ZS',\n",
    "'NY.GDP.PCAP.KD',\n",
    "'EN.POP.SLUM.UR.ZS',\n",
    "'SP.RUR.TOTL.ZS',\n",
    "'SP.URB.TOTL.IN.ZS',\n",
    "'GB.XPD.RSDV.GD.ZS',\n",
    "'SP.POP.SCIE.RD.P6',\n",
    "'SI.POV.MDIM',\n",
    "'BG.GSR.NFSV.GD.ZS'\n",
    "]\n"
   ]
  },
  {
   "cell_type": "code",
   "execution_count": 1,
   "metadata": {},
   "outputs": [],
   "source": [
    "import pandas as pd\n",
    "import wbgapi as wb"
   ]
  },
  {
   "cell_type": "code",
   "execution_count": 20,
   "metadata": {},
   "outputs": [],
   "source": [
    "df=wb.data.DataFrame(Indicador_code, \n",
    "                  Nation_code, \n",
    "                  mrv= 30,\n",
    "                  columns='series',\n",
    "                  numericTimeKeys=True\n",
    "                  )"
   ]
  },
  {
   "cell_type": "code",
   "execution_count": 22,
   "metadata": {},
   "outputs": [],
   "source": [
    "df.to_csv('df_hecho.csv')"
   ]
  },
  {
   "cell_type": "code",
   "execution_count": null,
   "metadata": {},
   "outputs": [],
   "source": [
    "conn = snowflake.connector.connect(\n",
    "    user='grupods03',\n",
    "    password='Henry2022#',\n",
    "    account='nr28668.sa-east-1.aws',\n",
    "    warehouse='PRUEBA',\n",
    "    role ='ACCOUNTADMIN',\n",
    "    schema ='PUBLIC')"
   ]
  },
  {
   "cell_type": "code",
   "execution_count": 35,
   "metadata": {},
   "outputs": [],
   "source": [
    "import snowflake.connector as sf\n",
    "\n",
    "conn=sf.connect(user='grupods03',password='Henry2022#',account='nr28668.sa-east-1.aws')\n",
    "\n",
    "def execute_query(connection, query):\n",
    "    cursor = connection.cursor()\n",
    "    cursor.execute(query)\n",
    "    cursor.close()"
   ]
  },
  {
   "cell_type": "code",
   "execution_count": 38,
   "metadata": {},
   "outputs": [],
   "source": [
    "\n",
    "viewquery = \"\"\"Use database PRUEBA\"\"\" # se inicializa en database prueba\n",
    "execute_query(conn,viewquery)\n"
   ]
  },
  {
   "cell_type": "code",
   "execution_count": null,
   "metadata": {},
   "outputs": [],
   "source": [
    "#  sql=\"create stage my_s3_stage storage_integration = s3_int url = 's3://' file_format = my_csv_format\""
   ]
  },
  {
   "cell_type": "code",
   "execution_count": 39,
   "metadata": {},
   "outputs": [],
   "source": [
    "\n",
    "sql = 'drop stage if exists data_stage'\n",
    "execute_query(conn, sql)\n",
    "\n",
    "sql = 'create stage data_stage file_format = (type = \"csv\" field_delimiter = \",\" skip_header = 1)'\n",
    "execute_query(conn, sql)"
   ]
  },
  {
   "cell_type": "code",
   "execution_count": 40,
   "metadata": {},
   "outputs": [],
   "source": [
    "csv_file = '/Users/josetoledo/Desktop/prueba/df_hecho.csv'\n",
    "sql = \"PUT file://\" + csv_file + \" @DATA_STAGE auto_compress=true\"\n",
    "    \n",
    "execute_query(conn, sql)"
   ]
  },
  {
   "cell_type": "code",
   "execution_count": 42,
   "metadata": {},
   "outputs": [
    {
     "name": "stdout",
     "output_type": "stream",
     "text": [
      "('data_stage/df_hecho.csv.gz', 127424, 'cd7e24237c3bd0a69976527fd4b7219c', 'Thu, 13 Oct 2022 18:20:38 GMT')\n"
     ]
    }
   ],
   "source": [
    "sql = 'list @data_stage'\n",
    "cursor = conn.cursor()\n",
    "cursor.execute(sql)\n",
    "for c in cursor:\n",
    "    print(c)"
   ]
  },
  {
   "cell_type": "code",
   "execution_count": 10,
   "metadata": {},
   "outputs": [],
   "source": [
    "sql = 'copy into xxxxxxx from @DATA_STAGE/xxxxxxx.csv.gz file_format = (type = \"csv\" field_delimiter = \",\" skip_header = 1)' \\\n",
    "          'ON_ERROR = \"ABORT_STATEMENT\" '\n",
    "execute_query(conn, sql)\n",
    "\n"
   ]
  },
  {
   "cell_type": "code",
   "execution_count": 1,
   "metadata": {},
   "outputs": [
    {
     "name": "stdout",
     "output_type": "stream",
     "text": [
      "Prueba\n"
     ]
    }
   ],
   "source": [
    "sql = 'select * from \"DEMO_DB\".\"PUBLIC\".\"STUDENT_MATH_MARK\"'\n",
    "cursor = conn.cursor()\n",
    "cursor.execute(sql)\n",
    "for c in cursor:\n",
    "    print(c)"
   ]
  }
 ],
 "metadata": {
  "kernelspec": {
   "display_name": "Python 3.10.4 64-bit",
   "language": "python",
   "name": "python3"
  },
  "language_info": {
   "codemirror_mode": {
    "name": "ipython",
    "version": 3
   },
   "file_extension": ".py",
   "mimetype": "text/x-python",
   "name": "python",
   "nbconvert_exporter": "python",
   "pygments_lexer": "ipython3",
   "version": "3.10.4"
  },
  "orig_nbformat": 4,
  "vscode": {
   "interpreter": {
    "hash": "aee8b7b246df8f9039afb4144a1f6fd8d2ca17a180786b69acc140d282b71a49"
   }
  }
 },
 "nbformat": 4,
 "nbformat_minor": 2
}
